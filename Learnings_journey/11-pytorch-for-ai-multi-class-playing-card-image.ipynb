{
 "cells": [
  {
   "cell_type": "markdown",
   "metadata": {},
   "source": [
    "# Playing cards image classifier\n",
    "Here we are working on datasets of playing cards having 53 sub directories , one for each of the 53 types of cards and 4 categories of dataset.\n",
    "The dataset is imported from kaggle simplifying task of data collection and semistructuring or labeling dataset. "
   ]
  },
  {
   "cell_type": "markdown",
   "metadata": {
    "trusted": true
   },
   "source": [
    "## Approach 1 :\n",
    "* Data ingestion (CSV Loading):Use pandas.read_csv() to load the CSV that maps image paths to labels.\n",
    "* mage Reading: For each row in the CSV, open the corresponding image (using PIL or OpenCV), resize/confirm it is 224x224x3, and convert it to a numpy array.\n",
    "* Data Structure: Store images and labels in lists. Finally, convert them to numpy arrays for further processing.\n",
    "* Using VGG16 or any training-level model with multiclass classification layers:\n"
   ]
  },
  {
   "cell_type": "markdown",
   "metadata": {},
   "source": [
    "\n",
    "## Approach 2 :\n",
    "* Custom Dataset Class: Create a subclass of torch.utils.data.Dataset that reads the CSV file in its __init__() method, and loads/augments images in __getitem__().\n",
    "* Directory Organization (shows capability of handling file tree structure):\n",
    "Since images are organized in subdirectories (one per card type), you can also use libraries like torchvision.datasets.ImageFolder if the CSV isn’t strictly required.\n",
    "* DataLoader: Use DataLoader to handle batching, shuffling, and parallel loading (via multiple workers)."
   ]
  },
  {
   "cell_type": "markdown",
   "metadata": {},
   "source": [
    "### 1. Data ingestion"
   ]
  },
  {
   "cell_type": "code",
   "execution_count": null,
   "metadata": {},
   "outputs": [],
   "source": [
    " "
   ]
  }
 ],
 "metadata": {
  "kaggle": {
   "accelerator": "none",
   "dataSources": [
    {
     "datasetId": 2579480,
     "sourceId": 4532039,
     "sourceType": "datasetVersion"
    }
   ],
   "dockerImageVersionId": 30918,
   "isGpuEnabled": false,
   "isInternetEnabled": true,
   "language": "python",
   "sourceType": "notebook"
  },
  "kernelspec": {
   "display_name": "Python 3",
   "language": "python",
   "name": "python3"
  },
  "language_info": {
   "codemirror_mode": {
    "name": "ipython",
    "version": 3
   },
   "file_extension": ".py",
   "mimetype": "text/x-python",
   "name": "python",
   "nbconvert_exporter": "python",
   "pygments_lexer": "ipython3",
   "version": "3.12.9"
  }
 },
 "nbformat": 4,
 "nbformat_minor": 4
}
