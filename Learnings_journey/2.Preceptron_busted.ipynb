{
 "cells": [
  {
   "cell_type": "markdown",
   "metadata": {},
   "source": [
    "# Simple linear regression problem (Mints)\n",
    "\n",
    "Frank roosevelt: https://www.geeksforgeeks.org/what-is-perceptron-the-simplest-artificial-neural-network/"
   ]
  },
  {
   "cell_type": "markdown",
   "metadata": {},
   "source": []
  },
  {
   "cell_type": "code",
   "execution_count": 1,
   "metadata": {},
   "outputs": [],
   "source": [
    "import pandas as pd\n",
    "import numpy as np"
   ]
  },
  {
   "cell_type": "code",
   "execution_count": 5,
   "metadata": {},
   "outputs": [
    {
     "name": "stderr",
     "output_type": "stream",
     "text": [
      "<>:1: SyntaxWarning: invalid escape sequence '\\d'\n",
      "<>:1: SyntaxWarning: invalid escape sequence '\\d'\n",
      "C:\\Users\\986hi\\AppData\\Local\\Temp\\ipykernel_3288\\3328770015.py:1: SyntaxWarning: invalid escape sequence '\\d'\n",
      "  mints_df = pd.read_csv('..\\data\\separable_data_2d.csv')\n"
     ]
    }
   ],
   "source": [
    "mints_df = pd.read_csv('..\\data\\separable_data_2d.csv')"
   ]
  },
  {
   "cell_type": "code",
   "execution_count": 6,
   "metadata": {},
   "outputs": [
    {
     "data": {
      "text/plain": [
       "(100, 3)"
      ]
     },
     "execution_count": 6,
     "metadata": {},
     "output_type": "execute_result"
    }
   ],
   "source": [
    "mints_df.shape"
   ]
  },
  {
   "cell_type": "code",
   "execution_count": 7,
   "metadata": {},
   "outputs": [
    {
     "data": {
      "text/html": [
       "<div>\n",
       "<style scoped>\n",
       "    .dataframe tbody tr th:only-of-type {\n",
       "        vertical-align: middle;\n",
       "    }\n",
       "\n",
       "    .dataframe tbody tr th {\n",
       "        vertical-align: top;\n",
       "    }\n",
       "\n",
       "    .dataframe thead th {\n",
       "        text-align: right;\n",
       "    }\n",
       "</style>\n",
       "<table border=\"1\" class=\"dataframe\">\n",
       "  <thead>\n",
       "    <tr style=\"text-align: right;\">\n",
       "      <th></th>\n",
       "      <th>y</th>\n",
       "      <th>x1</th>\n",
       "      <th>x2</th>\n",
       "    </tr>\n",
       "  </thead>\n",
       "  <tbody>\n",
       "    <tr>\n",
       "      <th>0</th>\n",
       "      <td>1</td>\n",
       "      <td>0.805</td>\n",
       "      <td>0.382</td>\n",
       "    </tr>\n",
       "    <tr>\n",
       "      <th>1</th>\n",
       "      <td>1</td>\n",
       "      <td>0.690</td>\n",
       "      <td>0.792</td>\n",
       "    </tr>\n",
       "    <tr>\n",
       "      <th>2</th>\n",
       "      <td>0</td>\n",
       "      <td>0.055</td>\n",
       "      <td>0.028</td>\n",
       "    </tr>\n",
       "    <tr>\n",
       "      <th>3</th>\n",
       "      <td>1</td>\n",
       "      <td>0.405</td>\n",
       "      <td>0.939</td>\n",
       "    </tr>\n",
       "    <tr>\n",
       "      <th>4</th>\n",
       "      <td>0</td>\n",
       "      <td>0.424</td>\n",
       "      <td>0.598</td>\n",
       "    </tr>\n",
       "    <tr>\n",
       "      <th>...</th>\n",
       "      <td>...</td>\n",
       "      <td>...</td>\n",
       "      <td>...</td>\n",
       "    </tr>\n",
       "    <tr>\n",
       "      <th>95</th>\n",
       "      <td>0</td>\n",
       "      <td>0.277</td>\n",
       "      <td>0.139</td>\n",
       "    </tr>\n",
       "    <tr>\n",
       "      <th>96</th>\n",
       "      <td>1</td>\n",
       "      <td>0.956</td>\n",
       "      <td>0.875</td>\n",
       "    </tr>\n",
       "    <tr>\n",
       "      <th>97</th>\n",
       "      <td>0</td>\n",
       "      <td>0.522</td>\n",
       "      <td>0.016</td>\n",
       "    </tr>\n",
       "    <tr>\n",
       "      <th>98</th>\n",
       "      <td>1</td>\n",
       "      <td>0.611</td>\n",
       "      <td>0.654</td>\n",
       "    </tr>\n",
       "    <tr>\n",
       "      <th>99</th>\n",
       "      <td>0</td>\n",
       "      <td>0.641</td>\n",
       "      <td>0.347</td>\n",
       "    </tr>\n",
       "  </tbody>\n",
       "</table>\n",
       "<p>100 rows × 3 columns</p>\n",
       "</div>"
      ],
      "text/plain": [
       "    y     x1     x2\n",
       "0   1  0.805  0.382\n",
       "1   1  0.690  0.792\n",
       "2   0  0.055  0.028\n",
       "3   1  0.405  0.939\n",
       "4   0  0.424  0.598\n",
       ".. ..    ...    ...\n",
       "95  0  0.277  0.139\n",
       "96  1  0.956  0.875\n",
       "97  0  0.522  0.016\n",
       "98  1  0.611  0.654\n",
       "99  0  0.641  0.347\n",
       "\n",
       "[100 rows x 3 columns]"
      ]
     },
     "execution_count": 7,
     "metadata": {},
     "output_type": "execute_result"
    }
   ],
   "source": [
    "mints_df"
   ]
  },
  {
   "cell_type": "code",
   "execution_count": 8,
   "metadata": {},
   "outputs": [],
   "source": [
    "#=== Perceptron class ============================================================================================\n",
    "\n",
    "class Perceptron():\n",
    "    \"\"\"\n",
    "    Perceptron model for predicting binary target with random guessing fit() procedure\n",
    "    \"\"\"\n",
    "\n",
    "    def __init__(self, w = None, b = None, y_classes = None):\n",
    "        self.w = w\n",
    "        self.b = b\n",
    "        self.y_classes = y_classes\n",
    "\n",
    "    def fit(self, X, y, MAXGUESSES = 100_000, seed = None):\n",
    "        \"\"\"\n",
    "        Randomly guess hyperplanes until we get one that separates the data,\n",
    "        or until we exhaust our guesses\n",
    "\n",
    "        :param X: 2-D array with >= 1 column of real-valued features\n",
    "        :param y: 1-D array of labels; should have two distinct classes\n",
    "        :param MAXGUESSES: how many times to guess before we give up\n",
    "        :param seed: optional random seed\n",
    "        :return: None; set self.y_clsses, self.w and self.b if a separating hyperplane is found\n",
    "        \"\"\"\n",
    "\n",
    "        # Validate X dimensionality\n",
    "        if X.ndim != 2:\n",
    "            raise AssertionError(f\"X should have 2 dimensions but it has {X.ndim}\")\n",
    "\n",
    "        # Determine/validate y_classes\n",
    "        y_classes = np.unique(y)\n",
    "        if len(y_classes) != 2:\n",
    "            AssertionError(f\"y should have 2 distinct classes, but instead it has {len(y_classes)}\")\n",
    "\n",
    "        # Convert y to 1-d array of {0, 1} where 0 represents class y_classes[0] and 1 represents y_classes[1]\n",
    "        y01 = (y == y_classes[1]).astype('int64')\n",
    "\n",
    "        # Set up a random number generator\n",
    "        gen = np.random.default_rng(seed=seed)\n",
    "\n",
    "        # In order to guess hyperplanes that have a reasonable chance of separating the data, we\n",
    "        # 1) Guess random weights in the range [-1000, 1000]\n",
    "        # 2) Identify a bounding box around the data in X\n",
    "        # 3) Pick a random point P in the bounding box\n",
    "        # 4) Calculate b such that the hyper-plane goes passes through it\n",
    "\n",
    "        # Repeat until we either find a separating hyperplane or we're tired of guessing\n",
    "        for i in range(MAXGUESSES):\n",
    "            # Determine X bounds (bounding box)\n",
    "            X_mins = X.min(axis=0)\n",
    "            X_maxs = X.max(axis=0)\n",
    "\n",
    "            # Guess weights\n",
    "            w = gen.uniform(low=-1000, high=1000, size=X.shape[1])\n",
    "\n",
    "            # Calculate b such that hyperplane goes through a random point inside X's bounding box\n",
    "            P = gen.uniform(low=X_mins, high=X_maxs)\n",
    "            b = -P.dot(w)\n",
    "\n",
    "            # Check if the hyperplane separates the data\n",
    "            yhat = (np.sign(X.dot(w) + b) + 1) / 2\n",
    "            if (np.all(yhat == y01)):\n",
    "                break\n",
    "\n",
    "        # Check outcome based on i\n",
    "        if i == (MAXGUESSES - 1):\n",
    "            print(\"Out of guesses. Maybe this data isn't linearly separable..?\")\n",
    "        else:\n",
    "            print(f\"Found a separating hyperplane in {i + 1} guesses!\")\n",
    "            self.w = w\n",
    "            self.b = b\n",
    "            self.y_classes = y_classes\n",
    "\n",
    "\n",
    "    def predict(self, X):\n",
    "        \"\"\"\n",
    "        Predict on X using this object's w and b.\n",
    "        If w•x + b > 0 we predict y_classes[1], otherwise we predict y_classes[0]\n",
    "\n",
    "        :param X: 2-D array with >= 1 column of real-valued features\n",
    "        :return: 1-D array of predicted class labels\n",
    "        \"\"\"\n",
    "\n",
    "        if self.w is None:\n",
    "            raise AssertionError(f\"Need to fit() a before predict()\")\n",
    "        if X.ndim != 2:\n",
    "            raise AssertionError(f\"X should have 2 dimensions but it has {X.ndim}\")\n",
    "        if X.shape[1] != len(self.w):\n",
    "            raise AssertionError(f\"Perceptron was fit on X with {len(self.w)} columns but this X has {X.shape[1]} columns\")\n",
    "\n",
    "        yhat = (X.dot(self.w) + self.b > 0).astype('int64')\n",
    "        preds = self.y_classes[yhat]\n",
    "\n",
    "        return preds"
   ]
  },
  {
   "cell_type": "code",
   "execution_count": 9,
   "metadata": {},
   "outputs": [],
   "source": [
    "p1 = Perceptron()"
   ]
  },
  {
   "cell_type": "code",
   "execution_count": 10,
   "metadata": {},
   "outputs": [],
   "source": [
    "np.set_printoptions(suppress= True, linewidth= 999)"
   ]
  },
  {
   "cell_type": "code",
   "execution_count": 12,
   "metadata": {},
   "outputs": [
    {
     "name": "stdout",
     "output_type": "stream",
     "text": [
      "Found a separating hyperplane in 7 guesses!\n"
     ]
    }
   ],
   "source": [
    "p1.fit(X= mints_df.loc[0:80, ].to_numpy(), y= mints_df.loc[0:80, 'y'].to_numpy(), seed= 986 )"
   ]
  },
  {
   "cell_type": "code",
   "execution_count": 14,
   "metadata": {},
   "outputs": [
    {
     "data": {
      "text/plain": [
       "array([0, 1, 1, 0, 1, 0, 0, 0, 0, 0, 0, 1, 1, 1, 0, 0, 1, 0, 1, 0], dtype=int64)"
      ]
     },
     "execution_count": 14,
     "metadata": {},
     "output_type": "execute_result"
    }
   ],
   "source": [
    "p1.predict(X= mints_df.loc[80:, ].to_numpy())"
   ]
  },
  {
   "cell_type": "code",
   "execution_count": null,
   "metadata": {},
   "outputs": [],
   "source": []
  }
 ],
 "metadata": {
  "kernelspec": {
   "display_name": "Python 3",
   "language": "python",
   "name": "python3"
  },
  "language_info": {
   "codemirror_mode": {
    "name": "ipython",
    "version": 3
   },
   "file_extension": ".py",
   "mimetype": "text/x-python",
   "name": "python",
   "nbconvert_exporter": "python",
   "pygments_lexer": "ipython3",
   "version": "3.12.8"
  }
 },
 "nbformat": 4,
 "nbformat_minor": 2
}
