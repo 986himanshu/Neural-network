{
 "cells": [
  {
   "cell_type": "markdown",
   "metadata": {},
   "source": [
    "<a target=\"_blank\" href=\"https://colab.research.google.com/github/\">\n",
    "  <img src=\"https://colab.research.google.com/assets/colab-badge.svg\" alt=\"Open In Colab\"/>\n",
    "</a>"
   ]
  },
  {
   "cell_type": "markdown",
   "metadata": {},
   "source": [
    "# Tensorflow\n",
    "# TensorFlow vs. PyTorch: A Tale of Two Deep Learning Giants 🧠🔍\n",
    "\n",
    "---\n",
    "\n",
    "# 1. Introduction: Tensor Math with a Sprinkle of Keras Magic  \n",
    "At their core, **TensorFlow** and **PyTorch** are frameworks designed to perform *tensor algebra*—the lifeblood of deep learning.  \n",
    "Tensors are fancy, multidimensional arrays that enable efficient data manipulation on GPUs.\n",
    "\n",
    "- **TensorFlow**: Known for its robust **Keras** API, a high-level library for building models easily.  \n",
    "  Think of Keras as LEGO bricks that make TensorFlow approachable for beginners and scalable for production.\n",
    "  \n",
    "- **PyTorch**: Offers a more Pythonic and intuitive interface, loved by researchers for its dynamic computation graph.  \n",
    "  It’s like the Swiss Army knife for prototyping!\n",
    "\n",
    "---\n",
    "\n",
    "# 2. Attributes of Tensors: The Building Blocks of Deep Learning  \n",
    "Tensors have several key attributes:  \n",
    "\n",
    "- **Rank**: The number of dimensions a tensor has.  \n",
    "  - Example: A scalar (single number) has rank 0, a vector has rank 1, and a matrix has rank 2.  \n",
    "\n",
    "- **Order**: Synonymous with rank; another term for it.  \n",
    "\n",
    "- **Shape**: The size of each dimension in the tensor.  \n",
    "  For instance, a tensor with shape `(3, 4, 5)` has 3 dimensions.  \n",
    "\n",
    "- **Datatype**: Tensors can store data of different types like `float32`, `int64`, etc.  \n",
    "\n",
    "> **Fun Fact**: In PyTorch, `tensor.dtype` is like the recipe for your tensor, while `tensor.shape` tells you its serving size. 🍽️\n",
    "\n",
    "---\n",
    "\n",
    "# 3. Methods/Operations on Tensors: Math on Steroids  \n",
    "Both frameworks excel at tensor operations. Here’s a taste of what you can do:  \n",
    "\n",
    "- **Matrix Multiplication**:  \n",
    "  - TensorFlow: `tf.matmul(a, b)`  \n",
    "  - PyTorch: `torch.mm(a, b)`  \n",
    "\n",
    "- **Element-wise Operations**:  \n",
    "  Operations like addition, subtraction, etc., applied element by element.  \n",
    "\n",
    "- **Gradients and Autograd**:  \n",
    "  Both frameworks support automatic differentiation.  \n",
    "  - TensorFlow: Handles gradients with `tf.GradientTape()`.  \n",
    "  - PyTorch: Offers `torch.autograd` with dynamic computation graphs, perfect for experimentation.  \n",
    "\n",
    "> PyTorch’s dynamic graph lets you modify the graph on the fly, while Tenso\n"
   ]
  },
  {
   "cell_type": "markdown",
   "metadata": {},
   "source": [
    "## Importing libraries"
   ]
  },
  {
   "cell_type": "code",
   "execution_count": 1,
   "metadata": {},
   "outputs": [],
   "source": [
    "import tensorflow as tf"
   ]
  },
  {
   "cell_type": "code",
   "execution_count": 2,
   "metadata": {},
   "outputs": [],
   "source": [
    "import warnings\n",
    "warnings.filterwarnings(\"ignore\")"
   ]
  },
  {
   "cell_type": "markdown",
   "metadata": {},
   "source": [
    "## Attributes & Data\n",
    "Tensors have shapes. Some vocabulary:\n",
    "\n",
    "Shape: The length (number of elements) of each of the axes of a tensor.\n",
    "\n",
    "Rank: Number of tensor axes. A scalar has rank 0, a vector has rank 1, a matrix is rank 2.\n",
    "\n",
    "Axis or Dimension: A particular dimension of a tensor.\n",
    "\n",
    "Size: The total number of items in the tensor, the product of the shape vector's elements.\n"
   ]
  },
  {
   "cell_type": "code",
   "execution_count": 3,
   "metadata": {},
   "outputs": [],
   "source": [
    "x = tf.constant([[1., 2., 3.],\n",
    "                 [4., 5., 6.]])"
   ]
  },
  {
   "cell_type": "code",
   "execution_count": 4,
   "metadata": {},
   "outputs": [
    {
     "name": "stdout",
     "output_type": "stream",
     "text": [
      "tf.Tensor(\n",
      "[[1. 2. 3.]\n",
      " [4. 5. 6.]], shape=(2, 3), dtype=float32)\n",
      "(2, 3)\n",
      "<dtype: 'float32'>\n"
     ]
    }
   ],
   "source": [
    "print(x)\n",
    "print(x.shape)\n",
    "print(x.dtype)"
   ]
  },
  {
   "cell_type": "code",
   "execution_count": 5,
   "metadata": {},
   "outputs": [
    {
     "data": {
      "text/plain": [
       "<tf.Tensor: shape=(), dtype=int32, numpy=2>"
      ]
     },
     "execution_count": 5,
     "metadata": {},
     "output_type": "execute_result"
    }
   ],
   "source": [
    "tf.rank(x)"
   ]
  },
  {
   "cell_type": "code",
   "execution_count": 6,
   "metadata": {},
   "outputs": [
    {
     "data": {
      "text/plain": [
       "<tf.Tensor: shape=(2, 3), dtype=float32, numpy=\n",
       "array([[ 2.,  4.,  6.],\n",
       "       [ 8., 10., 12.]], dtype=float32)>"
      ]
     },
     "execution_count": 6,
     "metadata": {},
     "output_type": "execute_result"
    }
   ],
   "source": [
    "x + x"
   ]
  },
  {
   "cell_type": "code",
   "execution_count": 7,
   "metadata": {},
   "outputs": [
    {
     "data": {
      "text/plain": [
       "<tf.Tensor: shape=(2, 3), dtype=float32, numpy=\n",
       "array([[ 5., 10., 15.],\n",
       "       [20., 25., 30.]], dtype=float32)>"
      ]
     },
     "execution_count": 7,
     "metadata": {},
     "output_type": "execute_result"
    }
   ],
   "source": [
    "5 * x"
   ]
  },
  {
   "cell_type": "code",
   "execution_count": 8,
   "metadata": {},
   "outputs": [
    {
     "data": {
      "text/plain": [
       "<tf.Tensor: shape=(2, 2), dtype=float32, numpy=\n",
       "array([[14., 32.],\n",
       "       [32., 77.]], dtype=float32)>"
      ]
     },
     "execution_count": 8,
     "metadata": {},
     "output_type": "execute_result"
    }
   ],
   "source": [
    "x @ tf.transpose(x) #Matmul"
   ]
  },
  {
   "cell_type": "code",
   "execution_count": 9,
   "metadata": {},
   "outputs": [
    {
     "data": {
      "text/plain": [
       "<tf.Tensor: shape=(2, 2), dtype=float32, numpy=\n",
       "array([[14., 32.],\n",
       "       [32., 77.]], dtype=float32)>"
      ]
     },
     "execution_count": 9,
     "metadata": {},
     "output_type": "execute_result"
    }
   ],
   "source": [
    "tf.matmul(x, tf.transpose(x)) #Matmul"
   ]
  },
  {
   "cell_type": "code",
   "execution_count": 10,
   "metadata": {},
   "outputs": [
    {
     "data": {
      "text/plain": [
       "<tf.Tensor: shape=(2, 2), dtype=float32, numpy=\n",
       "array([[14., 32.],\n",
       "       [32., 77.]], dtype=float32)>"
      ]
     },
     "execution_count": 10,
     "metadata": {},
     "output_type": "execute_result"
    }
   ],
   "source": [
    "tf.tensordot(x, x, axes = (1,1)) #Tensor dot"
   ]
  },
  {
   "cell_type": "code",
   "execution_count": 11,
   "metadata": {},
   "outputs": [
    {
     "data": {
      "text/plain": [
       "<tf.Tensor: shape=(6, 3), dtype=float32, numpy=\n",
       "array([[1., 2., 3.],\n",
       "       [4., 5., 6.],\n",
       "       [1., 2., 3.],\n",
       "       [4., 5., 6.],\n",
       "       [1., 2., 3.],\n",
       "       [4., 5., 6.]], dtype=float32)>"
      ]
     },
     "execution_count": 11,
     "metadata": {},
     "output_type": "execute_result"
    }
   ],
   "source": [
    "tf.concat([x, x, x], axis=0)"
   ]
  },
  {
   "cell_type": "code",
   "execution_count": 12,
   "metadata": {},
   "outputs": [
    {
     "data": {
      "text/plain": [
       "<tf.Tensor: shape=(2, 3), dtype=float32, numpy=\n",
       "array([[0.09003057, 0.24472848, 0.6652409 ],\n",
       "       [0.09003057, 0.24472848, 0.6652409 ]], dtype=float32)>"
      ]
     },
     "execution_count": 12,
     "metadata": {},
     "output_type": "execute_result"
    }
   ],
   "source": [
    "tf.nn.softmax(x, axis=-1)"
   ]
  },
  {
   "cell_type": "code",
   "execution_count": 13,
   "metadata": {},
   "outputs": [
    {
     "data": {
      "text/plain": [
       "<tf.Tensor: shape=(), dtype=float32, numpy=21.0>"
      ]
     },
     "execution_count": 13,
     "metadata": {},
     "output_type": "execute_result"
    }
   ],
   "source": [
    "tf.reduce_sum(x)"
   ]
  },
  {
   "cell_type": "code",
   "execution_count": 14,
   "metadata": {},
   "outputs": [
    {
     "data": {
      "text/plain": [
       "<tf.Tensor: shape=(3,), dtype=int32, numpy=array([1, 2, 3])>"
      ]
     },
     "execution_count": 14,
     "metadata": {},
     "output_type": "execute_result"
    }
   ],
   "source": [
    "tf.convert_to_tensor([1,2,3])"
   ]
  },
  {
   "cell_type": "code",
   "execution_count": 15,
   "metadata": {},
   "outputs": [
    {
     "name": "stdout",
     "output_type": "stream",
     "text": [
      "TensorFlow **IS NOT** using the GPU\n"
     ]
    }
   ],
   "source": [
    "if tf.config.list_physical_devices('GPU'):\n",
    "  print(\"TensorFlow **IS** using the GPU\")\n",
    "else:\n",
    "  print(\"TensorFlow **IS NOT** using the GPU\")"
   ]
  },
  {
   "cell_type": "markdown",
   "metadata": {},
   "source": [
    "Ragged Tensors\n",
    "A tensor with variable numbers of elements along some axis is called \"ragged\". Use tf.ragged.RaggedTensor for ragged data.\n",
    "\n",
    "For example, This cannot be represented as a regular tensor:"
   ]
  },
  {
   "cell_type": "code",
   "execution_count": 16,
   "metadata": {},
   "outputs": [],
   "source": [
    "ragged_list = [\n",
    "    [0, 1, 2, 3],\n",
    "    [4, 5],\n",
    "    [6, 7, 8],\n",
    "    [9]]"
   ]
  },
  {
   "cell_type": "code",
   "execution_count": 17,
   "metadata": {},
   "outputs": [
    {
     "name": "stdout",
     "output_type": "stream",
     "text": [
      "ValueError: Can't convert non-rectangular Python sequence to Tensor.\n"
     ]
    }
   ],
   "source": [
    "try:\n",
    "  tensor = tf.constant(ragged_list)\n",
    "except Exception as e:\n",
    "  print(f\"{type(e).__name__}: {e}\")"
   ]
  },
  {
   "cell_type": "code",
   "execution_count": 18,
   "metadata": {},
   "outputs": [
    {
     "name": "stdout",
     "output_type": "stream",
     "text": [
      "<tf.RaggedTensor [[0, 1, 2, 3], [4, 5], [6, 7, 8], [9]]>\n"
     ]
    }
   ],
   "source": [
    "ragged_tensor = tf.ragged.constant(ragged_list)\n",
    "print(ragged_tensor)"
   ]
  },
  {
   "cell_type": "markdown",
   "metadata": {},
   "source": [
    "String tensors\n",
    "tf.string is a dtype, which is to say you can represent data as strings (variable-length byte arrays) in tensors.\n",
    "\n",
    "The strings are atomic and cannot be indexed the way Python strings are. The length of the string is not one of the axes of the tensor. See tf.strings for functions to manipulate them."
   ]
  },
  {
   "cell_type": "code",
   "execution_count": 19,
   "metadata": {},
   "outputs": [
    {
     "name": "stdout",
     "output_type": "stream",
     "text": [
      "tf.Tensor(b'Gray wolf', shape=(), dtype=string)\n"
     ]
    }
   ],
   "source": [
    "# Tensors can be strings, too here is a scalar string.\n",
    "scalar_string_tensor = tf.constant(\"Gray wolf\")\n",
    "print(scalar_string_tensor)"
   ]
  },
  {
   "cell_type": "markdown",
   "metadata": {},
   "source": [
    "Sparse tensors:\n",
    "Sometimes, your data is sparse, like a very wide embedding space. TensorFlow supports tf.sparse.SparseTensor and related operations to store sparse data efficiently."
   ]
  },
  {
   "cell_type": "code",
   "execution_count": 20,
   "metadata": {},
   "outputs": [
    {
     "name": "stdout",
     "output_type": "stream",
     "text": [
      "SparseTensor(indices=tf.Tensor(\n",
      "[[0 0]\n",
      " [1 2]], shape=(2, 2), dtype=int64), values=tf.Tensor([1 2], shape=(2,), dtype=int32), dense_shape=tf.Tensor([3 4], shape=(2,), dtype=int64)) \n",
      "\n",
      "tf.Tensor(\n",
      "[[1 0 0 0]\n",
      " [0 0 2 0]\n",
      " [0 0 0 0]], shape=(3, 4), dtype=int32)\n"
     ]
    }
   ],
   "source": [
    "# Sparse tensors store values by index in a memory-efficient manner\n",
    "sparse_tensor = tf.sparse.SparseTensor(indices=[[0, 0], [1, 2]],\n",
    "                                       values=[1, 2],\n",
    "                                       dense_shape=[3, 4])\n",
    "print(sparse_tensor, \"\\n\")\n",
    "\n",
    "# You can convert sparse tensors to dense\n",
    "print(tf.sparse.to_dense(sparse_tensor))"
   ]
  },
  {
   "cell_type": "markdown",
   "metadata": {},
   "source": [
    "## Operations\n",
    "Normal tf.Tensor objects are immutable. To store model weights (or other mutable state) in TensorFlow use a tf.Variable."
   ]
  },
  {
   "cell_type": "code",
   "execution_count": 82,
   "metadata": {},
   "outputs": [
    {
     "data": {
      "text/plain": [
       "<KerasTensor shape=(None, 33), dtype=float32, sparse=False, name=keras_tensor_8>"
      ]
     },
     "execution_count": 82,
     "metadata": {},
     "output_type": "execute_result"
    }
   ],
   "source": [
    "x"
   ]
  },
  {
   "cell_type": "code",
   "execution_count": 21,
   "metadata": {},
   "outputs": [],
   "source": [
    "var = tf.Variable(x)"
   ]
  },
  {
   "cell_type": "code",
   "execution_count": 22,
   "metadata": {},
   "outputs": [
    {
     "data": {
      "text/plain": [
       "<tf.Variable 'UnreadVariable' shape=(2, 3) dtype=float32, numpy=\n",
       "array([[3., 4., 5.],\n",
       "       [6., 7., 8.]], dtype=float32)>"
      ]
     },
     "execution_count": 22,
     "metadata": {},
     "output_type": "execute_result"
    }
   ],
   "source": [
    "var.assign(var+2)"
   ]
  },
  {
   "cell_type": "code",
   "execution_count": 23,
   "metadata": {},
   "outputs": [
    {
     "data": {
      "text/plain": [
       "<tf.Variable 'Variable:0' shape=(2, 3) dtype=float32, numpy=\n",
       "array([[3., 4., 5.],\n",
       "       [6., 7., 8.]], dtype=float32)>"
      ]
     },
     "execution_count": 23,
     "metadata": {},
     "output_type": "execute_result"
    }
   ],
   "source": [
    "var"
   ]
  },
  {
   "cell_type": "code",
   "execution_count": 24,
   "metadata": {},
   "outputs": [],
   "source": [
    "x = tf.Variable(2.0)"
   ]
  },
  {
   "cell_type": "code",
   "execution_count": 25,
   "metadata": {},
   "outputs": [
    {
     "data": {
      "text/plain": [
       "<tf.Variable 'Variable:0' shape=() dtype=float32, numpy=2.0>"
      ]
     },
     "execution_count": 25,
     "metadata": {},
     "output_type": "execute_result"
    }
   ],
   "source": [
    "x"
   ]
  },
  {
   "cell_type": "code",
   "execution_count": 26,
   "metadata": {},
   "outputs": [
    {
     "data": {
      "text/plain": [
       "<tf.Tensor: shape=(), dtype=float32, numpy=3.0>"
      ]
     },
     "execution_count": 26,
     "metadata": {},
     "output_type": "execute_result"
    }
   ],
   "source": [
    "def f(x):\n",
    "  y = x**2 + 2*x - 5\n",
    "  return y\n",
    "f(x)"
   ]
  },
  {
   "cell_type": "code",
   "execution_count": 27,
   "metadata": {},
   "outputs": [],
   "source": [
    "with tf.GradientTape() as tape:\n",
    "  y = f(x)\n",
    "\n",
    "g_x = tape.gradient(y, x)  # g(x) = dy/dx"
   ]
  },
  {
   "cell_type": "code",
   "execution_count": 28,
   "metadata": {},
   "outputs": [
    {
     "data": {
      "text/plain": [
       "<tf.Tensor: shape=(), dtype=float32, numpy=6.0>"
      ]
     },
     "execution_count": 28,
     "metadata": {},
     "output_type": "execute_result"
    }
   ],
   "source": [
    "g_x"
   ]
  },
  {
   "cell_type": "code",
   "execution_count": 29,
   "metadata": {},
   "outputs": [],
   "source": [
    "@tf.function\n",
    "def my_func(x):\n",
    "  print('Tracing.\\n')\n",
    "  return tf.reduce_sum(x)"
   ]
  },
  {
   "cell_type": "markdown",
   "metadata": {},
   "source": [
    "The first time you run the tf.function, although it executes in Python, it captures a complete, optimized graph representing the TensorFlow computations done within the function."
   ]
  },
  {
   "cell_type": "markdown",
   "metadata": {},
   "source": [
    "# Layers"
   ]
  },
  {
   "cell_type": "markdown",
   "metadata": {},
   "source": [
    "### Common pre-existing layers\n",
    "In the tf.keras.layers package, layers are objects. To construct a layer,\n",
    "simply construct the object. Most layers take as a first argument the number\n",
    "of output dimensions / channels.\n",
    "layer = tf.keras.layers.Dense(100)\n",
    "The number of input dimensions is often unnecessary, as it can be inferred\n",
    "the first time the layer is used, but it can be provided if you want to\n",
    "specify it manually, which is useful in some complex models.\n",
    "layer = tf.keras.layers.Dense(10, input_shape=(None, 5))"
   ]
  },
  {
   "cell_type": "markdown",
   "metadata": {},
   "source": [
    "### Custom layers\n",
    "The best way to implement your own layer is extending the tf.keras.Layer class and implementing:\n",
    "\n",
    "* __init__ , where you can do all input-independent initialization\n",
    "* build, where you know the shapes of the input tensors and can do the rest of the initialization\n",
    "* call, where you do the forward computation\n",
    "\n",
    "Note that you don't have to wait until build is called to create your variables, you can also create them in __init__. However, the advantage of creating them in build is that it enables late variable creation based on the shape of the inputs the layer will operate on. On the other hand, creating variables in __init__ would mean that shapes required to create the variables will need to be explicitly specified."
   ]
  },
  {
   "cell_type": "markdown",
   "metadata": {},
   "source": [
    "### Models: Composing layers\n",
    "Many interesting layer-like things in machine learning models are implemented by composing existing layers. For example, each residual block in a resnet is a composition of convolutions, batch normalizations, and a shortcut. Layers can be nested inside other layers.\n"
   ]
  },
  {
   "cell_type": "markdown",
   "metadata": {},
   "source": [
    "# CORE: Multiple linear regression\n",
    "This quickstart tutorial demonstrates how you can use the TensorFlow Core low-level APIs to build and train a multiple linear regression model that predicts fuel efficiency. It uses the Auto MPG dataset which contains fuel efficiency data for late-1970s and early 1980s automobiles."
   ]
  },
  {
   "cell_type": "markdown",
   "metadata": {},
   "source": [
    "## Load libraries"
   ]
  },
  {
   "cell_type": "code",
   "execution_count": 30,
   "metadata": {},
   "outputs": [],
   "source": [
    "import pandas as pd\n",
    "import matplotlib.pyplot as plt\n",
    "import matplotlib"
   ]
  },
  {
   "cell_type": "markdown",
   "metadata": {},
   "source": [
    "## Load and preprocess datasets\n",
    "Usage of tensorflow specific named container class tf.Module for abstraction"
   ]
  },
  {
   "cell_type": "code",
   "execution_count": 31,
   "metadata": {},
   "outputs": [],
   "source": [
    "url = 'http://archive.ics.uci.edu/ml/machine-learning-databases/auto-mpg/auto-mpg.data'\n",
    "column_names = ['MPG', 'Cylinders', 'Displacement', 'Horsepower', 'Weight',\n",
    "                'Acceleration', 'Model Year', 'Origin']"
   ]
  },
  {
   "cell_type": "code",
   "execution_count": 32,
   "metadata": {},
   "outputs": [],
   "source": [
    "dataset = pd.read_csv(url, names=column_names,\n",
    "                       na_values='?', \n",
    "                       comment='\\t',\n",
    "                          sep=' ', \n",
    "                          skipinitialspace=True)"
   ]
  },
  {
   "cell_type": "code",
   "execution_count": 33,
   "metadata": {},
   "outputs": [
    {
     "data": {
      "text/plain": [
       "MPG             0\n",
       "Cylinders       0\n",
       "Displacement    0\n",
       "Horsepower      6\n",
       "Weight          0\n",
       "Acceleration    0\n",
       "Model Year      0\n",
       "Origin          0\n",
       "dtype: int64"
      ]
     },
     "execution_count": 33,
     "metadata": {},
     "output_type": "execute_result"
    }
   ],
   "source": [
    "dataset.isna().sum()"
   ]
  },
  {
   "cell_type": "code",
   "execution_count": 34,
   "metadata": {},
   "outputs": [],
   "source": [
    "# Handling na values via dropping records with na\n",
    "dataset = dataset.dropna()"
   ]
  },
  {
   "cell_type": "code",
   "execution_count": 35,
   "metadata": {},
   "outputs": [],
   "source": [
    "# To do or think of quicker ways of applying imputation"
   ]
  },
  {
   "cell_type": "code",
   "execution_count": 36,
   "metadata": {},
   "outputs": [
    {
     "data": {
      "text/html": [
       "<div>\n",
       "<style scoped>\n",
       "    .dataframe tbody tr th:only-of-type {\n",
       "        vertical-align: middle;\n",
       "    }\n",
       "\n",
       "    .dataframe tbody tr th {\n",
       "        vertical-align: top;\n",
       "    }\n",
       "\n",
       "    .dataframe thead th {\n",
       "        text-align: right;\n",
       "    }\n",
       "</style>\n",
       "<table border=\"1\" class=\"dataframe\">\n",
       "  <thead>\n",
       "    <tr style=\"text-align: right;\">\n",
       "      <th></th>\n",
       "      <th>MPG</th>\n",
       "      <th>Cylinders</th>\n",
       "      <th>Displacement</th>\n",
       "      <th>Horsepower</th>\n",
       "      <th>Weight</th>\n",
       "      <th>Acceleration</th>\n",
       "      <th>Model Year</th>\n",
       "      <th>Origin</th>\n",
       "    </tr>\n",
       "  </thead>\n",
       "  <tbody>\n",
       "    <tr>\n",
       "      <th>393</th>\n",
       "      <td>27.0</td>\n",
       "      <td>4</td>\n",
       "      <td>140.0</td>\n",
       "      <td>86.0</td>\n",
       "      <td>2790.0</td>\n",
       "      <td>15.6</td>\n",
       "      <td>82</td>\n",
       "      <td>1</td>\n",
       "    </tr>\n",
       "    <tr>\n",
       "      <th>394</th>\n",
       "      <td>44.0</td>\n",
       "      <td>4</td>\n",
       "      <td>97.0</td>\n",
       "      <td>52.0</td>\n",
       "      <td>2130.0</td>\n",
       "      <td>24.6</td>\n",
       "      <td>82</td>\n",
       "      <td>2</td>\n",
       "    </tr>\n",
       "    <tr>\n",
       "      <th>395</th>\n",
       "      <td>32.0</td>\n",
       "      <td>4</td>\n",
       "      <td>135.0</td>\n",
       "      <td>84.0</td>\n",
       "      <td>2295.0</td>\n",
       "      <td>11.6</td>\n",
       "      <td>82</td>\n",
       "      <td>1</td>\n",
       "    </tr>\n",
       "    <tr>\n",
       "      <th>396</th>\n",
       "      <td>28.0</td>\n",
       "      <td>4</td>\n",
       "      <td>120.0</td>\n",
       "      <td>79.0</td>\n",
       "      <td>2625.0</td>\n",
       "      <td>18.6</td>\n",
       "      <td>82</td>\n",
       "      <td>1</td>\n",
       "    </tr>\n",
       "    <tr>\n",
       "      <th>397</th>\n",
       "      <td>31.0</td>\n",
       "      <td>4</td>\n",
       "      <td>119.0</td>\n",
       "      <td>82.0</td>\n",
       "      <td>2720.0</td>\n",
       "      <td>19.4</td>\n",
       "      <td>82</td>\n",
       "      <td>1</td>\n",
       "    </tr>\n",
       "  </tbody>\n",
       "</table>\n",
       "</div>"
      ],
      "text/plain": [
       "      MPG  Cylinders  Displacement  Horsepower  Weight  Acceleration  \\\n",
       "393  27.0          4         140.0        86.0  2790.0          15.6   \n",
       "394  44.0          4          97.0        52.0  2130.0          24.6   \n",
       "395  32.0          4         135.0        84.0  2295.0          11.6   \n",
       "396  28.0          4         120.0        79.0  2625.0          18.6   \n",
       "397  31.0          4         119.0        82.0  2720.0          19.4   \n",
       "\n",
       "     Model Year  Origin  \n",
       "393          82       1  \n",
       "394          82       2  \n",
       "395          82       1  \n",
       "396          82       1  \n",
       "397          82       1  "
      ]
     },
     "execution_count": 36,
     "metadata": {},
     "output_type": "execute_result"
    }
   ],
   "source": [
    "dataset_tf = tf.convert_to_tensor(dataset, dtype=tf.float32)\n",
    "dataset.tail()"
   ]
  },
  {
   "cell_type": "code",
   "execution_count": 37,
   "metadata": {},
   "outputs": [],
   "source": [
    "dataset_shuffled = tf.random.shuffle(dataset_tf, seed=22)\n",
    "train_data, test_data = dataset_shuffled[100:], dataset_shuffled[:100]\n",
    "x_train, y_train = train_data[:, 1:], train_data[:, 0]\n",
    "x_test, y_test = test_data[:, 1:], test_data[:, 0]"
   ]
  },
  {
   "cell_type": "code",
   "execution_count": 38,
   "metadata": {},
   "outputs": [],
   "source": [
    "def onehot_origin(x):\n",
    "  \"Encoding label encoded origins which will be problematic to be used as numeric data features\"\n",
    "  origin = tf.cast(x[:, -1], tf.int32)\n",
    "  # Use `origin - 1` to account for 1-indexed feature\n",
    "  origin_oh = tf.one_hot(origin - 1, 3)\n",
    "  x_ohe = tf.concat([x[:, :-1], origin_oh], axis = 1)\n",
    "  return x_ohe"
   ]
  },
  {
   "cell_type": "code",
   "execution_count": 39,
   "metadata": {},
   "outputs": [
    {
     "data": {
      "text/plain": [
       "array([[  4., 120.,  75., ...,   0.,   0.,   1.],\n",
       "       [  4., 119.,  97., ...,   0.,   0.,   1.],\n",
       "       [  4., 140.,  90., ...,   1.,   0.,   0.],\n",
       "       ...,\n",
       "       [  6., 250., 105., ...,   1.,   0.,   0.],\n",
       "       [  4., 120.,  87., ...,   0.,   1.,   0.],\n",
       "       [  6., 232.,  90., ...,   1.,   0.,   0.]], dtype=float32)"
      ]
     },
     "execution_count": 39,
     "metadata": {},
     "output_type": "execute_result"
    }
   ],
   "source": [
    "x_train_ohe, x_test_ohe = onehot_origin(x_train), onehot_origin(x_test)\n",
    "x_train_ohe.numpy()"
   ]
  },
  {
   "cell_type": "code",
   "execution_count": 40,
   "metadata": {},
   "outputs": [],
   "source": [
    "class Normalize(tf.Module):\n",
    "  def __init__(self, x):\n",
    "    # Initialize the mean and standard deviation for normalization\n",
    "    self.mean = tf.math.reduce_mean(x, axis=0)\n",
    "    self.std = tf.math.reduce_std(x, axis=0)\n",
    "\n",
    "  def norm(self, x):\n",
    "    # Normalize the input\n",
    "\n",
    "    return (x - self.mean)/self.std\n",
    "\n",
    "  def unnorm(self, x):\n",
    "    # Unnormalize the input\n",
    "    return (x * self.std) + self.mean"
   ]
  },
  {
   "cell_type": "code",
   "execution_count": 41,
   "metadata": {},
   "outputs": [],
   "source": [
    "norm_x = Normalize(x_train_ohe)\n",
    "norm_y = Normalize(y_train)\n",
    "x_train_norm, y_train_norm = norm_x.norm(x_train_ohe), norm_y.norm(y_train)\n",
    "x_test_norm, y_test_norm = norm_x.norm(x_test_ohe), norm_y.norm(y_test)"
   ]
  },
  {
   "cell_type": "markdown",
   "metadata": {},
   "source": [
    "## Build Model (Abstracted as sequential and layers in keras)\n",
    "Again using tf.Module for abstraction"
   ]
  },
  {
   "cell_type": "code",
   "execution_count": 42,
   "metadata": {},
   "outputs": [],
   "source": [
    "class LinearRegression(tf.Module):\n",
    "\n",
    "  def __init__(self):\n",
    "    self.built = False\n",
    "\n",
    "  @tf.function\n",
    "  def __call__(self, x):\n",
    "    # Initialize the model parameters on the first call\n",
    "    if not self.built:\n",
    "      # Randomly generate the weight vector and bias term\n",
    "      rand_w = tf.random.uniform(shape=[x.shape[-1], 1])\n",
    "      rand_b = tf.random.uniform(shape=[])\n",
    "      self.w = tf.Variable(rand_w)\n",
    "      self.b = tf.Variable(rand_b)\n",
    "      self.built = True\n",
    "    y = tf.add(tf.matmul(x, self.w), self.b)\n",
    "    return tf.squeeze(y, axis=1)"
   ]
  },
  {
   "cell_type": "code",
   "execution_count": 43,
   "metadata": {},
   "outputs": [
    {
     "data": {
      "text/plain": [
<<<<<<< HEAD
       "array([9.643242], dtype=float32)"
=======
       "array([19.608263], dtype=float32)"
>>>>>>> 1d4ae0e005faa10ba91fba1287a44970070ad2a7
      ]
     },
     "execution_count": 43,
     "metadata": {},
     "output_type": "execute_result"
    }
   ],
   "source": [
    "lin_reg = LinearRegression()\n",
    "prediction = lin_reg(x_train_norm[:1])\n",
    "prediction_unnorm = norm_y.unnorm(prediction)\n",
    "prediction_unnorm.numpy()"
   ]
  },
  {
   "cell_type": "markdown",
   "metadata": {},
   "source": [
    "## Defining loss function (Abstracted as compile in keras)"
   ]
  },
  {
   "cell_type": "code",
   "execution_count": 44,
   "metadata": {},
   "outputs": [],
   "source": [
    "def mse_loss(y_pred, y):\n",
    "  return tf.reduce_mean(tf.square(y_pred - y))"
   ]
  },
  {
   "cell_type": "markdown",
   "metadata": {},
   "source": [
    "## Training and evaluation functions (Abstracted as fit and predict functions in keras)"
   ]
  },
  {
   "cell_type": "code",
   "execution_count": 45,
   "metadata": {},
   "outputs": [],
   "source": [
    "### Minibatch gradient descent"
   ]
  },
  {
   "cell_type": "code",
   "execution_count": 46,
   "metadata": {},
   "outputs": [],
   "source": [
    "batch_size = 64\n",
    "train_dataset = tf.data.Dataset.from_tensor_slices((x_train_norm, y_train_norm))\n",
    "train_dataset = train_dataset.shuffle(buffer_size=x_train.shape[0]).batch(batch_size)\n",
    "test_dataset = tf.data.Dataset.from_tensor_slices((x_test_norm, y_test_norm))\n",
    "test_dataset = test_dataset.shuffle(buffer_size=x_test.shape[0]).batch(batch_size)"
   ]
  },
  {
   "cell_type": "code",
   "execution_count": 47,
   "metadata": {},
   "outputs": [],
   "source": [
    "# Set training parameters\n",
    "epochs = 100\n",
    "learning_rate = 0.01\n",
    "train_losses, test_losses = [], []"
   ]
  },
  {
   "cell_type": "code",
   "execution_count": 48,
   "metadata": {},
   "outputs": [
    {
     "name": "stdout",
     "output_type": "stream",
     "text": [
<<<<<<< HEAD
      "Mean squared error for step 0: 8.126\n",
      "Mean squared error for step 10: 0.316\n",
      "Mean squared error for step 20: 0.245\n",
      "Mean squared error for step 30: 0.222\n",
      "Mean squared error for step 40: 0.217\n",
      "Mean squared error for step 50: 0.215\n",
      "Mean squared error for step 60: 0.203\n",
      "Mean squared error for step 70: 0.216\n",
      "Mean squared error for step 80: 0.204\n",
      "Mean squared error for step 90: 0.216\n",
      "\n",
      "Final train loss: 0.211\n",
      "Final test loss: 0.179\n"
=======
      "Mean squared error for step 0: 4.500\n",
      "Mean squared error for step 10: 0.472\n",
      "Mean squared error for step 20: 0.290\n",
      "Mean squared error for step 30: 0.236\n",
      "Mean squared error for step 40: 0.219\n",
      "Mean squared error for step 50: 0.228\n",
      "Mean squared error for step 60: 0.214\n",
      "Mean squared error for step 70: 0.215\n",
      "Mean squared error for step 80: 0.205\n",
      "Mean squared error for step 90: 0.196\n",
      "\n",
      "Final train loss: 0.196\n",
      "Final test loss: 0.195\n"
>>>>>>> 1d4ae0e005faa10ba91fba1287a44970070ad2a7
     ]
    }
   ],
   "source": [
    "# Format training loop\n",
    "for epoch in range(epochs):\n",
    "  batch_losses_train, batch_losses_test = [], []\n",
    "\n",
    "  # Iterate through the training data\n",
    "  for x_batch, y_batch in train_dataset:\n",
    "    with tf.GradientTape() as tape:\n",
    "      y_pred_batch = lin_reg(x_batch)\n",
    "      batch_loss = mse_loss(y_pred_batch, y_batch)\n",
    "    # Update parameters with respect to the gradient calculations\n",
    "    grads = tape.gradient(batch_loss, lin_reg.variables)\n",
    "    for g,v in zip(grads, lin_reg.variables):\n",
    "      v.assign_sub(learning_rate * g)\n",
    "    # Keep track of batch-level training performance \n",
    "    batch_losses_train.append(batch_loss)\n",
    "\n",
    "  # Iterate through the testing data\n",
    "  for x_batch, y_batch in test_dataset:\n",
    "    y_pred_batch = lin_reg(x_batch)\n",
    "    batch_loss = mse_loss(y_pred_batch, y_batch)\n",
    "    # Keep track of batch-level testing performance \n",
    "    batch_losses_test.append(batch_loss)\n",
    "\n",
    "  # Keep track of epoch-level model performance\n",
    "  train_loss = tf.reduce_mean(batch_losses_train)\n",
    "  test_loss = tf.reduce_mean(batch_losses_test)\n",
    "  train_losses.append(train_loss)\n",
    "  test_losses.append(test_loss)\n",
    "  if epoch % 10 == 0:\n",
    "    print(f'Mean squared error for step {epoch}: {train_loss.numpy():0.3f}')\n",
    "\n",
    "# Output final losses\n",
    "print(f\"\\nFinal train loss: {train_loss:0.3f}\")\n",
    "print(f\"Final test loss: {test_loss:0.3f}\")"
   ]
  },
  {
   "cell_type": "code",
   "execution_count": 49,
   "metadata": {},
   "outputs": [
    {
     "data": {
<<<<<<< HEAD
      "image/png": "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",
=======
      "image/png": "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",
>>>>>>> 1d4ae0e005faa10ba91fba1287a44970070ad2a7
      "text/plain": [
       "<Figure size 900x600 with 1 Axes>"
      ]
     },
     "metadata": {},
     "output_type": "display_data"
    }
   ],
   "source": [
    "matplotlib.rcParams['figure.figsize'] = [9, 6]\n",
    "\n",
    "plt.plot(range(epochs), train_losses, label = \"Training loss\")\n",
    "plt.plot(range(epochs), test_losses, label = \"Testing loss\")\n",
    "plt.xlabel(\"Epoch\")\n",
    "plt.ylabel(\"Mean squared error loss\")\n",
    "plt.legend()\n",
    "plt.title(\"MSE loss vs training iterations\");"
   ]
  },
  {
   "cell_type": "markdown",
   "metadata": {},
   "source": [
    "## Save and export model-  tf.saved_model.save"
   ]
  },
  {
   "cell_type": "code",
   "execution_count": 50,
   "metadata": {},
   "outputs": [],
   "source": [
    "class ExportModule(tf.Module):\n",
    "  def __init__(self, model, extract_features, norm_x, norm_y):\n",
    "    # Initialize pre and postprocessing functions\n",
    "    self.model = model\n",
    "    self.extract_features = extract_features\n",
    "    self.norm_x = norm_x\n",
    "    self.norm_y = norm_y\n",
    "\n",
    "  @tf.function(input_signature=[tf.TensorSpec(shape=[None, None], dtype=tf.float32)]) \n",
    "  def __call__(self, x):\n",
    "    # Run the ExportModule for new data points\n",
    "    x = self.extract_features(x)\n",
    "    x = self.norm_x.norm(x)\n",
    "    y = self.model(x)\n",
    "    y = self.norm_y.unnorm(y)\n",
    "    return y"
   ]
  },
  {
   "cell_type": "code",
   "execution_count": 51,
   "metadata": {},
   "outputs": [],
   "source": [
    "lin_reg_export = ExportModule(model=lin_reg,\n",
    "                              extract_features=onehot_origin,\n",
    "                              norm_x=norm_x,\n",
    "                              norm_y=norm_y)"
   ]
  },
  {
   "cell_type": "code",
   "execution_count": 52,
   "metadata": {},
   "outputs": [
    {
     "name": "stdout",
     "output_type": "stream",
     "text": [
<<<<<<< HEAD
      "INFO:tensorflow:Assets written to: C:\\Users\\986hi\\AppData\\Local\\Temp\\tmpvkvb43e6\\lin_reg_export\\assets\n"
=======
      "INFO:tensorflow:Assets written to: C:\\Users\\986hi\\AppData\\Local\\Temp\\tmpnpnjeyqd\\lin_reg_export\\assets\n"
>>>>>>> 1d4ae0e005faa10ba91fba1287a44970070ad2a7
     ]
    },
    {
     "name": "stderr",
     "output_type": "stream",
     "text": [
<<<<<<< HEAD
      "INFO:tensorflow:Assets written to: C:\\Users\\986hi\\AppData\\Local\\Temp\\tmpvkvb43e6\\lin_reg_export\\assets\n"
=======
      "INFO:tensorflow:Assets written to: C:\\Users\\986hi\\AppData\\Local\\Temp\\tmpnpnjeyqd\\lin_reg_export\\assets\n"
>>>>>>> 1d4ae0e005faa10ba91fba1287a44970070ad2a7
     ]
    }
   ],
   "source": [
    "import tempfile\n",
    "import os\n",
    "\n",
    "models = tempfile.mkdtemp()\n",
    "save_path = os.path.join(models, 'lin_reg_export')\n",
    "tf.saved_model.save(lin_reg_export, save_path)"
   ]
  },
  {
   "cell_type": "code",
   "execution_count": 53,
   "metadata": {},
   "outputs": [
    {
     "data": {
      "text/plain": [
<<<<<<< HEAD
       "array([25.903845, 20.069334, 19.19879 , 25.685858, 22.425207,  9.357581,\n",
       "       33.839916, 12.193929, 26.172716,  8.072653], dtype=float32)"
=======
       "array([26.053135, 20.196459, 18.712444, 25.868528, 22.356861,  7.219508,\n",
       "       34.165092, 12.314476, 26.338905,  9.0139  ], dtype=float32)"
>>>>>>> 1d4ae0e005faa10ba91fba1287a44970070ad2a7
      ]
     },
     "execution_count": 53,
     "metadata": {},
     "output_type": "execute_result"
    }
   ],
   "source": [
    "lin_reg_loaded = tf.saved_model.load(save_path)\n",
    "test_preds = lin_reg_loaded(x_test)\n",
    "test_preds[:10].numpy()"
   ]
  },
  {
   "cell_type": "markdown",
   "metadata": {},
   "source": [
    "# Binary classification using Keras and csv dataframe\n",
    "This tutorial provides examples of how to load pandas DataFrames into TensorFlow.\n",
    "\n",
    "You will use a small heart disease dataset provided by the UCI Machine Learning Repository. There are several hundred rows in the CSV. Each row describes a patient, and each column describes an attribute. You will use this information to predict whether a patient has heart disease, which is a binary classification task."
   ]
  },
  {
   "cell_type": "markdown",
   "metadata": {},
   "source": [
    "## Import libraries"
   ]
  },
  {
   "cell_type": "code",
   "execution_count": 54,
   "metadata": {},
   "outputs": [],
   "source": [
    "import numpy as np"
   ]
  },
  {
   "cell_type": "markdown",
   "metadata": {},
   "source": [
    "## Load datasets and planning"
   ]
  },
  {
   "cell_type": "code",
   "execution_count": 55,
   "metadata": {},
   "outputs": [],
   "source": [
    "csv_file = tf.keras.utils.get_file('heart.csv', 'https://storage.googleapis.com/download.tensorflow.org/data/heart.csv')"
   ]
  },
  {
   "cell_type": "code",
   "execution_count": 56,
   "metadata": {},
   "outputs": [],
   "source": [
    "df = pd.read_csv(csv_file)"
   ]
  },
  {
   "cell_type": "code",
   "execution_count": 57,
   "metadata": {},
   "outputs": [
    {
     "data": {
      "text/html": [
       "<div>\n",
       "<style scoped>\n",
       "    .dataframe tbody tr th:only-of-type {\n",
       "        vertical-align: middle;\n",
       "    }\n",
       "\n",
       "    .dataframe tbody tr th {\n",
       "        vertical-align: top;\n",
       "    }\n",
       "\n",
       "    .dataframe thead th {\n",
       "        text-align: right;\n",
       "    }\n",
       "</style>\n",
       "<table border=\"1\" class=\"dataframe\">\n",
       "  <thead>\n",
       "    <tr style=\"text-align: right;\">\n",
       "      <th></th>\n",
       "      <th>age</th>\n",
       "      <th>sex</th>\n",
       "      <th>cp</th>\n",
       "      <th>trestbps</th>\n",
       "      <th>chol</th>\n",
       "      <th>fbs</th>\n",
       "      <th>restecg</th>\n",
       "      <th>thalach</th>\n",
       "      <th>exang</th>\n",
       "      <th>oldpeak</th>\n",
       "      <th>slope</th>\n",
       "      <th>ca</th>\n",
       "      <th>thal</th>\n",
       "      <th>target</th>\n",
       "    </tr>\n",
       "  </thead>\n",
       "  <tbody>\n",
       "    <tr>\n",
       "      <th>0</th>\n",
       "      <td>63</td>\n",
       "      <td>1</td>\n",
       "      <td>1</td>\n",
       "      <td>145</td>\n",
       "      <td>233</td>\n",
       "      <td>1</td>\n",
       "      <td>2</td>\n",
       "      <td>150</td>\n",
       "      <td>0</td>\n",
       "      <td>2.3</td>\n",
       "      <td>3</td>\n",
       "      <td>0</td>\n",
       "      <td>fixed</td>\n",
       "      <td>0</td>\n",
       "    </tr>\n",
       "    <tr>\n",
       "      <th>1</th>\n",
       "      <td>67</td>\n",
       "      <td>1</td>\n",
       "      <td>4</td>\n",
       "      <td>160</td>\n",
       "      <td>286</td>\n",
       "      <td>0</td>\n",
       "      <td>2</td>\n",
       "      <td>108</td>\n",
       "      <td>1</td>\n",
       "      <td>1.5</td>\n",
       "      <td>2</td>\n",
       "      <td>3</td>\n",
       "      <td>normal</td>\n",
       "      <td>1</td>\n",
       "    </tr>\n",
       "    <tr>\n",
       "      <th>2</th>\n",
       "      <td>67</td>\n",
       "      <td>1</td>\n",
       "      <td>4</td>\n",
       "      <td>120</td>\n",
       "      <td>229</td>\n",
       "      <td>0</td>\n",
       "      <td>2</td>\n",
       "      <td>129</td>\n",
       "      <td>1</td>\n",
       "      <td>2.6</td>\n",
       "      <td>2</td>\n",
       "      <td>2</td>\n",
       "      <td>reversible</td>\n",
       "      <td>0</td>\n",
       "    </tr>\n",
       "    <tr>\n",
       "      <th>3</th>\n",
       "      <td>37</td>\n",
       "      <td>1</td>\n",
       "      <td>3</td>\n",
       "      <td>130</td>\n",
       "      <td>250</td>\n",
       "      <td>0</td>\n",
       "      <td>0</td>\n",
       "      <td>187</td>\n",
       "      <td>0</td>\n",
       "      <td>3.5</td>\n",
       "      <td>3</td>\n",
       "      <td>0</td>\n",
       "      <td>normal</td>\n",
       "      <td>0</td>\n",
       "    </tr>\n",
       "  </tbody>\n",
       "</table>\n",
       "</div>"
      ],
      "text/plain": [
       "   age  sex  cp  trestbps  chol  fbs  restecg  thalach  exang  oldpeak  slope  \\\n",
       "0   63    1   1       145   233    1        2      150      0      2.3      3   \n",
       "1   67    1   4       160   286    0        2      108      1      1.5      2   \n",
       "2   67    1   4       120   229    0        2      129      1      2.6      2   \n",
       "3   37    1   3       130   250    0        0      187      0      3.5      3   \n",
       "\n",
       "   ca        thal  target  \n",
       "0   0       fixed       0  \n",
       "1   3      normal       1  \n",
       "2   2  reversible       0  \n",
       "3   0      normal       0  "
      ]
     },
     "execution_count": 57,
     "metadata": {},
     "output_type": "execute_result"
    }
   ],
   "source": [
    "df.head(4)"
   ]
  },
  {
   "cell_type": "code",
   "execution_count": 58,
   "metadata": {},
   "outputs": [
    {
     "data": {
      "text/plain": [
       "age           int64\n",
       "sex           int64\n",
       "cp            int64\n",
       "trestbps      int64\n",
       "chol          int64\n",
       "fbs           int64\n",
       "restecg       int64\n",
       "thalach       int64\n",
       "exang         int64\n",
       "oldpeak     float64\n",
       "slope         int64\n",
       "ca            int64\n",
       "thal         object\n",
       "target        int64\n",
       "dtype: object"
      ]
     },
     "execution_count": 58,
     "metadata": {},
     "output_type": "execute_result"
    }
   ],
   "source": [
    "df.dtypes"
   ]
  },
  {
   "cell_type": "code",
   "execution_count": 59,
   "metadata": {},
   "outputs": [],
   "source": [
    "target = df.pop('target')"
   ]
  },
  {
   "cell_type": "code",
   "execution_count": null,
   "metadata": {},
   "outputs": [],
   "source": []
  },
  {
   "cell_type": "markdown",
   "metadata": {},
   "source": [
    "## Data ingestion and preprocessing\n",
    "We will create he preprocessing into the model. While you could preprocess into dataframe using your familiar frameworks like Pandas and Polaris. It is best to build in model due to below reasons.\n",
    "Why Not Preprocess in the DataFrame?\n",
    "* Data Leakage: If you compute statistics (e.g., mean/std) on the entire dataset (instead of just the training split), you risk leaking information into validation/test data.\n",
    "\n",
    "* Deployment Complexity: You’d need to reapply the same pandas preprocessing steps every time you use the model, which is error-prone.\n",
    "\n",
    "* Scalability: Manual preprocessing doesn’t work for large datasets or streaming data.\n",
    "\n",
    "Best Practice\n",
    "Use Keras preprocessing layers or TensorFlow Transform (TFT) for:\n",
    "\n",
    "* Consistency: Preprocessing logic is baked into the model.\n",
    "\n",
    "* Portability: The saved model includes preprocessing, so no extra code is needed during deployment.\n",
    "\n",
    "* Adaptability: Preprocessors automatically handle new data with the same logic."
   ]
  },
  {
   "cell_type": "code",
   "execution_count": 60,
   "metadata": {},
   "outputs": [],
   "source": [
    "# Let's create a list of columns falling onto each data type category\n",
    "binary_feature_names = ['sex', 'fbs', 'exang']\n",
    "categorical_feature_names = ['cp', 'restecg', 'slope', 'thal', 'ca']\n",
    "numeric_feature_names = ['age', 'thalach', 'trestbps',  'chol', 'oldpeak']\n",
    "numeric_features = df[numeric_feature_names]\n",
    "# Remaining will be numerical columns\n",
    "numeric_features_dict = {key: value.to_numpy()[:, tf.newaxis] for key, value in dict(numeric_features).items()}"
   ]
  },
  {
   "cell_type": "markdown",
   "metadata": {},
   "source": [
    "### Keras API\n",
    "This section uses the Keras Functional API to implement the preprocessing. You start by creating one tf.keras.Input for each column of the dataframe.\n",
    "For each input you'll apply some transformations using Keras layers and TensorFlow ops. Each feature starts as a batch of scalars (shape=(batch,)). The output for each should be a batch of tf.float32 vectors (shape=(batch, n)). The last step will concatenate all those vectors together."
   ]
  },
  {
   "cell_type": "code",
   "execution_count": 61,
   "metadata": {},
   "outputs": [],
   "source": [
    "inputs = {}\n",
    "for name, column in df.items():\n",
    "  if type(column[0]) == str or type(column[0]) == object:\n",
    "    dtype = tf.string\n",
    "  elif (name in categorical_feature_names or\n",
    "        name in binary_feature_names):\n",
    "    dtype = tf.int64\n",
    "  else:\n",
    "    dtype = tf.float32\n",
    "\n",
    "  inputs[name] = tf.keras.Input(shape=(1,), name=name, dtype=dtype)"
   ]
  },
  {
   "cell_type": "code",
   "execution_count": 62,
   "metadata": {},
   "outputs": [
    {
     "data": {
      "text/plain": [
       "{'age': <KerasTensor shape=(None, 1), dtype=float32, sparse=False, name=age>,\n",
       " 'sex': <KerasTensor shape=(None, 1), dtype=int64, sparse=False, name=sex>,\n",
       " 'cp': <KerasTensor shape=(None, 1), dtype=int64, sparse=False, name=cp>,\n",
       " 'trestbps': <KerasTensor shape=(None, 1), dtype=float32, sparse=False, name=trestbps>,\n",
       " 'chol': <KerasTensor shape=(None, 1), dtype=float32, sparse=False, name=chol>,\n",
       " 'fbs': <KerasTensor shape=(None, 1), dtype=int64, sparse=False, name=fbs>,\n",
       " 'restecg': <KerasTensor shape=(None, 1), dtype=int64, sparse=False, name=restecg>,\n",
       " 'thalach': <KerasTensor shape=(None, 1), dtype=float32, sparse=False, name=thalach>,\n",
       " 'exang': <KerasTensor shape=(None, 1), dtype=int64, sparse=False, name=exang>,\n",
       " 'oldpeak': <KerasTensor shape=(None, 1), dtype=float32, sparse=False, name=oldpeak>,\n",
       " 'slope': <KerasTensor shape=(None, 1), dtype=int64, sparse=False, name=slope>,\n",
       " 'ca': <KerasTensor shape=(None, 1), dtype=int64, sparse=False, name=ca>,\n",
       " 'thal': <KerasTensor shape=(None, 1), dtype=string, sparse=False, name=thal>}"
      ]
     },
     "execution_count": 62,
     "metadata": {},
     "output_type": "execute_result"
    }
   ],
   "source": [
    "inputs"
   ]
  },
  {
   "cell_type": "markdown",
   "metadata": {},
   "source": [
    "#### Binary inputs"
   ]
  },
  {
   "cell_type": "code",
   "execution_count": 63,
   "metadata": {},
   "outputs": [
    {
     "data": {
      "text/plain": [
       "[<KerasTensor shape=(None, 1), dtype=int64, sparse=False, name=sex>,\n",
       " <KerasTensor shape=(None, 1), dtype=int64, sparse=False, name=fbs>,\n",
       " <KerasTensor shape=(None, 1), dtype=int64, sparse=False, name=exang>]"
      ]
     },
     "execution_count": 63,
     "metadata": {},
     "output_type": "execute_result"
    }
   ],
   "source": [
    "preprocessed = []\n",
    "\n",
    "for name in binary_feature_names:\n",
    "  inp = inputs[name]\n",
    "  preprocessed.append(inp)\n",
    "\n",
    "preprocessed"
   ]
  },
  {
   "cell_type": "markdown",
   "metadata": {},
   "source": [
    "#### Numeric inputs"
   ]
  },
  {
   "cell_type": "code",
   "execution_count": 64,
   "metadata": {},
   "outputs": [],
   "source": [
    "normalizer = tf.keras.layers.Normalization(axis=-1)\n",
    "normalizer.adapt(np.concatenate([value for key, value in sorted(numeric_features_dict.items())], axis=1))"
   ]
  },
  {
   "cell_type": "code",
   "execution_count": 65,
   "metadata": {},
   "outputs": [
    {
     "data": {
      "text/plain": [
       "[<KerasTensor shape=(None, 1), dtype=int64, sparse=False, name=sex>,\n",
       " <KerasTensor shape=(None, 1), dtype=int64, sparse=False, name=fbs>,\n",
       " <KerasTensor shape=(None, 1), dtype=int64, sparse=False, name=exang>,\n",
       " <KerasTensor shape=(None, 5), dtype=float32, sparse=False, name=keras_tensor_1>]"
      ]
     },
     "execution_count": 65,
     "metadata": {},
     "output_type": "execute_result"
    }
   ],
   "source": [
    "numeric_inputs = []\n",
    "for name in numeric_feature_names:\n",
    "  numeric_inputs.append(inputs[name])\n",
    "\n",
    "numeric_inputs = tf.keras.layers.Concatenate(axis=-1)(numeric_inputs)\n",
    "numeric_normalized = normalizer(numeric_inputs)\n",
    "\n",
    "preprocessed.append(numeric_normalized)\n",
    "\n",
    "preprocessed"
   ]
  },
  {
   "cell_type": "markdown",
   "metadata": {},
   "source": [
    "#### Categorical features"
   ]
  },
  {
   "cell_type": "code",
   "execution_count": 66,
   "metadata": {},
   "outputs": [
    {
     "data": {
      "text/plain": [
       "<tf.Tensor: shape=(5, 4), dtype=int64, numpy=\n",
       "array([[0, 0, 0, 1],\n",
       "       [0, 1, 0, 0],\n",
       "       [0, 1, 0, 0],\n",
       "       [0, 0, 1, 0],\n",
       "       [1, 0, 0, 0]], dtype=int64)>"
      ]
     },
     "execution_count": 66,
     "metadata": {},
     "output_type": "execute_result"
    }
   ],
   "source": [
    "vocab = ['a','b','c']\n",
    "lookup = tf.keras.layers.StringLookup(vocabulary=vocab, output_mode='one_hot')\n",
    "lookup(['c','a','a','b','zzz'])"
   ]
  },
  {
   "cell_type": "code",
   "execution_count": 67,
   "metadata": {},
   "outputs": [
    {
     "data": {
      "text/plain": [
       "<tf.Tensor: shape=(3, 5), dtype=int64, numpy=\n",
       "array([[1, 0, 0, 0, 0],\n",
       "       [0, 0, 1, 0, 0],\n",
       "       [0, 1, 0, 0, 0]], dtype=int64)>"
      ]
     },
     "execution_count": 67,
     "metadata": {},
     "output_type": "execute_result"
    }
   ],
   "source": [
    "vocab = [1,4,7,99]\n",
    "lookup = tf.keras.layers.IntegerLookup(vocabulary=vocab, output_mode='one_hot')\n",
    "\n",
    "lookup([-1,4,1])"
   ]
  },
  {
   "cell_type": "code",
   "execution_count": 68,
   "metadata": {},
   "outputs": [
    {
     "name": "stdout",
     "output_type": "stream",
     "text": [
      "name: cp\n",
      "vocab: [0, 1, 2, 3, 4]\n",
      "\n",
      "name: restecg\n",
      "vocab: [0, 1, 2]\n",
      "\n",
      "name: slope\n",
      "vocab: [1, 2, 3]\n",
      "\n",
      "name: thal\n",
      "vocab: ['1', '2', 'fixed', 'normal', 'reversible']\n",
      "\n",
      "name: ca\n",
      "vocab: [0, 1, 2, 3]\n",
      "\n"
     ]
    }
   ],
   "source": [
    "for name in categorical_feature_names:\n",
    "  vocab = sorted(set(df[name]))\n",
    "  print(f'name: {name}')\n",
    "  print(f'vocab: {vocab}\\n')\n",
    "\n",
    "  if type(vocab[0]) is str:\n",
    "    lookup = tf.keras.layers.StringLookup(vocabulary=vocab, output_mode='one_hot')\n",
    "  else:\n",
    "    lookup = tf.keras.layers.IntegerLookup(vocabulary=vocab, output_mode='one_hot')\n",
    "\n",
    "  x = inputs[name]\n",
    "  x = lookup(x)\n",
    "  preprocessed.append(x)"
   ]
  },
  {
   "cell_type": "markdown",
   "metadata": {},
   "source": [
    "#### Assemble the preprocessing head"
   ]
  },
  {
   "cell_type": "code",
   "execution_count": 69,
   "metadata": {},
   "outputs": [
    {
     "data": {
      "text/plain": [
       "[<KerasTensor shape=(None, 1), dtype=int64, sparse=False, name=sex>,\n",
       " <KerasTensor shape=(None, 1), dtype=int64, sparse=False, name=fbs>,\n",
       " <KerasTensor shape=(None, 1), dtype=int64, sparse=False, name=exang>,\n",
       " <KerasTensor shape=(None, 5), dtype=float32, sparse=False, name=keras_tensor_1>,\n",
       " <KerasTensor shape=(None, 6), dtype=float32, sparse=False, name=keras_tensor_2>,\n",
       " <KerasTensor shape=(None, 4), dtype=float32, sparse=False, name=keras_tensor_3>,\n",
       " <KerasTensor shape=(None, 4), dtype=float32, sparse=False, name=keras_tensor_4>,\n",
       " <KerasTensor shape=(None, 6), dtype=float32, sparse=False, name=keras_tensor_5>,\n",
       " <KerasTensor shape=(None, 5), dtype=float32, sparse=False, name=keras_tensor_6>]"
      ]
     },
     "execution_count": 69,
     "metadata": {},
     "output_type": "execute_result"
    }
   ],
   "source": [
    "preprocessed"
   ]
  },
  {
   "cell_type": "code",
   "execution_count": 70,
   "metadata": {},
   "outputs": [
    {
     "data": {
      "text/plain": [
       "<KerasTensor shape=(None, 33), dtype=float32, sparse=False, name=keras_tensor_7>"
      ]
     },
     "execution_count": 70,
     "metadata": {},
     "output_type": "execute_result"
    }
   ],
   "source": [
    "preprocessed_result = tf.keras.layers.Concatenate(axis=1)(preprocessed)\n",
    "preprocessed_result"
   ]
  },
  {
   "cell_type": "code",
   "execution_count": 71,
   "metadata": {},
   "outputs": [],
   "source": [
    "preprocessor = tf.keras.Model(inputs, preprocessed_result)\n"
   ]
  },
  {
   "cell_type": "code",
   "execution_count": 72,
   "metadata": {},
   "outputs": [
    {
     "name": "stdout",
     "output_type": "stream",
     "text": [
      "You must install graphviz (see instructions at https://graphviz.gitlab.io/download/) for `plot_model` to work.\n"
     ]
    }
   ],
   "source": [
    "tf.keras.utils.plot_model(preprocessor, rankdir=\"LR\", show_shapes=True,  show_layer_names=True)"
   ]
  },
  {
   "cell_type": "markdown",
   "metadata": {},
   "source": [
    "## Calling preprocess layer for testing"
   ]
  },
  {
   "cell_type": "code",
   "execution_count": 73,
   "metadata": {},
   "outputs": [
    {
     "data": {
      "text/plain": [
       "<tf.Tensor: shape=(1, 33), dtype=float32, numpy=\n",
       "array([[  1.       ,   1.       ,   0.       ,   0.93384  ,  -1.8534899,\n",
       "        123.75735  ,   3.6224306,  -7.3077087,   0.       ,   0.       ,\n",
       "          1.       ,   0.       ,   0.       ,   0.       ,   0.       ,\n",
       "          0.       ,   0.       ,   1.       ,   0.       ,   0.       ,\n",
       "          0.       ,   1.       ,   0.       ,   0.       ,   0.       ,\n",
       "          1.       ,   0.       ,   0.       ,   0.       ,   1.       ,\n",
       "          0.       ,   0.       ,   0.       ]], dtype=float32)>"
      ]
     },
     "execution_count": 73,
     "metadata": {},
     "output_type": "execute_result"
    }
   ],
   "source": [
    "preprocessor(dict(df.iloc[:1]))"
   ]
  },
  {
   "cell_type": "markdown",
   "metadata": {},
   "source": [
    "## Create and train a model"
   ]
  },
  {
   "cell_type": "code",
   "execution_count": 74,
   "metadata": {},
   "outputs": [],
   "source": [
    "body = tf.keras.Sequential([\n",
    "  tf.keras.layers.Dense(10, activation='relu'),\n",
    "  tf.keras.layers.Dense(10, activation='relu'),\n",
    "  tf.keras.layers.Dense(1)\n",
    "])"
   ]
  },
  {
   "cell_type": "code",
   "execution_count": 75,
   "metadata": {},
   "outputs": [
    {
     "data": {
      "text/plain": [
       "{'age': <KerasTensor shape=(None, 1), dtype=float32, sparse=False, name=age>,\n",
       " 'sex': <KerasTensor shape=(None, 1), dtype=int64, sparse=False, name=sex>,\n",
       " 'cp': <KerasTensor shape=(None, 1), dtype=int64, sparse=False, name=cp>,\n",
       " 'trestbps': <KerasTensor shape=(None, 1), dtype=float32, sparse=False, name=trestbps>,\n",
       " 'chol': <KerasTensor shape=(None, 1), dtype=float32, sparse=False, name=chol>,\n",
       " 'fbs': <KerasTensor shape=(None, 1), dtype=int64, sparse=False, name=fbs>,\n",
       " 'restecg': <KerasTensor shape=(None, 1), dtype=int64, sparse=False, name=restecg>,\n",
       " 'thalach': <KerasTensor shape=(None, 1), dtype=float32, sparse=False, name=thalach>,\n",
       " 'exang': <KerasTensor shape=(None, 1), dtype=int64, sparse=False, name=exang>,\n",
       " 'oldpeak': <KerasTensor shape=(None, 1), dtype=float32, sparse=False, name=oldpeak>,\n",
       " 'slope': <KerasTensor shape=(None, 1), dtype=int64, sparse=False, name=slope>,\n",
       " 'ca': <KerasTensor shape=(None, 1), dtype=int64, sparse=False, name=ca>,\n",
       " 'thal': <KerasTensor shape=(None, 1), dtype=string, sparse=False, name=thal>}"
      ]
     },
     "execution_count": 75,
     "metadata": {},
     "output_type": "execute_result"
    }
   ],
   "source": [
    "inputs"
   ]
  },
  {
   "cell_type": "code",
   "execution_count": 76,
   "metadata": {},
   "outputs": [
    {
     "data": {
      "text/plain": [
       "<KerasTensor shape=(None, 33), dtype=float32, sparse=False, name=keras_tensor_8>"
      ]
     },
     "execution_count": 76,
     "metadata": {},
     "output_type": "execute_result"
    }
   ],
   "source": [
    "x = preprocessor(inputs)\n",
    "x"
   ]
  },
  {
   "cell_type": "code",
   "execution_count": 77,
   "metadata": {},
   "outputs": [
    {
     "data": {
      "text/plain": [
       "<KerasTensor shape=(None, 1), dtype=float32, sparse=False, name=keras_tensor_13>"
      ]
     },
     "execution_count": 77,
     "metadata": {},
     "output_type": "execute_result"
    }
   ],
   "source": [
    "result = body(x)\n",
    "result"
   ]
  },
  {
   "cell_type": "code",
   "execution_count": 78,
   "metadata": {},
   "outputs": [],
   "source": [
    "model = tf.keras.Model(inputs, result)\n",
    "\n",
    "model.compile(optimizer='adam',\n",
    "                loss=tf.keras.losses.BinaryCrossentropy(from_logits=True),\n",
    "                metrics=['accuracy'])"
   ]
  },
  {
   "cell_type": "code",
   "execution_count": 79,
   "metadata": {},
   "outputs": [
    {
     "name": "stdout",
     "output_type": "stream",
     "text": [
      "You must install graphviz (see instructions at https://graphviz.gitlab.io/download/) for `plot_model` to work.\n"
     ]
    }
   ],
   "source": [
    "tf.keras.utils.plot_model(model, show_shapes=True,  show_layer_names=True)\n"
   ]
  },
  {
   "cell_type": "code",
   "execution_count": 80,
   "metadata": {},
   "outputs": [],
   "source": [
    "SHUFFLE_BUFFER = 500\n",
    "BATCH_SIZE = 2"
   ]
  },
  {
   "cell_type": "code",
   "execution_count": 81,
   "metadata": {},
   "outputs": [
    {
     "ename": "ValueError",
     "evalue": "Invalid dtype: object",
     "output_type": "error",
     "traceback": [
      "\u001b[1;31m---------------------------------------------------------------------------\u001b[0m",
      "\u001b[1;31mValueError\u001b[0m                                Traceback (most recent call last)",
      "Cell \u001b[1;32mIn[81], line 1\u001b[0m\n\u001b[1;32m----> 1\u001b[0m history \u001b[38;5;241m=\u001b[39m \u001b[43mmodel\u001b[49m\u001b[38;5;241;43m.\u001b[39;49m\u001b[43mfit\u001b[49m\u001b[43m(\u001b[49m\u001b[38;5;28;43mdict\u001b[39;49m\u001b[43m(\u001b[49m\u001b[43mdf\u001b[49m\u001b[43m)\u001b[49m\u001b[43m,\u001b[49m\u001b[43m \u001b[49m\u001b[43mtarget\u001b[49m\u001b[43m,\u001b[49m\u001b[43m \u001b[49m\u001b[43mepochs\u001b[49m\u001b[38;5;241;43m=\u001b[39;49m\u001b[38;5;241;43m5\u001b[39;49m\u001b[43m,\u001b[49m\u001b[43m \u001b[49m\u001b[43mbatch_size\u001b[49m\u001b[38;5;241;43m=\u001b[39;49m\u001b[43mBATCH_SIZE\u001b[49m\u001b[43m)\u001b[49m\n",
      "File \u001b[1;32m~\\AppData\\Local\\Packages\\PythonSoftwareFoundation.Python.3.12_qbz5n2kfra8p0\\LocalCache\\local-packages\\Python312\\site-packages\\keras\\src\\utils\\traceback_utils.py:122\u001b[0m, in \u001b[0;36mfilter_traceback.<locals>.error_handler\u001b[1;34m(*args, **kwargs)\u001b[0m\n\u001b[0;32m    119\u001b[0m     filtered_tb \u001b[38;5;241m=\u001b[39m _process_traceback_frames(e\u001b[38;5;241m.\u001b[39m__traceback__)\n\u001b[0;32m    120\u001b[0m     \u001b[38;5;66;03m# To get the full stack trace, call:\u001b[39;00m\n\u001b[0;32m    121\u001b[0m     \u001b[38;5;66;03m# `keras.config.disable_traceback_filtering()`\u001b[39;00m\n\u001b[1;32m--> 122\u001b[0m     \u001b[38;5;28;01mraise\u001b[39;00m e\u001b[38;5;241m.\u001b[39mwith_traceback(filtered_tb) \u001b[38;5;28;01mfrom\u001b[39;00m \u001b[38;5;28;01mNone\u001b[39;00m\n\u001b[0;32m    123\u001b[0m \u001b[38;5;28;01mfinally\u001b[39;00m:\n\u001b[0;32m    124\u001b[0m     \u001b[38;5;28;01mdel\u001b[39;00m filtered_tb\n",
      "File \u001b[1;32m~\\AppData\\Local\\Packages\\PythonSoftwareFoundation.Python.3.12_qbz5n2kfra8p0\\LocalCache\\local-packages\\Python312\\site-packages\\optree\\ops.py:752\u001b[0m, in \u001b[0;36mtree_map\u001b[1;34m(func, tree, is_leaf, none_is_leaf, namespace, *rests)\u001b[0m\n\u001b[0;32m    750\u001b[0m leaves, treespec \u001b[38;5;241m=\u001b[39m _C\u001b[38;5;241m.\u001b[39mflatten(tree, is_leaf, none_is_leaf, namespace)\n\u001b[0;32m    751\u001b[0m flat_args \u001b[38;5;241m=\u001b[39m [leaves] \u001b[38;5;241m+\u001b[39m [treespec\u001b[38;5;241m.\u001b[39mflatten_up_to(r) \u001b[38;5;28;01mfor\u001b[39;00m r \u001b[38;5;129;01min\u001b[39;00m rests]\n\u001b[1;32m--> 752\u001b[0m \u001b[38;5;28;01mreturn\u001b[39;00m \u001b[43mtreespec\u001b[49m\u001b[38;5;241;43m.\u001b[39;49m\u001b[43munflatten\u001b[49m\u001b[43m(\u001b[49m\u001b[38;5;28;43mmap\u001b[39;49m\u001b[43m(\u001b[49m\u001b[43mfunc\u001b[49m\u001b[43m,\u001b[49m\u001b[43m \u001b[49m\u001b[38;5;241;43m*\u001b[39;49m\u001b[43mflat_args\u001b[49m\u001b[43m)\u001b[49m\u001b[43m)\u001b[49m\n",
      "\u001b[1;31mValueError\u001b[0m: Invalid dtype: object"
     ]
    }
   ],
   "source": [
    "history = model.fit(dict(df), target, epochs=5, batch_size=BATCH_SIZE)"
   ]
  },
  {
   "cell_type": "markdown",
   "metadata": {},
   "source": []
  }
 ],
 "metadata": {
  "kernelspec": {
   "display_name": "Python 3",
   "language": "python",
   "name": "python3"
  },
  "language_info": {
   "codemirror_mode": {
    "name": "ipython",
    "version": 3
   },
   "file_extension": ".py",
   "mimetype": "text/x-python",
   "name": "python",
   "nbconvert_exporter": "python",
   "pygments_lexer": "ipython3",
   "version": "3.12.9"
  }
 },
 "nbformat": 4,
 "nbformat_minor": 2
}
