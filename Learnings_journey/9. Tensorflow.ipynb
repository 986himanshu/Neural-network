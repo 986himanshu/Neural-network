{
 "cells": [
  {
   "cell_type": "markdown",
   "metadata": {},
   "source": [
    "<a target=\"_blank\" href=\"https://colab.research.google.com/github/\">\n",
    "  <img src=\"https://colab.research.google.com/assets/colab-badge.svg\" alt=\"Open In Colab\"/>\n",
    "</a>"
   ]
  },
  {
   "cell_type": "markdown",
   "metadata": {},
   "source": [
    "# Tensorflow\n",
    "# TensorFlow vs. PyTorch: A Tale of Two Deep Learning Giants 🧠🔍\n",
    "\n",
    "---\n",
    "\n",
    "# 1. Introduction: Tensor Math with a Sprinkle of Keras Magic  \n",
    "At their core, **TensorFlow** and **PyTorch** are frameworks designed to perform *tensor algebra*—the lifeblood of deep learning.  \n",
    "Tensors are fancy, multidimensional arrays that enable efficient data manipulation on GPUs.\n",
    "\n",
    "- **TensorFlow**: Known for its robust **Keras** API, a high-level library for building models easily.  \n",
    "  Think of Keras as LEGO bricks that make TensorFlow approachable for beginners and scalable for production.\n",
    "  \n",
    "- **PyTorch**: Offers a more Pythonic and intuitive interface, loved by researchers for its dynamic computation graph.  \n",
    "  It’s like the Swiss Army knife for prototyping!\n",
    "\n",
    "---\n",
    "\n",
    "# 2. Attributes of Tensors: The Building Blocks of Deep Learning  \n",
    "Tensors have several key attributes:  \n",
    "\n",
    "- **Rank**: The number of dimensions a tensor has.  \n",
    "  - Example: A scalar (single number) has rank 0, a vector has rank 1, and a matrix has rank 2.  \n",
    "\n",
    "- **Order**: Synonymous with rank; another term for it.  \n",
    "\n",
    "- **Shape**: The size of each dimension in the tensor.  \n",
    "  For instance, a tensor with shape `(3, 4, 5)` has 3 dimensions.  \n",
    "\n",
    "- **Datatype**: Tensors can store data of different types like `float32`, `int64`, etc.  \n",
    "\n",
    "> **Fun Fact**: In PyTorch, `tensor.dtype` is like the recipe for your tensor, while `tensor.shape` tells you its serving size. 🍽️\n",
    "\n",
    "---\n",
    "\n",
    "# 3. Methods/Operations on Tensors: Math on Steroids  \n",
    "Both frameworks excel at tensor operations. Here’s a taste of what you can do:  \n",
    "\n",
    "- **Matrix Multiplication**:  \n",
    "  - TensorFlow: `tf.matmul(a, b)`  \n",
    "  - PyTorch: `torch.mm(a, b)`  \n",
    "\n",
    "- **Element-wise Operations**:  \n",
    "  Operations like addition, subtraction, etc., applied element by element.  \n",
    "\n",
    "- **Gradients and Autograd**:  \n",
    "  Both frameworks support automatic differentiation.  \n",
    "  - TensorFlow: Handles gradients with `tf.GradientTape()`.  \n",
    "  - PyTorch: Offers `torch.autograd` with dynamic computation graphs, perfect for experimentation.  \n",
    "\n",
    "> PyTorch’s dynamic graph lets you modify the graph on the fly, while Tenso\n"
   ]
  },
  {
   "cell_type": "markdown",
   "metadata": {},
   "source": [
    "## Importing libraries"
   ]
  },
  {
   "cell_type": "code",
   "execution_count": 1,
   "metadata": {},
   "outputs": [],
   "source": [
    "import tensorflow as tf"
   ]
  },
  {
   "cell_type": "code",
   "execution_count": 2,
   "metadata": {},
   "outputs": [],
   "source": [
    "import warnings\n",
    "warnings.filterwarnings(\"ignore\")"
   ]
  },
  {
   "cell_type": "markdown",
   "metadata": {},
   "source": [
    "## Attributes & Data\n",
    "Tensors have shapes. Some vocabulary:\n",
    "\n",
    "Shape: The length (number of elements) of each of the axes of a tensor.\n",
    "\n",
    "Rank: Number of tensor axes. A scalar has rank 0, a vector has rank 1, a matrix is rank 2.\n",
    "\n",
    "Axis or Dimension: A particular dimension of a tensor.\n",
    "\n",
    "Size: The total number of items in the tensor, the product of the shape vector's elements.\n"
   ]
  },
  {
   "cell_type": "code",
   "execution_count": 3,
   "metadata": {},
   "outputs": [],
   "source": [
    "x = tf.constant([[1., 2., 3.],\n",
    "                 [4., 5., 6.]])"
   ]
  },
  {
   "cell_type": "code",
<<<<<<< HEAD
   "execution_count": null,
=======
   "execution_count": 4,
>>>>>>> df6873d1f6c46e7ac1fe2c03ecfe7d3f25aa44b2
   "metadata": {},
   "outputs": [],
   "source": [
    "print(x)\n",
    "print(x.shape)\n",
    "print(x.dtype)"
   ]
  },
  {
   "cell_type": "code",
<<<<<<< HEAD
   "execution_count": null,
   "metadata": {},
   "outputs": [],
=======
   "execution_count": 5,
   "metadata": {},
   "outputs": [
    {
     "data": {
      "text/plain": [
       "<tf.Tensor: shape=(), dtype=int32, numpy=2>"
      ]
     },
     "execution_count": 5,
     "metadata": {},
     "output_type": "execute_result"
    }
   ],
>>>>>>> df6873d1f6c46e7ac1fe2c03ecfe7d3f25aa44b2
   "source": [
    "tf.rank(x)"
   ]
  },
  {
   "cell_type": "code",
<<<<<<< HEAD
   "execution_count": null,
   "metadata": {},
   "outputs": [],
=======
   "execution_count": 6,
   "metadata": {},
   "outputs": [
    {
     "data": {
      "text/plain": [
       "<tf.Tensor: shape=(2, 3), dtype=float32, numpy=\n",
       "array([[ 2.,  4.,  6.],\n",
       "       [ 8., 10., 12.]], dtype=float32)>"
      ]
     },
     "execution_count": 6,
     "metadata": {},
     "output_type": "execute_result"
    }
   ],
>>>>>>> df6873d1f6c46e7ac1fe2c03ecfe7d3f25aa44b2
   "source": [
    "x + x"
   ]
  },
  {
   "cell_type": "code",
<<<<<<< HEAD
   "execution_count": null,
   "metadata": {},
   "outputs": [],
=======
   "execution_count": 7,
   "metadata": {},
   "outputs": [
    {
     "data": {
      "text/plain": [
       "<tf.Tensor: shape=(2, 3), dtype=float32, numpy=\n",
       "array([[ 5., 10., 15.],\n",
       "       [20., 25., 30.]], dtype=float32)>"
      ]
     },
     "execution_count": 7,
     "metadata": {},
     "output_type": "execute_result"
    }
   ],
>>>>>>> df6873d1f6c46e7ac1fe2c03ecfe7d3f25aa44b2
   "source": [
    "5 * x"
   ]
  },
  {
   "cell_type": "code",
<<<<<<< HEAD
   "execution_count": null,
   "metadata": {},
   "outputs": [],
=======
   "execution_count": 8,
   "metadata": {},
   "outputs": [
    {
     "data": {
      "text/plain": [
       "<tf.Tensor: shape=(2, 2), dtype=float32, numpy=\n",
       "array([[14., 32.],\n",
       "       [32., 77.]], dtype=float32)>"
      ]
     },
     "execution_count": 8,
     "metadata": {},
     "output_type": "execute_result"
    }
   ],
>>>>>>> df6873d1f6c46e7ac1fe2c03ecfe7d3f25aa44b2
   "source": [
    "x @ tf.transpose(x) #Matmul"
   ]
  },
  {
   "cell_type": "code",
<<<<<<< HEAD
   "execution_count": null,
   "metadata": {},
   "outputs": [],
   "source": [
    "tf.matmul(x, tf.transpose(x)) #Matmul"
   ]
  },
  {
   "cell_type": "code",
   "execution_count": null,
   "metadata": {},
   "outputs": [],
   "source": [
    "tf.tensordot(x, x, axes = (1,1)) #Tensor dot"
   ]
  },
  {
   "cell_type": "code",
   "execution_count": null,
   "metadata": {},
   "outputs": [],
=======
   "execution_count": 9,
   "metadata": {},
   "outputs": [
    {
     "data": {
      "text/plain": [
       "<tf.Tensor: shape=(2, 2), dtype=float32, numpy=\n",
       "array([[14., 32.],\n",
       "       [32., 77.]], dtype=float32)>"
      ]
     },
     "execution_count": 9,
     "metadata": {},
     "output_type": "execute_result"
    }
   ],
   "source": [
    "tf.matmul(x, tf.transpose(x)) #Matmul"
   ]
  },
  {
   "cell_type": "code",
   "execution_count": 10,
   "metadata": {},
   "outputs": [
    {
     "data": {
      "text/plain": [
       "<tf.Tensor: shape=(2, 2), dtype=float32, numpy=\n",
       "array([[14., 32.],\n",
       "       [32., 77.]], dtype=float32)>"
      ]
     },
     "execution_count": 10,
     "metadata": {},
     "output_type": "execute_result"
    }
   ],
   "source": [
    "tf.tensordot(x, x, axes = (1,1)) #Tensor dot"
   ]
  },
  {
   "cell_type": "code",
   "execution_count": 11,
   "metadata": {},
   "outputs": [
    {
     "data": {
      "text/plain": [
       "<tf.Tensor: shape=(6, 3), dtype=float32, numpy=\n",
       "array([[1., 2., 3.],\n",
       "       [4., 5., 6.],\n",
       "       [1., 2., 3.],\n",
       "       [4., 5., 6.],\n",
       "       [1., 2., 3.],\n",
       "       [4., 5., 6.]], dtype=float32)>"
      ]
     },
     "execution_count": 11,
     "metadata": {},
     "output_type": "execute_result"
    }
   ],
>>>>>>> df6873d1f6c46e7ac1fe2c03ecfe7d3f25aa44b2
   "source": [
    "tf.concat([x, x, x], axis=0)"
   ]
  },
  {
   "cell_type": "code",
<<<<<<< HEAD
   "execution_count": null,
   "metadata": {},
   "outputs": [],
=======
   "execution_count": 12,
   "metadata": {},
   "outputs": [
    {
     "data": {
      "text/plain": [
       "<tf.Tensor: shape=(2, 3), dtype=float32, numpy=\n",
       "array([[0.09003057, 0.24472848, 0.6652409 ],\n",
       "       [0.09003057, 0.24472848, 0.6652409 ]], dtype=float32)>"
      ]
     },
     "execution_count": 12,
     "metadata": {},
     "output_type": "execute_result"
    }
   ],
>>>>>>> df6873d1f6c46e7ac1fe2c03ecfe7d3f25aa44b2
   "source": [
    "tf.nn.softmax(x, axis=-1)"
   ]
  },
  {
   "cell_type": "code",
<<<<<<< HEAD
   "execution_count": null,
   "metadata": {},
   "outputs": [],
=======
   "execution_count": 13,
   "metadata": {},
   "outputs": [
    {
     "data": {
      "text/plain": [
       "<tf.Tensor: shape=(), dtype=float32, numpy=21.0>"
      ]
     },
     "execution_count": 13,
     "metadata": {},
     "output_type": "execute_result"
    }
   ],
>>>>>>> df6873d1f6c46e7ac1fe2c03ecfe7d3f25aa44b2
   "source": [
    "tf.reduce_sum(x)"
   ]
  },
  {
   "cell_type": "code",
<<<<<<< HEAD
   "execution_count": null,
   "metadata": {},
   "outputs": [],
=======
   "execution_count": 14,
   "metadata": {},
   "outputs": [
    {
     "data": {
      "text/plain": [
       "<tf.Tensor: shape=(3,), dtype=int32, numpy=array([1, 2, 3])>"
      ]
     },
     "execution_count": 14,
     "metadata": {},
     "output_type": "execute_result"
    }
   ],
>>>>>>> df6873d1f6c46e7ac1fe2c03ecfe7d3f25aa44b2
   "source": [
    "tf.convert_to_tensor([1,2,3])"
   ]
  },
  {
   "cell_type": "code",
<<<<<<< HEAD
   "execution_count": null,
=======
   "execution_count": 15,
>>>>>>> df6873d1f6c46e7ac1fe2c03ecfe7d3f25aa44b2
   "metadata": {},
   "outputs": [],
   "source": [
    "if tf.config.list_physical_devices('GPU'):\n",
    "  print(\"TensorFlow **IS** using the GPU\")\n",
    "else:\n",
    "  print(\"TensorFlow **IS NOT** using the GPU\")"
   ]
  },
  {
   "cell_type": "markdown",
   "metadata": {},
   "source": [
    "Ragged Tensors\n",
    "A tensor with variable numbers of elements along some axis is called \"ragged\". Use tf.ragged.RaggedTensor for ragged data.\n",
    "\n",
    "For example, This cannot be represented as a regular tensor:"
   ]
  },
  {
   "cell_type": "code",
   "execution_count": 16,
   "metadata": {},
   "outputs": [],
   "source": [
    "ragged_list = [\n",
    "    [0, 1, 2, 3],\n",
    "    [4, 5],\n",
    "    [6, 7, 8],\n",
    "    [9]]"
   ]
  },
  {
   "cell_type": "code",
<<<<<<< HEAD
   "execution_count": null,
=======
   "execution_count": 17,
>>>>>>> df6873d1f6c46e7ac1fe2c03ecfe7d3f25aa44b2
   "metadata": {},
   "outputs": [],
   "source": [
    "try:\n",
    "  tensor = tf.constant(ragged_list)\n",
    "except Exception as e:\n",
    "  print(f\"{type(e).__name__}: {e}\")"
   ]
  },
  {
   "cell_type": "code",
<<<<<<< HEAD
   "execution_count": null,
=======
   "execution_count": 18,
>>>>>>> df6873d1f6c46e7ac1fe2c03ecfe7d3f25aa44b2
   "metadata": {},
   "outputs": [],
   "source": [
    "ragged_tensor = tf.ragged.constant(ragged_list)\n",
    "print(ragged_tensor)"
   ]
  },
  {
   "cell_type": "markdown",
   "metadata": {},
   "source": [
    "String tensors\n",
    "tf.string is a dtype, which is to say you can represent data as strings (variable-length byte arrays) in tensors.\n",
    "\n",
    "The strings are atomic and cannot be indexed the way Python strings are. The length of the string is not one of the axes of the tensor. See tf.strings for functions to manipulate them."
   ]
  },
  {
   "cell_type": "code",
<<<<<<< HEAD
   "execution_count": null,
=======
   "execution_count": 19,
>>>>>>> df6873d1f6c46e7ac1fe2c03ecfe7d3f25aa44b2
   "metadata": {},
   "outputs": [],
   "source": [
    "# Tensors can be strings, too here is a scalar string.\n",
    "scalar_string_tensor = tf.constant(\"Gray wolf\")\n",
    "print(scalar_string_tensor)"
   ]
  },
  {
   "cell_type": "markdown",
   "metadata": {},
   "source": [
    "Sparse tensors:\n",
    "Sometimes, your data is sparse, like a very wide embedding space. TensorFlow supports tf.sparse.SparseTensor and related operations to store sparse data efficiently."
   ]
  },
  {
   "cell_type": "code",
<<<<<<< HEAD
   "execution_count": null,
=======
   "execution_count": 20,
>>>>>>> df6873d1f6c46e7ac1fe2c03ecfe7d3f25aa44b2
   "metadata": {},
   "outputs": [],
   "source": [
    "# Sparse tensors store values by index in a memory-efficient manner\n",
    "sparse_tensor = tf.sparse.SparseTensor(indices=[[0, 0], [1, 2]],\n",
    "                                       values=[1, 2],\n",
    "                                       dense_shape=[3, 4])\n",
    "print(sparse_tensor, \"\\n\")\n",
    "\n",
    "# You can convert sparse tensors to dense\n",
    "print(tf.sparse.to_dense(sparse_tensor))"
   ]
  },
  {
   "cell_type": "markdown",
   "metadata": {},
   "source": [
    "## Operations\n",
    "Normal tf.Tensor objects are immutable. To store model weights (or other mutable state) in TensorFlow use a tf.Variable."
   ]
  },
  {
   "cell_type": "code",
   "execution_count": 21,
   "metadata": {},
   "outputs": [],
   "source": [
    "var = tf.Variable(x)"
   ]
  },
  {
   "cell_type": "code",
<<<<<<< HEAD
   "execution_count": null,
   "metadata": {},
   "outputs": [],
=======
   "execution_count": 22,
   "metadata": {},
   "outputs": [
    {
     "data": {
      "text/plain": [
       "<tf.Variable 'UnreadVariable' shape=(2, 3) dtype=float32, numpy=\n",
       "array([[3., 4., 5.],\n",
       "       [6., 7., 8.]], dtype=float32)>"
      ]
     },
     "execution_count": 22,
     "metadata": {},
     "output_type": "execute_result"
    }
   ],
>>>>>>> df6873d1f6c46e7ac1fe2c03ecfe7d3f25aa44b2
   "source": [
    "var.assign(var+2)"
   ]
  },
  {
   "cell_type": "code",
<<<<<<< HEAD
   "execution_count": null,
   "metadata": {},
   "outputs": [],
=======
   "execution_count": 23,
   "metadata": {},
   "outputs": [
    {
     "data": {
      "text/plain": [
       "<tf.Variable 'Variable:0' shape=(2, 3) dtype=float32, numpy=\n",
       "array([[3., 4., 5.],\n",
       "       [6., 7., 8.]], dtype=float32)>"
      ]
     },
     "execution_count": 23,
     "metadata": {},
     "output_type": "execute_result"
    }
   ],
>>>>>>> df6873d1f6c46e7ac1fe2c03ecfe7d3f25aa44b2
   "source": [
    "var"
   ]
  },
  {
   "cell_type": "code",
   "execution_count": 24,
   "metadata": {},
   "outputs": [],
   "source": [
    "x = tf.Variable(2.0)"
   ]
  },
  {
   "cell_type": "code",
<<<<<<< HEAD
   "execution_count": null,
   "metadata": {},
   "outputs": [],
=======
   "execution_count": 25,
   "metadata": {},
   "outputs": [
    {
     "data": {
      "text/plain": [
       "<tf.Variable 'Variable:0' shape=() dtype=float32, numpy=2.0>"
      ]
     },
     "execution_count": 25,
     "metadata": {},
     "output_type": "execute_result"
    }
   ],
>>>>>>> df6873d1f6c46e7ac1fe2c03ecfe7d3f25aa44b2
   "source": [
    "x"
   ]
  },
  {
   "cell_type": "code",
<<<<<<< HEAD
   "execution_count": null,
   "metadata": {},
   "outputs": [],
=======
   "execution_count": 26,
   "metadata": {},
   "outputs": [
    {
     "data": {
      "text/plain": [
       "<tf.Tensor: shape=(), dtype=float32, numpy=3.0>"
      ]
     },
     "execution_count": 26,
     "metadata": {},
     "output_type": "execute_result"
    }
   ],
>>>>>>> df6873d1f6c46e7ac1fe2c03ecfe7d3f25aa44b2
   "source": [
    "def f(x):\n",
    "  y = x**2 + 2*x - 5\n",
    "  return y\n",
    "f(x)"
   ]
  },
  {
   "cell_type": "code",
   "execution_count": 27,
   "metadata": {},
   "outputs": [],
   "source": [
    "with tf.GradientTape() as tape:\n",
    "  y = f(x)\n",
    "\n",
    "g_x = tape.gradient(y, x)  # g(x) = dy/dx"
   ]
  },
  {
   "cell_type": "code",
<<<<<<< HEAD
   "execution_count": null,
   "metadata": {},
   "outputs": [],
=======
   "execution_count": 28,
   "metadata": {},
   "outputs": [
    {
     "data": {
      "text/plain": [
       "<tf.Tensor: shape=(), dtype=float32, numpy=6.0>"
      ]
     },
     "execution_count": 28,
     "metadata": {},
     "output_type": "execute_result"
    }
   ],
>>>>>>> df6873d1f6c46e7ac1fe2c03ecfe7d3f25aa44b2
   "source": [
    "g_x"
   ]
  },
  {
   "cell_type": "code",
   "execution_count": 29,
   "metadata": {},
   "outputs": [],
   "source": [
    "@tf.function\n",
    "def my_func(x):\n",
    "  print('Tracing.\\n')\n",
    "  return tf.reduce_sum(x)"
   ]
  },
  {
   "cell_type": "markdown",
   "metadata": {},
   "source": [
    "The first time you run the tf.function, although it executes in Python, it captures a complete, optimized graph representing the TensorFlow computations done within the function."
   ]
  },
  {
   "cell_type": "markdown",
   "metadata": {},
   "source": [
    "# Layers"
   ]
  },
  {
   "cell_type": "markdown",
   "metadata": {},
   "source": [
    "### Common pre-existing layers\n",
    "In the tf.keras.layers package, layers are objects. To construct a layer,\n",
    "simply construct the object. Most layers take as a first argument the number\n",
    "of output dimensions / channels.\n",
    "layer = tf.keras.layers.Dense(100)\n",
    "The number of input dimensions is often unnecessary, as it can be inferred\n",
    "the first time the layer is used, but it can be provided if you want to\n",
    "specify it manually, which is useful in some complex models.\n",
    "layer = tf.keras.layers.Dense(10, input_shape=(None, 5))"
   ]
  },
  {
   "cell_type": "markdown",
   "metadata": {},
   "source": [
    "### Custom layers\n",
    "The best way to implement your own layer is extending the tf.keras.Layer class and implementing:\n",
    "\n",
    "* __init__ , where you can do all input-independent initialization\n",
    "* build, where you know the shapes of the input tensors and can do the rest of the initialization\n",
    "* call, where you do the forward computation\n",
    "\n",
    "Note that you don't have to wait until build is called to create your variables, you can also create them in __init__. However, the advantage of creating them in build is that it enables late variable creation based on the shape of the inputs the layer will operate on. On the other hand, creating variables in __init__ would mean that shapes required to create the variables will need to be explicitly specified."
   ]
  },
  {
   "cell_type": "markdown",
   "metadata": {},
   "source": [
    "### Models: Composing layers\n",
    "Many interesting layer-like things in machine learning models are implemented by composing existing layers. For example, each residual block in a resnet is a composition of convolutions, batch normalizations, and a shortcut. Layers can be nested inside other layers.\n"
   ]
  },
  {
   "cell_type": "markdown",
   "metadata": {},
   "source": [
    "# CORE: Multiple linear regression\n",
    "This quickstart tutorial demonstrates how you can use the TensorFlow Core low-level APIs to build and train a multiple linear regression model that predicts fuel efficiency. It uses the Auto MPG dataset which contains fuel efficiency data for late-1970s and early 1980s automobiles."
   ]
  },
  {
   "cell_type": "markdown",
   "metadata": {},
   "source": [
    "## Load libraries"
   ]
  },
  {
   "cell_type": "code",
<<<<<<< HEAD
   "execution_count": 6,
=======
   "execution_count": 30,
>>>>>>> df6873d1f6c46e7ac1fe2c03ecfe7d3f25aa44b2
   "metadata": {},
   "outputs": [],
   "source": [
    "import pandas as pd\n",
    "import matplotlib.pyplot as plt\n",
    "import matplotlib"
   ]
  },
  {
   "cell_type": "markdown",
   "metadata": {},
   "source": [
    "## Load and preprocess datasets\n",
    "Usage of tensorflow specific named container class tf.Module for abstraction"
   ]
  },
  {
   "cell_type": "code",
   "execution_count": 31,
   "metadata": {},
   "outputs": [],
   "source": [
    "url = 'http://archive.ics.uci.edu/ml/machine-learning-databases/auto-mpg/auto-mpg.data'\n",
    "column_names = ['MPG', 'Cylinders', 'Displacement', 'Horsepower', 'Weight',\n",
    "                'Acceleration', 'Model Year', 'Origin']"
   ]
  },
  {
   "cell_type": "code",
   "execution_count": 32,
   "metadata": {},
   "outputs": [],
   "source": [
    "dataset = pd.read_csv(url, names=column_names,\n",
    "                       na_values='?', \n",
    "                       comment='\\t',\n",
    "                          sep=' ', \n",
    "                          skipinitialspace=True)"
   ]
  },
  {
   "cell_type": "code",
<<<<<<< HEAD
   "execution_count": null,
   "metadata": {},
   "outputs": [],
=======
   "execution_count": 33,
   "metadata": {},
   "outputs": [
    {
     "data": {
      "text/plain": [
       "MPG             0\n",
       "Cylinders       0\n",
       "Displacement    0\n",
       "Horsepower      6\n",
       "Weight          0\n",
       "Acceleration    0\n",
       "Model Year      0\n",
       "Origin          0\n",
       "dtype: int64"
      ]
     },
     "execution_count": 33,
     "metadata": {},
     "output_type": "execute_result"
    }
   ],
>>>>>>> df6873d1f6c46e7ac1fe2c03ecfe7d3f25aa44b2
   "source": [
    "dataset.isna().sum()"
   ]
  },
  {
   "cell_type": "code",
   "execution_count": 34,
   "metadata": {},
   "outputs": [],
   "source": [
    "# Handling na values via dropping records with na\n",
    "dataset = dataset.dropna()"
   ]
  },
  {
   "cell_type": "code",
   "execution_count": 35,
   "metadata": {},
   "outputs": [],
   "source": [
    "# To do or think of quicker ways of applying imputation"
   ]
  },
  {
   "cell_type": "code",
<<<<<<< HEAD
   "execution_count": null,
   "metadata": {},
   "outputs": [],
=======
   "execution_count": 36,
   "metadata": {},
   "outputs": [
    {
     "data": {
      "text/html": [
       "<div>\n",
       "<style scoped>\n",
       "    .dataframe tbody tr th:only-of-type {\n",
       "        vertical-align: middle;\n",
       "    }\n",
       "\n",
       "    .dataframe tbody tr th {\n",
       "        vertical-align: top;\n",
       "    }\n",
       "\n",
       "    .dataframe thead th {\n",
       "        text-align: right;\n",
       "    }\n",
       "</style>\n",
       "<table border=\"1\" class=\"dataframe\">\n",
       "  <thead>\n",
       "    <tr style=\"text-align: right;\">\n",
       "      <th></th>\n",
       "      <th>MPG</th>\n",
       "      <th>Cylinders</th>\n",
       "      <th>Displacement</th>\n",
       "      <th>Horsepower</th>\n",
       "      <th>Weight</th>\n",
       "      <th>Acceleration</th>\n",
       "      <th>Model Year</th>\n",
       "      <th>Origin</th>\n",
       "    </tr>\n",
       "  </thead>\n",
       "  <tbody>\n",
       "    <tr>\n",
       "      <th>393</th>\n",
       "      <td>27.0</td>\n",
       "      <td>4</td>\n",
       "      <td>140.0</td>\n",
       "      <td>86.0</td>\n",
       "      <td>2790.0</td>\n",
       "      <td>15.6</td>\n",
       "      <td>82</td>\n",
       "      <td>1</td>\n",
       "    </tr>\n",
       "    <tr>\n",
       "      <th>394</th>\n",
       "      <td>44.0</td>\n",
       "      <td>4</td>\n",
       "      <td>97.0</td>\n",
       "      <td>52.0</td>\n",
       "      <td>2130.0</td>\n",
       "      <td>24.6</td>\n",
       "      <td>82</td>\n",
       "      <td>2</td>\n",
       "    </tr>\n",
       "    <tr>\n",
       "      <th>395</th>\n",
       "      <td>32.0</td>\n",
       "      <td>4</td>\n",
       "      <td>135.0</td>\n",
       "      <td>84.0</td>\n",
       "      <td>2295.0</td>\n",
       "      <td>11.6</td>\n",
       "      <td>82</td>\n",
       "      <td>1</td>\n",
       "    </tr>\n",
       "    <tr>\n",
       "      <th>396</th>\n",
       "      <td>28.0</td>\n",
       "      <td>4</td>\n",
       "      <td>120.0</td>\n",
       "      <td>79.0</td>\n",
       "      <td>2625.0</td>\n",
       "      <td>18.6</td>\n",
       "      <td>82</td>\n",
       "      <td>1</td>\n",
       "    </tr>\n",
       "    <tr>\n",
       "      <th>397</th>\n",
       "      <td>31.0</td>\n",
       "      <td>4</td>\n",
       "      <td>119.0</td>\n",
       "      <td>82.0</td>\n",
       "      <td>2720.0</td>\n",
       "      <td>19.4</td>\n",
       "      <td>82</td>\n",
       "      <td>1</td>\n",
       "    </tr>\n",
       "  </tbody>\n",
       "</table>\n",
       "</div>"
      ],
      "text/plain": [
       "      MPG  Cylinders  Displacement  Horsepower  Weight  Acceleration  \\\n",
       "393  27.0          4         140.0        86.0  2790.0          15.6   \n",
       "394  44.0          4          97.0        52.0  2130.0          24.6   \n",
       "395  32.0          4         135.0        84.0  2295.0          11.6   \n",
       "396  28.0          4         120.0        79.0  2625.0          18.6   \n",
       "397  31.0          4         119.0        82.0  2720.0          19.4   \n",
       "\n",
       "     Model Year  Origin  \n",
       "393          82       1  \n",
       "394          82       2  \n",
       "395          82       1  \n",
       "396          82       1  \n",
       "397          82       1  "
      ]
     },
     "execution_count": 36,
     "metadata": {},
     "output_type": "execute_result"
    }
   ],
>>>>>>> df6873d1f6c46e7ac1fe2c03ecfe7d3f25aa44b2
   "source": [
    "dataset_tf = tf.convert_to_tensor(dataset, dtype=tf.float32)\n",
    "dataset.tail()"
   ]
  },
  {
   "cell_type": "code",
   "execution_count": 37,
   "metadata": {},
   "outputs": [],
   "source": [
    "dataset_shuffled = tf.random.shuffle(dataset_tf, seed=22)\n",
    "train_data, test_data = dataset_shuffled[100:], dataset_shuffled[:100]\n",
    "x_train, y_train = train_data[:, 1:], train_data[:, 0]\n",
    "x_test, y_test = test_data[:, 1:], test_data[:, 0]"
   ]
  },
  {
   "cell_type": "code",
   "execution_count": 38,
   "metadata": {},
   "outputs": [],
   "source": [
    "def onehot_origin(x):\n",
    "  \"Encoding label encoded origins which will be problematic to be used as numeric data features\"\n",
    "  origin = tf.cast(x[:, -1], tf.int32)\n",
    "  # Use `origin - 1` to account for 1-indexed feature\n",
    "  origin_oh = tf.one_hot(origin - 1, 3)\n",
    "  x_ohe = tf.concat([x[:, :-1], origin_oh], axis = 1)\n",
    "  return x_ohe"
   ]
  },
  {
   "cell_type": "code",
<<<<<<< HEAD
   "execution_count": null,
   "metadata": {},
   "outputs": [],
=======
   "execution_count": 39,
   "metadata": {},
   "outputs": [
    {
     "data": {
      "text/plain": [
       "array([[  4., 120.,  75., ...,   0.,   0.,   1.],\n",
       "       [  4., 119.,  97., ...,   0.,   0.,   1.],\n",
       "       [  4., 140.,  90., ...,   1.,   0.,   0.],\n",
       "       ...,\n",
       "       [  6., 250., 105., ...,   1.,   0.,   0.],\n",
       "       [  4., 120.,  87., ...,   0.,   1.,   0.],\n",
       "       [  6., 232.,  90., ...,   1.,   0.,   0.]], dtype=float32)"
      ]
     },
     "execution_count": 39,
     "metadata": {},
     "output_type": "execute_result"
    }
   ],
>>>>>>> df6873d1f6c46e7ac1fe2c03ecfe7d3f25aa44b2
   "source": [
    "x_train_ohe, x_test_ohe = onehot_origin(x_train), onehot_origin(x_test)\n",
    "x_train_ohe.numpy()"
   ]
  },
  {
   "cell_type": "code",
   "execution_count": 40,
   "metadata": {},
   "outputs": [],
   "source": [
    "class Normalize(tf.Module):\n",
    "  def __init__(self, x):\n",
    "    # Initialize the mean and standard deviation for normalization\n",
    "    self.mean = tf.math.reduce_mean(x, axis=0)\n",
    "    self.std = tf.math.reduce_std(x, axis=0)\n",
    "\n",
    "  def norm(self, x):\n",
    "    # Normalize the input\n",
    "\n",
    "    return (x - self.mean)/self.std\n",
    "\n",
    "  def unnorm(self, x):\n",
    "    # Unnormalize the input\n",
    "    return (x * self.std) + self.mean"
   ]
  },
  {
   "cell_type": "code",
   "execution_count": 41,
   "metadata": {},
   "outputs": [],
   "source": [
    "norm_x = Normalize(x_train_ohe)\n",
    "norm_y = Normalize(y_train)\n",
    "x_train_norm, y_train_norm = norm_x.norm(x_train_ohe), norm_y.norm(y_train)\n",
    "x_test_norm, y_test_norm = norm_x.norm(x_test_ohe), norm_y.norm(y_test)"
   ]
  },
  {
   "cell_type": "markdown",
   "metadata": {},
   "source": [
    "## Build Model (Abstracted as sequential and layers in keras)\n",
    "Again using tf.Module for abstraction"
   ]
  },
  {
   "cell_type": "code",
   "execution_count": 42,
   "metadata": {},
   "outputs": [],
   "source": [
    "class LinearRegression(tf.Module):\n",
    "\n",
    "  def __init__(self):\n",
    "    self.built = False\n",
    "\n",
    "  @tf.function\n",
    "  def __call__(self, x):\n",
    "    # Initialize the model parameters on the first call\n",
    "    if not self.built:\n",
    "      # Randomly generate the weight vector and bias term\n",
    "      rand_w = tf.random.uniform(shape=[x.shape[-1], 1])\n",
    "      rand_b = tf.random.uniform(shape=[])\n",
    "      self.w = tf.Variable(rand_w)\n",
    "      self.b = tf.Variable(rand_b)\n",
    "      self.built = True\n",
    "    y = tf.add(tf.matmul(x, self.w), self.b)\n",
    "    return tf.squeeze(y, axis=1)"
   ]
  },
  {
   "cell_type": "code",
<<<<<<< HEAD
   "execution_count": null,
   "metadata": {},
   "outputs": [],
=======
   "execution_count": 43,
   "metadata": {},
   "outputs": [
    {
     "data": {
      "text/plain": [
       "array([21.525768], dtype=float32)"
      ]
     },
     "execution_count": 43,
     "metadata": {},
     "output_type": "execute_result"
    }
   ],
>>>>>>> df6873d1f6c46e7ac1fe2c03ecfe7d3f25aa44b2
   "source": [
    "lin_reg = LinearRegression()\n",
    "prediction = lin_reg(x_train_norm[:1])\n",
    "prediction_unnorm = norm_y.unnorm(prediction)\n",
    "prediction_unnorm.numpy()"
   ]
  },
  {
   "cell_type": "markdown",
   "metadata": {},
   "source": [
    "## Defining loss function (Abstracted as compile in keras)"
   ]
  },
  {
   "cell_type": "code",
   "execution_count": 44,
   "metadata": {},
   "outputs": [],
   "source": [
    "def mse_loss(y_pred, y):\n",
    "  return tf.reduce_mean(tf.square(y_pred - y))"
   ]
  },
  {
   "cell_type": "markdown",
   "metadata": {},
   "source": [
    "## Training and evaluation functions (Abstracted as fit and predict functions in keras)"
   ]
  },
  {
   "cell_type": "code",
   "execution_count": 45,
   "metadata": {},
   "outputs": [],
   "source": [
    "### Minibatch gradient descent"
   ]
  },
  {
   "cell_type": "code",
   "execution_count": 46,
   "metadata": {},
   "outputs": [],
   "source": [
    "batch_size = 64\n",
    "train_dataset = tf.data.Dataset.from_tensor_slices((x_train_norm, y_train_norm))\n",
    "train_dataset = train_dataset.shuffle(buffer_size=x_train.shape[0]).batch(batch_size)\n",
    "test_dataset = tf.data.Dataset.from_tensor_slices((x_test_norm, y_test_norm))\n",
    "test_dataset = test_dataset.shuffle(buffer_size=x_test.shape[0]).batch(batch_size)"
   ]
  },
  {
   "cell_type": "code",
   "execution_count": 47,
   "metadata": {},
   "outputs": [],
   "source": [
    "# Set training parameters\n",
    "epochs = 100\n",
    "learning_rate = 0.01\n",
    "train_losses, test_losses = [], []"
   ]
  },
  {
   "cell_type": "code",
<<<<<<< HEAD
   "execution_count": null,
   "metadata": {},
   "outputs": [],
=======
   "execution_count": 48,
   "metadata": {},
   "outputs": [
    {
     "name": "stdout",
     "output_type": "stream",
     "text": [
      "Mean squared error for step 0: 4.552\n",
      "Mean squared error for step 10: 0.360\n",
      "Mean squared error for step 20: 0.238\n",
      "Mean squared error for step 30: 0.211\n",
      "Mean squared error for step 40: 0.207\n",
      "Mean squared error for step 50: 0.194\n",
      "Mean squared error for step 60: 0.190\n",
      "Mean squared error for step 70: 0.191\n",
      "Mean squared error for step 80: 0.190\n",
      "Mean squared error for step 90: 0.186\n",
      "\n",
      "Final train loss: 0.197\n",
      "Final test loss: 0.169\n"
     ]
    }
   ],
>>>>>>> df6873d1f6c46e7ac1fe2c03ecfe7d3f25aa44b2
   "source": [
    "# Format training loop\n",
    "for epoch in range(epochs):\n",
    "  batch_losses_train, batch_losses_test = [], []\n",
    "\n",
    "  # Iterate through the training data\n",
    "  for x_batch, y_batch in train_dataset:\n",
    "    with tf.GradientTape() as tape:\n",
    "      y_pred_batch = lin_reg(x_batch)\n",
    "      batch_loss = mse_loss(y_pred_batch, y_batch)\n",
    "    # Update parameters with respect to the gradient calculations\n",
    "    grads = tape.gradient(batch_loss, lin_reg.variables)\n",
    "    for g,v in zip(grads, lin_reg.variables):\n",
    "      v.assign_sub(learning_rate * g)\n",
    "    # Keep track of batch-level training performance \n",
    "    batch_losses_train.append(batch_loss)\n",
    "\n",
    "  # Iterate through the testing data\n",
    "  for x_batch, y_batch in test_dataset:\n",
    "    y_pred_batch = lin_reg(x_batch)\n",
    "    batch_loss = mse_loss(y_pred_batch, y_batch)\n",
    "    # Keep track of batch-level testing performance \n",
    "    batch_losses_test.append(batch_loss)\n",
    "\n",
    "  # Keep track of epoch-level model performance\n",
    "  train_loss = tf.reduce_mean(batch_losses_train)\n",
    "  test_loss = tf.reduce_mean(batch_losses_test)\n",
    "  train_losses.append(train_loss)\n",
    "  test_losses.append(test_loss)\n",
    "  if epoch % 10 == 0:\n",
    "    print(f'Mean squared error for step {epoch}: {train_loss.numpy():0.3f}')\n",
    "\n",
    "# Output final losses\n",
    "print(f\"\\nFinal train loss: {train_loss:0.3f}\")\n",
    "print(f\"Final test loss: {test_loss:0.3f}\")"
   ]
  },
  {
   "cell_type": "code",
<<<<<<< HEAD
   "execution_count": null,
   "metadata": {},
   "outputs": [],
=======
   "execution_count": 49,
   "metadata": {},
   "outputs": [
    {
     "data": {
      "image/png": "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",
      "text/plain": [
       "<Figure size 900x600 with 1 Axes>"
      ]
     },
     "metadata": {},
     "output_type": "display_data"
    }
   ],
>>>>>>> df6873d1f6c46e7ac1fe2c03ecfe7d3f25aa44b2
   "source": [
    "matplotlib.rcParams['figure.figsize'] = [9, 6]\n",
    "\n",
    "plt.plot(range(epochs), train_losses, label = \"Training loss\")\n",
    "plt.plot(range(epochs), test_losses, label = \"Testing loss\")\n",
    "plt.xlabel(\"Epoch\")\n",
    "plt.ylabel(\"Mean squared error loss\")\n",
    "plt.legend()\n",
    "plt.title(\"MSE loss vs training iterations\");"
   ]
  },
  {
   "cell_type": "markdown",
   "metadata": {},
   "source": [
    "## Save and export model-  tf.saved_model.save"
   ]
  },
  {
   "cell_type": "code",
   "execution_count": 50,
   "metadata": {},
   "outputs": [],
   "source": [
    "class ExportModule(tf.Module):\n",
    "  def __init__(self, model, extract_features, norm_x, norm_y):\n",
    "    # Initialize pre and postprocessing functions\n",
    "    self.model = model\n",
    "    self.extract_features = extract_features\n",
    "    self.norm_x = norm_x\n",
    "    self.norm_y = norm_y\n",
    "\n",
    "  @tf.function(input_signature=[tf.TensorSpec(shape=[None, None], dtype=tf.float32)]) \n",
    "  def __call__(self, x):\n",
    "    # Run the ExportModule for new data points\n",
    "    x = self.extract_features(x)\n",
    "    x = self.norm_x.norm(x)\n",
    "    y = self.model(x)\n",
    "    y = self.norm_y.unnorm(y)\n",
    "    return y"
   ]
  },
  {
   "cell_type": "code",
   "execution_count": 51,
   "metadata": {},
   "outputs": [],
   "source": [
    "lin_reg_export = ExportModule(model=lin_reg,\n",
    "                              extract_features=onehot_origin,\n",
    "                              norm_x=norm_x,\n",
    "                              norm_y=norm_y)"
   ]
  },
  {
   "cell_type": "code",
<<<<<<< HEAD
   "execution_count": null,
   "metadata": {},
   "outputs": [],
=======
   "execution_count": 52,
   "metadata": {},
   "outputs": [
    {
     "name": "stdout",
     "output_type": "stream",
     "text": [
      "INFO:tensorflow:Assets written to: C:\\Users\\986hi\\AppData\\Local\\Temp\\tmp_gdc796o\\lin_reg_export\\assets\n"
     ]
    },
    {
     "name": "stderr",
     "output_type": "stream",
     "text": [
      "INFO:tensorflow:Assets written to: C:\\Users\\986hi\\AppData\\Local\\Temp\\tmp_gdc796o\\lin_reg_export\\assets\n"
     ]
    }
   ],
>>>>>>> df6873d1f6c46e7ac1fe2c03ecfe7d3f25aa44b2
   "source": [
    "import tempfile\n",
    "import os\n",
    "\n",
    "models = tempfile.mkdtemp()\n",
    "save_path = os.path.join(models, 'lin_reg_export')\n",
    "tf.saved_model.save(lin_reg_export, save_path)"
   ]
  },
  {
   "cell_type": "code",
<<<<<<< HEAD
   "execution_count": null,
   "metadata": {},
   "outputs": [],
=======
   "execution_count": 53,
   "metadata": {},
   "outputs": [
    {
     "data": {
      "text/plain": [
       "array([25.859398 , 20.702232 , 19.256544 , 26.097752 , 22.305635 ,\n",
       "        6.5367813, 34.277454 , 11.979543 , 25.872007 ,  7.715678 ],\n",
       "      dtype=float32)"
      ]
     },
     "execution_count": 53,
     "metadata": {},
     "output_type": "execute_result"
    }
   ],
>>>>>>> df6873d1f6c46e7ac1fe2c03ecfe7d3f25aa44b2
   "source": [
    "lin_reg_loaded = tf.saved_model.load(save_path)\n",
    "test_preds = lin_reg_loaded(x_test)\n",
    "test_preds[:10].numpy()"
   ]
  },
  {
   "cell_type": "markdown",
   "metadata": {},
   "source": [
    "# Binary classification using Keras and csv dataframe\n",
    "This tutorial provides examples of how to load pandas DataFrames into TensorFlow.\n",
    "\n",
    "You will use a small heart disease dataset provided by the UCI Machine Learning Repository. There are several hundred rows in the CSV. Each row describes a patient, and each column describes an attribute. You will use this information to predict whether a patient has heart disease, which is a binary classification task."
   ]
  },
  {
   "cell_type": "markdown",
   "metadata": {},
   "source": [
    "## Import libraries"
   ]
  },
  {
   "cell_type": "code",
<<<<<<< HEAD
   "execution_count": 3,
=======
   "execution_count": 54,
>>>>>>> df6873d1f6c46e7ac1fe2c03ecfe7d3f25aa44b2
   "metadata": {},
   "outputs": [],
   "source": [
    "import numpy as np"
   ]
  },
  {
   "cell_type": "markdown",
   "metadata": {},
   "source": [
    "## Load datasets and planning"
   ]
  },
  {
   "cell_type": "code",
<<<<<<< HEAD
   "execution_count": 37,
=======
   "execution_count": 55,
>>>>>>> df6873d1f6c46e7ac1fe2c03ecfe7d3f25aa44b2
   "metadata": {},
   "outputs": [],
   "source": [
    "csv_file = tf.keras.utils.get_file('heart.csv', 'https://storage.googleapis.com/download.tensorflow.org/data/heart.csv')"
   ]
  },
  {
   "cell_type": "code",
<<<<<<< HEAD
   "execution_count": 38,
=======
   "execution_count": 56,
>>>>>>> df6873d1f6c46e7ac1fe2c03ecfe7d3f25aa44b2
   "metadata": {},
   "outputs": [],
   "source": [
    "df = pd.read_csv(csv_file)"
   ]
  },
  {
   "cell_type": "code",
<<<<<<< HEAD
   "execution_count": 39,
   "metadata": {},
   "outputs": [],
   "source": [
    "# df.drop('thal', inplace= True, axis =1)"
   ]
  },
  {
   "cell_type": "code",
   "execution_count": 40,
=======
   "execution_count": 57,
>>>>>>> df6873d1f6c46e7ac1fe2c03ecfe7d3f25aa44b2
   "metadata": {},
   "outputs": [
    {
     "data": {
      "text/html": [
       "<div>\n",
       "<style scoped>\n",
       "    .dataframe tbody tr th:only-of-type {\n",
       "        vertical-align: middle;\n",
       "    }\n",
       "\n",
       "    .dataframe tbody tr th {\n",
       "        vertical-align: top;\n",
       "    }\n",
       "\n",
       "    .dataframe thead th {\n",
       "        text-align: right;\n",
       "    }\n",
       "</style>\n",
       "<table border=\"1\" class=\"dataframe\">\n",
       "  <thead>\n",
       "    <tr style=\"text-align: right;\">\n",
       "      <th></th>\n",
       "      <th>age</th>\n",
       "      <th>sex</th>\n",
       "      <th>cp</th>\n",
       "      <th>trestbps</th>\n",
       "      <th>chol</th>\n",
       "      <th>fbs</th>\n",
       "      <th>restecg</th>\n",
       "      <th>thalach</th>\n",
       "      <th>exang</th>\n",
       "      <th>oldpeak</th>\n",
       "      <th>slope</th>\n",
       "      <th>ca</th>\n",
       "      <th>thal</th>\n",
       "      <th>target</th>\n",
       "    </tr>\n",
       "  </thead>\n",
       "  <tbody>\n",
       "    <tr>\n",
       "      <th>0</th>\n",
       "      <td>63</td>\n",
       "      <td>1</td>\n",
       "      <td>1</td>\n",
       "      <td>145</td>\n",
       "      <td>233</td>\n",
       "      <td>1</td>\n",
       "      <td>2</td>\n",
       "      <td>150</td>\n",
       "      <td>0</td>\n",
       "      <td>2.3</td>\n",
       "      <td>3</td>\n",
       "      <td>0</td>\n",
       "      <td>fixed</td>\n",
       "      <td>0</td>\n",
       "    </tr>\n",
       "    <tr>\n",
       "      <th>1</th>\n",
       "      <td>67</td>\n",
       "      <td>1</td>\n",
       "      <td>4</td>\n",
       "      <td>160</td>\n",
       "      <td>286</td>\n",
       "      <td>0</td>\n",
       "      <td>2</td>\n",
       "      <td>108</td>\n",
       "      <td>1</td>\n",
       "      <td>1.5</td>\n",
       "      <td>2</td>\n",
       "      <td>3</td>\n",
       "      <td>normal</td>\n",
       "      <td>1</td>\n",
       "    </tr>\n",
       "    <tr>\n",
       "      <th>2</th>\n",
       "      <td>67</td>\n",
       "      <td>1</td>\n",
       "      <td>4</td>\n",
       "      <td>120</td>\n",
       "      <td>229</td>\n",
       "      <td>0</td>\n",
       "      <td>2</td>\n",
       "      <td>129</td>\n",
       "      <td>1</td>\n",
       "      <td>2.6</td>\n",
       "      <td>2</td>\n",
       "      <td>2</td>\n",
       "      <td>reversible</td>\n",
       "      <td>0</td>\n",
       "    </tr>\n",
       "    <tr>\n",
       "      <th>3</th>\n",
       "      <td>37</td>\n",
       "      <td>1</td>\n",
       "      <td>3</td>\n",
       "      <td>130</td>\n",
       "      <td>250</td>\n",
       "      <td>0</td>\n",
       "      <td>0</td>\n",
       "      <td>187</td>\n",
       "      <td>0</td>\n",
       "      <td>3.5</td>\n",
       "      <td>3</td>\n",
       "      <td>0</td>\n",
       "      <td>normal</td>\n",
       "      <td>0</td>\n",
       "    </tr>\n",
       "  </tbody>\n",
       "</table>\n",
       "</div>"
      ],
      "text/plain": [
       "   age  sex  cp  trestbps  chol  fbs  restecg  thalach  exang  oldpeak  slope  \\\n",
       "0   63    1   1       145   233    1        2      150      0      2.3      3   \n",
       "1   67    1   4       160   286    0        2      108      1      1.5      2   \n",
       "2   67    1   4       120   229    0        2      129      1      2.6      2   \n",
       "3   37    1   3       130   250    0        0      187      0      3.5      3   \n",
       "\n",
       "   ca        thal  target  \n",
       "0   0       fixed       0  \n",
       "1   3      normal       1  \n",
       "2   2  reversible       0  \n",
       "3   0      normal       0  "
      ]
     },
<<<<<<< HEAD
     "execution_count": 40,
=======
     "execution_count": 57,
>>>>>>> df6873d1f6c46e7ac1fe2c03ecfe7d3f25aa44b2
     "metadata": {},
     "output_type": "execute_result"
    }
   ],
   "source": [
    "df.head(4)"
   ]
  },
  {
   "cell_type": "code",
<<<<<<< HEAD
   "execution_count": 41,
=======
   "execution_count": 58,
>>>>>>> df6873d1f6c46e7ac1fe2c03ecfe7d3f25aa44b2
   "metadata": {},
   "outputs": [
    {
     "data": {
      "text/plain": [
       "age           int64\n",
       "sex           int64\n",
       "cp            int64\n",
       "trestbps      int64\n",
       "chol          int64\n",
       "fbs           int64\n",
       "restecg       int64\n",
       "thalach       int64\n",
       "exang         int64\n",
       "oldpeak     float64\n",
       "slope         int64\n",
       "ca            int64\n",
       "thal         object\n",
       "target        int64\n",
       "dtype: object"
      ]
     },
<<<<<<< HEAD
     "execution_count": 41,
=======
     "execution_count": 58,
>>>>>>> df6873d1f6c46e7ac1fe2c03ecfe7d3f25aa44b2
     "metadata": {},
     "output_type": "execute_result"
    }
   ],
   "source": [
    "df.dtypes"
   ]
  },
  {
   "cell_type": "code",
<<<<<<< HEAD
   "execution_count": 42,
=======
   "execution_count": 59,
>>>>>>> df6873d1f6c46e7ac1fe2c03ecfe7d3f25aa44b2
   "metadata": {},
   "outputs": [],
   "source": [
    "target = df.pop('target')"
   ]
  },
  {
<<<<<<< HEAD
   "cell_type": "markdown",
   "metadata": {},
   "source": [
    "## Data ingestion and preprocessing\n",
    "We will create he preprocessing into the model. While you could preprocess into dataframe using your familiar frameworks like Pandas and Polaris. It is best to build in model due to below reasons.\n",
    "Why Not Preprocess in the DataFrame?\n",
    "* Data Leakage: If you compute statistics (e.g., mean/std) on the entire dataset (instead of just the training split), you risk leaking information into validation/test data.\n",
    "\n",
    "* Deployment Complexity: You’d need to reapply the same pandas preprocessing steps every time you use the model, which is error-prone.\n",
    "\n",
    "* Scalability: Manual preprocessing doesn’t work for large datasets or streaming data.\n",
    "\n",
    "Best Practice\n",
    "Use Keras preprocessing layers or TensorFlow Transform (TFT) for:\n",
    "\n",
    "* Consistency: Preprocessing logic is baked into the model.\n",
    "\n",
    "* Portability: The saved model includes preprocessing, so no extra code is needed during deployment.\n",
    "\n",
    "* Adaptability: Preprocessors automatically handle new data with the same logic."
   ]
  },
  {
   "cell_type": "code",
   "execution_count": 44,
   "metadata": {},
   "outputs": [],
   "source": [
    "# Let's create a list of columns falling onto each data type category\n",
    "binary_feature_names = ['sex', 'fbs', 'exang']\n",
    "categorical_feature_names = ['cp', 'restecg', 'slope', 'ca' \n",
    "                             , 'thal'\n",
    "                             ]\n",
    "numeric_feature_names = ['age', 'thalach', 'trestbps',  'chol', 'oldpeak']\n",
    "numeric_features = df[numeric_feature_names]\n",
    "# # Remaining will be numerical columns\n",
    "numeric_features_dict = {key: value.to_numpy()[:, tf.newaxis] for key, value in dict(numeric_features).items()}"
   ]
  },
  {
   "cell_type": "markdown",
   "metadata": {},
   "source": [
    "### Keras API\n",
    "This section uses the Keras Functional API to implement the preprocessing. You start by creating one tf.keras.Input for each column of the dataframe.\n",
    "For each input you'll apply some transformations using Keras layers and TensorFlow ops. Each feature starts as a batch of scalars (shape=(batch,)). The output for each should be a batch of tf.float32 vectors (shape=(batch, n)). The last step will concatenate all those vectors together."
   ]
  },
  {
   "cell_type": "code",
   "execution_count": 45,
   "metadata": {},
   "outputs": [],
   "source": [
    "inputs = {}\n",
    "for name, column in df.items():\n",
    "  if type(column[0]) == str:\n",
    "    dtype = tf.string\n",
    "  elif (name in categorical_feature_names or\n",
    "        name in binary_feature_names):\n",
    "    dtype = tf.int64\n",
    "  else:\n",
    "    dtype = tf.float32\n",
    "\n",
    "  inputs[name] = tf.keras.Input(shape=(1,), name=name, dtype=dtype)"
   ]
  },
  {
   "cell_type": "code",
   "execution_count": 46,
   "metadata": {},
   "outputs": [
    {
     "data": {
      "text/plain": [
       "{'age': <KerasTensor shape=(None, 1), dtype=float32, sparse=False, name=age>,\n",
       " 'sex': <KerasTensor shape=(None, 1), dtype=int64, sparse=False, name=sex>,\n",
       " 'cp': <KerasTensor shape=(None, 1), dtype=int64, sparse=False, name=cp>,\n",
       " 'trestbps': <KerasTensor shape=(None, 1), dtype=float32, sparse=False, name=trestbps>,\n",
       " 'chol': <KerasTensor shape=(None, 1), dtype=float32, sparse=False, name=chol>,\n",
       " 'fbs': <KerasTensor shape=(None, 1), dtype=int64, sparse=False, name=fbs>,\n",
       " 'restecg': <KerasTensor shape=(None, 1), dtype=int64, sparse=False, name=restecg>,\n",
       " 'thalach': <KerasTensor shape=(None, 1), dtype=float32, sparse=False, name=thalach>,\n",
       " 'exang': <KerasTensor shape=(None, 1), dtype=int64, sparse=False, name=exang>,\n",
       " 'oldpeak': <KerasTensor shape=(None, 1), dtype=float32, sparse=False, name=oldpeak>,\n",
       " 'slope': <KerasTensor shape=(None, 1), dtype=int64, sparse=False, name=slope>,\n",
       " 'ca': <KerasTensor shape=(None, 1), dtype=int64, sparse=False, name=ca>,\n",
       " 'thal': <KerasTensor shape=(None, 1), dtype=string, sparse=False, name=thal>}"
      ]
     },
     "execution_count": 46,
     "metadata": {},
     "output_type": "execute_result"
    }
   ],
   "source": [
    "inputs"
   ]
  },
  {
   "cell_type": "markdown",
   "metadata": {},
   "source": [
    "#### Binary inputs\n",
    "Since the binary inputs don't need any preprocessing, just add the vector axis, cast them to float32 and add them to the list of preprocessed inputs:"
   ]
  },
  {
   "cell_type": "code",
   "execution_count": 47,
   "metadata": {},
   "outputs": [
    {
     "data": {
      "text/plain": [
       "[<KerasTensor shape=(None, 1), dtype=int64, sparse=False, name=sex>,\n",
       " <KerasTensor shape=(None, 1), dtype=int64, sparse=False, name=fbs>,\n",
       " <KerasTensor shape=(None, 1), dtype=int64, sparse=False, name=exang>]"
      ]
     },
     "execution_count": 47,
     "metadata": {},
     "output_type": "execute_result"
    }
   ],
   "source": [
    "preprocessed = []\n",
    "\n",
    "for name in binary_feature_names:\n",
    "  inp = inputs[name]\n",
    "  preprocessed.append(inp)\n",
    "\n",
    "preprocessed"
   ]
  },
  {
   "cell_type": "markdown",
   "metadata": {},
   "source": [
    "#### Numeric inputs"
   ]
  },
  {
   "cell_type": "code",
   "execution_count": 48,
   "metadata": {},
   "outputs": [],
   "source": [
    "normalizer = tf.keras.layers.Normalization(axis=-1)\n",
    "normalizer.adapt(np.concatenate([value for key, value in sorted(numeric_features_dict.items())], axis=1))"
   ]
  },
  {
   "cell_type": "code",
   "execution_count": 49,
   "metadata": {},
   "outputs": [
    {
     "data": {
      "text/plain": [
       "[<KerasTensor shape=(None, 1), dtype=int64, sparse=False, name=sex>,\n",
       " <KerasTensor shape=(None, 1), dtype=int64, sparse=False, name=fbs>,\n",
       " <KerasTensor shape=(None, 1), dtype=int64, sparse=False, name=exang>,\n",
       " <KerasTensor shape=(None, 5), dtype=float32, sparse=False, name=keras_tensor_14>]"
      ]
     },
     "execution_count": 49,
     "metadata": {},
     "output_type": "execute_result"
    }
   ],
   "source": [
    "numeric_inputs = []\n",
    "for name in numeric_feature_names:\n",
    "  numeric_inputs.append(inputs[name])\n",
    "\n",
    "numeric_inputs = tf.keras.layers.Concatenate(axis=-1)(numeric_inputs)\n",
    "numeric_normalized = normalizer(numeric_inputs)\n",
    "\n",
    "preprocessed.append(numeric_normalized)\n",
    "\n",
    "preprocessed"
   ]
  },
  {
   "cell_type": "markdown",
   "metadata": {},
   "source": [
    "#### Categorical features"
   ]
  },
  {
   "cell_type": "code",
   "execution_count": 50,
   "metadata": {},
   "outputs": [
    {
     "name": "stdout",
     "output_type": "stream",
     "text": [
      "name: cp\n",
      "vocab: [0, 1, 2, 3, 4]\n",
      "\n",
      "name: restecg\n",
      "vocab: [0, 1, 2]\n",
      "\n",
      "name: slope\n",
      "vocab: [1, 2, 3]\n",
      "\n",
      "name: ca\n",
      "vocab: [0, 1, 2, 3]\n",
      "\n",
      "name: thal\n",
      "vocab: ['1', '2', 'fixed', 'normal', 'reversible']\n",
      "\n"
     ]
    }
   ],
   "source": [
    "for name in categorical_feature_names:\n",
    "  vocab = sorted(set(df[name]))\n",
    "  print(f'name: {name}')\n",
    "  print(f'vocab: {vocab}\\n')\n",
    "\n",
    "  if type(vocab[0]) is str:\n",
    "    lookup = tf.keras.layers.StringLookup(vocabulary=vocab, output_mode='one_hot')\n",
    "  else:\n",
    "    lookup = tf.keras.layers.IntegerLookup(vocabulary=vocab, output_mode='one_hot')\n",
    "\n",
    "  x = inputs[name]\n",
    "  x = lookup(x)\n",
    "  preprocessed.append(x)"
   ]
  },
  {
   "cell_type": "markdown",
   "metadata": {},
   "source": [
    "#### Assemble the preprocessing head"
   ]
  },
  {
   "cell_type": "code",
   "execution_count": 51,
   "metadata": {},
   "outputs": [
    {
     "data": {
      "text/plain": [
       "[<KerasTensor shape=(None, 1), dtype=int64, sparse=False, name=sex>,\n",
       " <KerasTensor shape=(None, 1), dtype=int64, sparse=False, name=fbs>,\n",
       " <KerasTensor shape=(None, 1), dtype=int64, sparse=False, name=exang>,\n",
       " <KerasTensor shape=(None, 5), dtype=float32, sparse=False, name=keras_tensor_14>,\n",
       " <KerasTensor shape=(None, 6), dtype=float32, sparse=False, name=keras_tensor_15>,\n",
       " <KerasTensor shape=(None, 4), dtype=float32, sparse=False, name=keras_tensor_16>,\n",
       " <KerasTensor shape=(None, 4), dtype=float32, sparse=False, name=keras_tensor_17>,\n",
       " <KerasTensor shape=(None, 5), dtype=float32, sparse=False, name=keras_tensor_18>,\n",
       " <KerasTensor shape=(None, 6), dtype=float32, sparse=False, name=keras_tensor_19>]"
      ]
     },
     "execution_count": 51,
     "metadata": {},
     "output_type": "execute_result"
    }
   ],
   "source": [
    "preprocessed"
   ]
  },
  {
   "cell_type": "code",
   "execution_count": 52,
   "metadata": {},
   "outputs": [
    {
     "data": {
      "text/plain": [
       "<KerasTensor shape=(None, 33), dtype=float32, sparse=False, name=keras_tensor_20>"
      ]
     },
     "execution_count": 52,
     "metadata": {},
     "output_type": "execute_result"
    }
   ],
   "source": [
    "preprocessed_result = tf.keras.layers.Concatenate(axis=1)(preprocessed)\n",
    "preprocessed_result"
   ]
  },
  {
   "cell_type": "code",
   "execution_count": 53,
   "metadata": {},
   "outputs": [],
   "source": [
    "preprocessor = tf.keras.Model(inputs, preprocessed_result)\n"
   ]
  },
  {
   "cell_type": "code",
   "execution_count": 54,
   "metadata": {},
   "outputs": [
    {
     "name": "stdout",
     "output_type": "stream",
     "text": [
      "You must install graphviz (see instructions at https://graphviz.gitlab.io/download/) for `plot_model` to work.\n"
     ]
    }
   ],
   "source": [
    "tf.keras.utils.plot_model(preprocessor, rankdir=\"LR\", show_shapes=True,  show_layer_names=True)"
   ]
  },
  {
   "cell_type": "markdown",
   "metadata": {},
   "source": [
    "## Calling preprocess layer for testing"
   ]
  },
  {
   "cell_type": "code",
   "execution_count": 55,
   "metadata": {},
   "outputs": [
    {
     "data": {
      "text/plain": [
       "<tf.Tensor: shape=(1, 33), dtype=float32, numpy=\n",
       "array([[  1.       ,   1.       ,   0.       ,   0.93384  ,  -1.8534899,\n",
       "        123.75735  ,   3.6224306,  -7.3077087,   0.       ,   0.       ,\n",
       "          1.       ,   0.       ,   0.       ,   0.       ,   0.       ,\n",
       "          0.       ,   0.       ,   1.       ,   0.       ,   0.       ,\n",
       "          0.       ,   1.       ,   0.       ,   1.       ,   0.       ,\n",
       "          0.       ,   0.       ,   0.       ,   0.       ,   0.       ,\n",
       "          1.       ,   0.       ,   0.       ]], dtype=float32)>"
      ]
     },
     "execution_count": 55,
     "metadata": {},
     "output_type": "execute_result"
    }
   ],
   "source": [
    "preprocessor(dict(df.iloc[:1]))"
   ]
  },
  {
   "cell_type": "markdown",
   "metadata": {},
   "source": [
    "## Create and train a model"
   ]
  },
  {
   "cell_type": "code",
   "execution_count": 56,
   "metadata": {},
   "outputs": [],
   "source": [
    "body = tf.keras.Sequential([\n",
    "  tf.keras.layers.Dense(10, activation='relu'),\n",
    "  tf.keras.layers.Dense(10, activation='relu'),\n",
    "  tf.keras.layers.Dense(1)\n",
    "])"
   ]
  },
  {
   "cell_type": "code",
   "execution_count": 57,
   "metadata": {},
   "outputs": [
    {
     "data": {
      "text/plain": [
       "{'age': <KerasTensor shape=(None, 1), dtype=float32, sparse=False, name=age>,\n",
       " 'sex': <KerasTensor shape=(None, 1), dtype=int64, sparse=False, name=sex>,\n",
       " 'cp': <KerasTensor shape=(None, 1), dtype=int64, sparse=False, name=cp>,\n",
       " 'trestbps': <KerasTensor shape=(None, 1), dtype=float32, sparse=False, name=trestbps>,\n",
       " 'chol': <KerasTensor shape=(None, 1), dtype=float32, sparse=False, name=chol>,\n",
       " 'fbs': <KerasTensor shape=(None, 1), dtype=int64, sparse=False, name=fbs>,\n",
       " 'restecg': <KerasTensor shape=(None, 1), dtype=int64, sparse=False, name=restecg>,\n",
       " 'thalach': <KerasTensor shape=(None, 1), dtype=float32, sparse=False, name=thalach>,\n",
       " 'exang': <KerasTensor shape=(None, 1), dtype=int64, sparse=False, name=exang>,\n",
       " 'oldpeak': <KerasTensor shape=(None, 1), dtype=float32, sparse=False, name=oldpeak>,\n",
       " 'slope': <KerasTensor shape=(None, 1), dtype=int64, sparse=False, name=slope>,\n",
       " 'ca': <KerasTensor shape=(None, 1), dtype=int64, sparse=False, name=ca>,\n",
       " 'thal': <KerasTensor shape=(None, 1), dtype=string, sparse=False, name=thal>}"
      ]
     },
     "execution_count": 57,
     "metadata": {},
     "output_type": "execute_result"
    }
   ],
   "source": [
    "inputs"
   ]
  },
  {
   "cell_type": "code",
   "execution_count": 58,
   "metadata": {},
   "outputs": [
    {
     "data": {
      "text/plain": [
       "<KerasTensor shape=(None, 33), dtype=float32, sparse=False, name=keras_tensor_21>"
      ]
     },
     "execution_count": 58,
     "metadata": {},
     "output_type": "execute_result"
    }
   ],
   "source": [
    "x = preprocessor(inputs)\n",
    "x"
   ]
  },
  {
   "cell_type": "code",
   "execution_count": 59,
   "metadata": {},
   "outputs": [
    {
     "data": {
      "text/plain": [
       "<KerasTensor shape=(None, 1), dtype=float32, sparse=False, name=keras_tensor_26>"
      ]
     },
     "execution_count": 59,
     "metadata": {},
     "output_type": "execute_result"
    }
   ],
   "source": [
    "result = body(x)\n",
    "result"
   ]
  },
  {
   "cell_type": "code",
   "execution_count": 60,
   "metadata": {},
   "outputs": [],
   "source": [
    "model = tf.keras.Model(inputs, result)\n",
    "# To understand possible problem with contructor approach\n",
    "model.compile(optimizer='adam',\n",
    "                loss=tf.keras.losses.BinaryCrossentropy(from_logits=True),\n",
    "                metrics=['accuracy'])"
   ]
  },
  {
   "cell_type": "code",
   "execution_count": 61,
   "metadata": {},
   "outputs": [
    {
     "name": "stdout",
     "output_type": "stream",
     "text": [
      "You must install graphviz (see instructions at https://graphviz.gitlab.io/download/) for `plot_model` to work.\n"
     ]
    }
   ],
   "source": [
    "tf.keras.utils.plot_model(model, show_shapes=True,  show_layer_names=True)\n"
   ]
  },
  {
   "cell_type": "code",
   "execution_count": 62,
   "metadata": {},
   "outputs": [],
   "source": [
    "SHUFFLE_BUFFER = 500\n",
    "BATCH_SIZE = 2"
   ]
  },
  {
   "cell_type": "code",
   "execution_count": 63,
   "metadata": {},
   "outputs": [
    {
     "data": {
      "text/plain": [
       "{'age': 0      63\n",
       " 1      67\n",
       " 2      67\n",
       " 3      37\n",
       " 4      41\n",
       "        ..\n",
       " 298    52\n",
       " 299    43\n",
       " 300    65\n",
       " 301    48\n",
       " 302    63\n",
       " Name: age, Length: 303, dtype: int64,\n",
       " 'sex': 0      1\n",
       " 1      1\n",
       " 2      1\n",
       " 3      1\n",
       " 4      0\n",
       "       ..\n",
       " 298    1\n",
       " 299    0\n",
       " 300    1\n",
       " 301    1\n",
       " 302    0\n",
       " Name: sex, Length: 303, dtype: int64,\n",
       " 'cp': 0      1\n",
       " 1      4\n",
       " 2      4\n",
       " 3      3\n",
       " 4      2\n",
       "       ..\n",
       " 298    1\n",
       " 299    4\n",
       " 300    4\n",
       " 301    4\n",
       " 302    4\n",
       " Name: cp, Length: 303, dtype: int64,\n",
       " 'trestbps': 0      145\n",
       " 1      160\n",
       " 2      120\n",
       " 3      130\n",
       " 4      130\n",
       "       ... \n",
       " 298    118\n",
       " 299    132\n",
       " 300    135\n",
       " 301    130\n",
       " 302    150\n",
       " Name: trestbps, Length: 303, dtype: int64,\n",
       " 'chol': 0      233\n",
       " 1      286\n",
       " 2      229\n",
       " 3      250\n",
       " 4      204\n",
       "       ... \n",
       " 298    186\n",
       " 299    341\n",
       " 300    254\n",
       " 301    256\n",
       " 302    407\n",
       " Name: chol, Length: 303, dtype: int64,\n",
       " 'fbs': 0      1\n",
       " 1      0\n",
       " 2      0\n",
       " 3      0\n",
       " 4      0\n",
       "       ..\n",
       " 298    0\n",
       " 299    1\n",
       " 300    0\n",
       " 301    1\n",
       " 302    0\n",
       " Name: fbs, Length: 303, dtype: int64,\n",
       " 'restecg': 0      2\n",
       " 1      2\n",
       " 2      2\n",
       " 3      0\n",
       " 4      2\n",
       "       ..\n",
       " 298    2\n",
       " 299    2\n",
       " 300    2\n",
       " 301    2\n",
       " 302    2\n",
       " Name: restecg, Length: 303, dtype: int64,\n",
       " 'thalach': 0      150\n",
       " 1      108\n",
       " 2      129\n",
       " 3      187\n",
       " 4      172\n",
       "       ... \n",
       " 298    190\n",
       " 299    136\n",
       " 300    127\n",
       " 301    150\n",
       " 302    154\n",
       " Name: thalach, Length: 303, dtype: int64,\n",
       " 'exang': 0      0\n",
       " 1      1\n",
       " 2      1\n",
       " 3      0\n",
       " 4      0\n",
       "       ..\n",
       " 298    0\n",
       " 299    1\n",
       " 300    0\n",
       " 301    1\n",
       " 302    0\n",
       " Name: exang, Length: 303, dtype: int64,\n",
       " 'oldpeak': 0      2.3\n",
       " 1      1.5\n",
       " 2      2.6\n",
       " 3      3.5\n",
       " 4      1.4\n",
       "       ... \n",
       " 298    0.0\n",
       " 299    3.0\n",
       " 300    2.8\n",
       " 301    0.0\n",
       " 302    4.0\n",
       " Name: oldpeak, Length: 303, dtype: float64,\n",
       " 'slope': 0      3\n",
       " 1      2\n",
       " 2      2\n",
       " 3      3\n",
       " 4      1\n",
       "       ..\n",
       " 298    2\n",
       " 299    2\n",
       " 300    2\n",
       " 301    1\n",
       " 302    2\n",
       " Name: slope, Length: 303, dtype: int64,\n",
       " 'ca': 0      0\n",
       " 1      3\n",
       " 2      2\n",
       " 3      0\n",
       " 4      0\n",
       "       ..\n",
       " 298    0\n",
       " 299    0\n",
       " 300    1\n",
       " 301    2\n",
       " 302    3\n",
       " Name: ca, Length: 303, dtype: int64,\n",
       " 'thal': 0           fixed\n",
       " 1          normal\n",
       " 2      reversible\n",
       " 3          normal\n",
       " 4          normal\n",
       "           ...    \n",
       " 298         fixed\n",
       " 299    reversible\n",
       " 300    reversible\n",
       " 301    reversible\n",
       " 302    reversible\n",
       " Name: thal, Length: 303, dtype: object}"
      ]
     },
     "execution_count": 63,
     "metadata": {},
     "output_type": "execute_result"
    }
   ],
   "source": [
    "dict(df)"
   ]
  },
  {
   "cell_type": "code",
   "execution_count": 64,
   "metadata": {},
   "outputs": [
    {
     "ename": "ValueError",
     "evalue": "Invalid dtype: object",
     "output_type": "error",
     "traceback": [
      "\u001b[1;31m---------------------------------------------------------------------------\u001b[0m",
      "\u001b[1;31mValueError\u001b[0m                                Traceback (most recent call last)",
      "Cell \u001b[1;32mIn[64], line 1\u001b[0m\n\u001b[1;32m----> 1\u001b[0m history \u001b[38;5;241m=\u001b[39m \u001b[43mmodel\u001b[49m\u001b[38;5;241;43m.\u001b[39;49m\u001b[43mfit\u001b[49m\u001b[43m(\u001b[49m\u001b[38;5;28;43mdict\u001b[39;49m\u001b[43m(\u001b[49m\u001b[43mdf\u001b[49m\u001b[43m)\u001b[49m\u001b[43m,\u001b[49m\u001b[43m \u001b[49m\u001b[43mtarget\u001b[49m\u001b[43m,\u001b[49m\u001b[43m \u001b[49m\u001b[43mepochs\u001b[49m\u001b[38;5;241;43m=\u001b[39;49m\u001b[38;5;241;43m5\u001b[39;49m\u001b[43m,\u001b[49m\u001b[43m \u001b[49m\u001b[43mbatch_size\u001b[49m\u001b[38;5;241;43m=\u001b[39;49m\u001b[43mBATCH_SIZE\u001b[49m\u001b[43m)\u001b[49m\n",
      "File \u001b[1;32m~\\AppData\\Local\\Packages\\PythonSoftwareFoundation.Python.3.12_qbz5n2kfra8p0\\LocalCache\\local-packages\\Python312\\site-packages\\keras\\src\\utils\\traceback_utils.py:122\u001b[0m, in \u001b[0;36mfilter_traceback.<locals>.error_handler\u001b[1;34m(*args, **kwargs)\u001b[0m\n\u001b[0;32m    119\u001b[0m     filtered_tb \u001b[38;5;241m=\u001b[39m _process_traceback_frames(e\u001b[38;5;241m.\u001b[39m__traceback__)\n\u001b[0;32m    120\u001b[0m     \u001b[38;5;66;03m# To get the full stack trace, call:\u001b[39;00m\n\u001b[0;32m    121\u001b[0m     \u001b[38;5;66;03m# `keras.config.disable_traceback_filtering()`\u001b[39;00m\n\u001b[1;32m--> 122\u001b[0m     \u001b[38;5;28;01mraise\u001b[39;00m e\u001b[38;5;241m.\u001b[39mwith_traceback(filtered_tb) \u001b[38;5;28;01mfrom\u001b[39;00m \u001b[38;5;28;01mNone\u001b[39;00m\n\u001b[0;32m    123\u001b[0m \u001b[38;5;28;01mfinally\u001b[39;00m:\n\u001b[0;32m    124\u001b[0m     \u001b[38;5;28;01mdel\u001b[39;00m filtered_tb\n",
      "File \u001b[1;32m~\\AppData\\Local\\Packages\\PythonSoftwareFoundation.Python.3.12_qbz5n2kfra8p0\\LocalCache\\local-packages\\Python312\\site-packages\\optree\\ops.py:752\u001b[0m, in \u001b[0;36mtree_map\u001b[1;34m(func, tree, is_leaf, none_is_leaf, namespace, *rests)\u001b[0m\n\u001b[0;32m    750\u001b[0m leaves, treespec \u001b[38;5;241m=\u001b[39m _C\u001b[38;5;241m.\u001b[39mflatten(tree, is_leaf, none_is_leaf, namespace)\n\u001b[0;32m    751\u001b[0m flat_args \u001b[38;5;241m=\u001b[39m [leaves] \u001b[38;5;241m+\u001b[39m [treespec\u001b[38;5;241m.\u001b[39mflatten_up_to(r) \u001b[38;5;28;01mfor\u001b[39;00m r \u001b[38;5;129;01min\u001b[39;00m rests]\n\u001b[1;32m--> 752\u001b[0m \u001b[38;5;28;01mreturn\u001b[39;00m \u001b[43mtreespec\u001b[49m\u001b[38;5;241;43m.\u001b[39;49m\u001b[43munflatten\u001b[49m\u001b[43m(\u001b[49m\u001b[38;5;28;43mmap\u001b[39;49m\u001b[43m(\u001b[49m\u001b[43mfunc\u001b[49m\u001b[43m,\u001b[49m\u001b[43m \u001b[49m\u001b[38;5;241;43m*\u001b[39;49m\u001b[43mflat_args\u001b[49m\u001b[43m)\u001b[49m\u001b[43m)\u001b[49m\n",
      "\u001b[1;31mValueError\u001b[0m: Invalid dtype: object"
     ]
    }
   ],
   "source": [
    "history = model.fit(dict(df), target, epochs=5, batch_size=BATCH_SIZE)"
   ]
  },
  {
   "cell_type": "markdown",
   "metadata": {},
   "source": [
    "### Using data pipeline"
   ]
  },
  {
   "cell_type": "code",
   "execution_count": 68,
   "metadata": {},
   "outputs": [],
   "source": [
    "ds = tf.data.Dataset.from_tensor_slices((\n",
    "    dict(df),\n",
    "    target\n",
    "))\n",
    "\n",
    "ds = ds.batch(BATCH_SIZE)"
   ]
  },
  {
   "cell_type": "code",
   "execution_count": 69,
   "metadata": {},
   "outputs": [
    {
     "name": "stdout",
     "output_type": "stream",
     "text": [
      "{'age': <tf.Tensor: shape=(2,), dtype=int64, numpy=array([63, 67], dtype=int64)>,\n",
      " 'ca': <tf.Tensor: shape=(2,), dtype=int64, numpy=array([0, 3], dtype=int64)>,\n",
      " 'chol': <tf.Tensor: shape=(2,), dtype=int64, numpy=array([233, 286], dtype=int64)>,\n",
      " 'cp': <tf.Tensor: shape=(2,), dtype=int64, numpy=array([1, 4], dtype=int64)>,\n",
      " 'exang': <tf.Tensor: shape=(2,), dtype=int64, numpy=array([0, 1], dtype=int64)>,\n",
      " 'fbs': <tf.Tensor: shape=(2,), dtype=int64, numpy=array([1, 0], dtype=int64)>,\n",
      " 'oldpeak': <tf.Tensor: shape=(2,), dtype=float64, numpy=array([2.3, 1.5])>,\n",
      " 'restecg': <tf.Tensor: shape=(2,), dtype=int64, numpy=array([2, 2], dtype=int64)>,\n",
      " 'sex': <tf.Tensor: shape=(2,), dtype=int64, numpy=array([1, 1], dtype=int64)>,\n",
      " 'slope': <tf.Tensor: shape=(2,), dtype=int64, numpy=array([3, 2], dtype=int64)>,\n",
      " 'thal': <tf.Tensor: shape=(2,), dtype=string, numpy=array([b'fixed', b'normal'], dtype=object)>,\n",
      " 'thalach': <tf.Tensor: shape=(2,), dtype=int64, numpy=array([150, 108], dtype=int64)>,\n",
      " 'trestbps': <tf.Tensor: shape=(2,), dtype=int64, numpy=array([145, 160], dtype=int64)>}\n",
      "\n",
      "tf.Tensor([0 1], shape=(2,), dtype=int64)\n"
     ]
    }
   ],
   "source": [
    "import pprint\n",
    "\n",
    "for x, y in ds.take(1):\n",
    "  pprint.pprint(x)\n",
    "  print()\n",
    "  print(y)"
   ]
  },
  {
   "cell_type": "code",
   "execution_count": 70,
   "metadata": {},
   "outputs": [
    {
     "name": "stdout",
     "output_type": "stream",
     "text": [
      "Epoch 1/5\n",
      "\u001b[1m152/152\u001b[0m \u001b[32m━━━━━━━━━━━━━━━━━━━━\u001b[0m\u001b[37m\u001b[0m \u001b[1m2s\u001b[0m 2ms/step - accuracy: 0.7503 - loss: 0.6387\n",
      "Epoch 2/5\n",
      "\u001b[1m152/152\u001b[0m \u001b[32m━━━━━━━━━━━━━━━━━━━━\u001b[0m\u001b[37m\u001b[0m \u001b[1m0s\u001b[0m 2ms/step - accuracy: 0.6991 - loss: 0.6270\n",
      "Epoch 3/5\n",
      "\u001b[1m152/152\u001b[0m \u001b[32m━━━━━━━━━━━━━━━━━━━━\u001b[0m\u001b[37m\u001b[0m \u001b[1m0s\u001b[0m 2ms/step - accuracy: 0.7390 - loss: 0.5598\n",
      "Epoch 4/5\n",
      "\u001b[1m152/152\u001b[0m \u001b[32m━━━━━━━━━━━━━━━━━━━━\u001b[0m\u001b[37m\u001b[0m \u001b[1m0s\u001b[0m 2ms/step - accuracy: 0.7545 - loss: 0.5055\n",
      "Epoch 5/5\n",
      "\u001b[1m152/152\u001b[0m \u001b[32m━━━━━━━━━━━━━━━━━━━━\u001b[0m\u001b[37m\u001b[0m \u001b[1m0s\u001b[0m 2ms/step - accuracy: 0.7496 - loss: 0.4606\n"
     ]
    }
   ],
   "source": [
    "history = model.fit(ds, epochs=5)"
   ]
  },
  {
=======
>>>>>>> df6873d1f6c46e7ac1fe2c03ecfe7d3f25aa44b2
   "cell_type": "code",
   "execution_count": null,
   "metadata": {},
   "outputs": [],
   "source": []
  },
  {
   "cell_type": "markdown",
   "metadata": {},
   "source": [
    "## Data ingestion and preprocessing\n",
    "We will create he preprocessing into the model. While you could preprocess into dataframe using your familiar frameworks like Pandas and Polaris. It is best to build in model due to below reasons.\n",
    "Why Not Preprocess in the DataFrame?\n",
    "* Data Leakage: If you compute statistics (e.g., mean/std) on the entire dataset (instead of just the training split), you risk leaking information into validation/test data.\n",
    "\n",
    "* Deployment Complexity: You’d need to reapply the same pandas preprocessing steps every time you use the model, which is error-prone.\n",
    "\n",
    "* Scalability: Manual preprocessing doesn’t work for large datasets or streaming data.\n",
    "\n",
    "Best Practice\n",
    "Use Keras preprocessing layers or TensorFlow Transform (TFT) for:\n",
    "\n",
    "* Consistency: Preprocessing logic is baked into the model.\n",
    "\n",
    "* Portability: The saved model includes preprocessing, so no extra code is needed during deployment.\n",
    "\n",
    "* Adaptability: Preprocessors automatically handle new data with the same logic."
   ]
  },
  {
   "cell_type": "code",
   "execution_count": 60,
   "metadata": {},
   "outputs": [],
   "source": [
    "# Let's create a list of columns falling onto each data type category\n",
    "binary_feature_names = ['sex', 'fbs', 'exang']\n",
    "categorical_feature_names = ['cp', 'restecg', 'slope', 'thal', 'ca']\n",
    "numeric_feature_names = ['age', 'thalach', 'trestbps',  'chol', 'oldpeak']\n",
    "numeric_features = df[numeric_feature_names]\n",
    "# Remaining will be numerical columns\n",
    "numeric_features_dict = {key: value.to_numpy()[:, tf.newaxis] for key, value in dict(numeric_features).items()}"
   ]
  },
  {
   "cell_type": "markdown",
   "metadata": {},
   "source": [
    "### Keras API\n",
    "This section uses the Keras Functional API to implement the preprocessing. You start by creating one tf.keras.Input for each column of the dataframe.\n",
    "For each input you'll apply some transformations using Keras layers and TensorFlow ops. Each feature starts as a batch of scalars (shape=(batch,)). The output for each should be a batch of tf.float32 vectors (shape=(batch, n)). The last step will concatenate all those vectors together."
   ]
  },
  {
   "cell_type": "code",
   "execution_count": 87,
   "metadata": {},
   "outputs": [],
   "source": [
    "inputs = {}\n",
    "for name, column in df.items():\n",
    "  if type(column[0]) == str or type(column[0]) == object:\n",
    "    dtype = tf.string\n",
    "  elif (name in categorical_feature_names or\n",
    "        name in binary_feature_names):\n",
    "    dtype = tf.int64\n",
    "  else:\n",
    "    dtype = tf.float32\n",
    "\n",
    "  inputs[name] = tf.keras.Input(shape=(1,), name=name, dtype=dtype)"
   ]
  },
  {
   "cell_type": "code",
   "execution_count": 88,
   "metadata": {},
   "outputs": [
    {
     "data": {
      "text/plain": [
       "{'age': <KerasTensor shape=(None, 1), dtype=float32, sparse=False, name=age>,\n",
       " 'sex': <KerasTensor shape=(None, 1), dtype=int64, sparse=False, name=sex>,\n",
       " 'cp': <KerasTensor shape=(None, 1), dtype=int64, sparse=False, name=cp>,\n",
       " 'trestbps': <KerasTensor shape=(None, 1), dtype=float32, sparse=False, name=trestbps>,\n",
       " 'chol': <KerasTensor shape=(None, 1), dtype=float32, sparse=False, name=chol>,\n",
       " 'fbs': <KerasTensor shape=(None, 1), dtype=int64, sparse=False, name=fbs>,\n",
       " 'restecg': <KerasTensor shape=(None, 1), dtype=int64, sparse=False, name=restecg>,\n",
       " 'thalach': <KerasTensor shape=(None, 1), dtype=float32, sparse=False, name=thalach>,\n",
       " 'exang': <KerasTensor shape=(None, 1), dtype=int64, sparse=False, name=exang>,\n",
       " 'oldpeak': <KerasTensor shape=(None, 1), dtype=float32, sparse=False, name=oldpeak>,\n",
       " 'slope': <KerasTensor shape=(None, 1), dtype=int64, sparse=False, name=slope>,\n",
       " 'ca': <KerasTensor shape=(None, 1), dtype=int64, sparse=False, name=ca>,\n",
       " 'thal': <KerasTensor shape=(None, 1), dtype=string, sparse=False, name=thal>}"
      ]
     },
     "execution_count": 88,
     "metadata": {},
     "output_type": "execute_result"
    }
   ],
   "source": [
    "inputs"
   ]
  },
  {
   "cell_type": "markdown",
   "metadata": {},
   "source": [
    "#### Binary inputs"
   ]
  },
  {
   "cell_type": "code",
   "execution_count": 89,
   "metadata": {},
   "outputs": [
    {
     "data": {
      "text/plain": [
       "[<KerasTensor shape=(None, 1), dtype=int64, sparse=False, name=sex>,\n",
       " <KerasTensor shape=(None, 1), dtype=int64, sparse=False, name=fbs>,\n",
       " <KerasTensor shape=(None, 1), dtype=int64, sparse=False, name=exang>]"
      ]
     },
     "execution_count": 89,
     "metadata": {},
     "output_type": "execute_result"
    }
   ],
   "source": [
    "preprocessed = []\n",
    "\n",
    "for name in binary_feature_names:\n",
    "  inp = inputs[name]\n",
    "  preprocessed.append(inp)\n",
    "\n",
    "preprocessed"
   ]
  },
  {
   "cell_type": "markdown",
   "metadata": {},
   "source": [
    "#### Numeric inputs"
   ]
  },
  {
   "cell_type": "code",
   "execution_count": 90,
   "metadata": {},
   "outputs": [],
   "source": [
    "normalizer = tf.keras.layers.Normalization(axis=-1)\n",
    "normalizer.adapt(np.concatenate([value for key, value in sorted(numeric_features_dict.items())], axis=1))"
   ]
  },
  {
   "cell_type": "code",
   "execution_count": 91,
   "metadata": {},
   "outputs": [
    {
     "data": {
      "text/plain": [
       "[<KerasTensor shape=(None, 1), dtype=int64, sparse=False, name=sex>,\n",
       " <KerasTensor shape=(None, 1), dtype=int64, sparse=False, name=fbs>,\n",
       " <KerasTensor shape=(None, 1), dtype=int64, sparse=False, name=exang>,\n",
       " <KerasTensor shape=(None, 5), dtype=float32, sparse=False, name=keras_tensor_15>]"
      ]
     },
     "execution_count": 91,
     "metadata": {},
     "output_type": "execute_result"
    }
   ],
   "source": [
    "numeric_inputs = []\n",
    "for name in numeric_feature_names:\n",
    "  numeric_inputs.append(inputs[name])\n",
    "\n",
    "numeric_inputs = tf.keras.layers.Concatenate(axis=-1)(numeric_inputs)\n",
    "numeric_normalized = normalizer(numeric_inputs)\n",
    "\n",
    "preprocessed.append(numeric_normalized)\n",
    "\n",
    "preprocessed"
   ]
  },
  {
   "cell_type": "markdown",
   "metadata": {},
   "source": [
    "#### Categorical features"
   ]
  },
  {
   "cell_type": "code",
   "execution_count": 92,
   "metadata": {},
   "outputs": [
    {
     "data": {
      "text/plain": [
       "<tf.Tensor: shape=(5, 4), dtype=int64, numpy=\n",
       "array([[0, 0, 0, 1],\n",
       "       [0, 1, 0, 0],\n",
       "       [0, 1, 0, 0],\n",
       "       [0, 0, 1, 0],\n",
       "       [1, 0, 0, 0]], dtype=int64)>"
      ]
     },
     "execution_count": 92,
     "metadata": {},
     "output_type": "execute_result"
    }
   ],
   "source": [
    "vocab = ['a','b','c']\n",
    "lookup = tf.keras.layers.StringLookup(vocabulary=vocab, output_mode='one_hot')\n",
    "lookup(['c','a','a','b','zzz'])"
   ]
  },
  {
   "cell_type": "code",
   "execution_count": 93,
   "metadata": {},
   "outputs": [
    {
     "data": {
      "text/plain": [
       "<tf.Tensor: shape=(3, 5), dtype=int64, numpy=\n",
       "array([[1, 0, 0, 0, 0],\n",
       "       [0, 0, 1, 0, 0],\n",
       "       [0, 1, 0, 0, 0]], dtype=int64)>"
      ]
     },
     "execution_count": 93,
     "metadata": {},
     "output_type": "execute_result"
    }
   ],
   "source": [
    "vocab = [1,4,7,99]\n",
    "lookup = tf.keras.layers.IntegerLookup(vocabulary=vocab, output_mode='one_hot')\n",
    "\n",
    "lookup([-1,4,1])"
   ]
  },
  {
   "cell_type": "code",
   "execution_count": 94,
   "metadata": {},
   "outputs": [
    {
     "name": "stdout",
     "output_type": "stream",
     "text": [
      "name: cp\n",
      "vocab: [0, 1, 2, 3, 4]\n",
      "\n",
      "name: restecg\n",
      "vocab: [0, 1, 2]\n",
      "\n",
      "name: slope\n",
      "vocab: [1, 2, 3]\n",
      "\n",
      "name: thal\n",
      "vocab: ['1', '2', 'fixed', 'normal', 'reversible']\n",
      "\n",
      "name: ca\n",
      "vocab: [0, 1, 2, 3]\n",
      "\n"
     ]
    }
   ],
   "source": [
    "for name in categorical_feature_names:\n",
    "  vocab = sorted(set(df[name]))\n",
    "  print(f'name: {name}')\n",
    "  print(f'vocab: {vocab}\\n')\n",
    "\n",
    "  if type(vocab[0]) is str:\n",
    "    lookup = tf.keras.layers.StringLookup(vocabulary=vocab, output_mode='one_hot')\n",
    "  else:\n",
    "    lookup = tf.keras.layers.IntegerLookup(vocabulary=vocab, output_mode='one_hot')\n",
    "\n",
    "  x = inputs[name]\n",
    "  x = lookup(x)\n",
    "  preprocessed.append(x)"
   ]
  },
  {
   "cell_type": "markdown",
   "metadata": {},
   "source": [
    "#### Assemble the preprocessing head"
   ]
  },
  {
   "cell_type": "code",
   "execution_count": 95,
   "metadata": {},
   "outputs": [
    {
     "data": {
      "text/plain": [
       "[<KerasTensor shape=(None, 1), dtype=int64, sparse=False, name=sex>,\n",
       " <KerasTensor shape=(None, 1), dtype=int64, sparse=False, name=fbs>,\n",
       " <KerasTensor shape=(None, 1), dtype=int64, sparse=False, name=exang>,\n",
       " <KerasTensor shape=(None, 5), dtype=float32, sparse=False, name=keras_tensor_15>,\n",
       " <KerasTensor shape=(None, 6), dtype=float32, sparse=False, name=keras_tensor_16>,\n",
       " <KerasTensor shape=(None, 4), dtype=float32, sparse=False, name=keras_tensor_17>,\n",
       " <KerasTensor shape=(None, 4), dtype=float32, sparse=False, name=keras_tensor_18>,\n",
       " <KerasTensor shape=(None, 6), dtype=float32, sparse=False, name=keras_tensor_19>,\n",
       " <KerasTensor shape=(None, 5), dtype=float32, sparse=False, name=keras_tensor_20>]"
      ]
     },
     "execution_count": 95,
     "metadata": {},
     "output_type": "execute_result"
    }
   ],
   "source": [
    "preprocessed"
   ]
  },
  {
   "cell_type": "code",
   "execution_count": 96,
   "metadata": {},
   "outputs": [
    {
     "data": {
      "text/plain": [
       "<KerasTensor shape=(None, 33), dtype=float32, sparse=False, name=keras_tensor_21>"
      ]
     },
     "execution_count": 96,
     "metadata": {},
     "output_type": "execute_result"
    }
   ],
   "source": [
    "preprocessed_result = tf.keras.layers.Concatenate(axis=1)(preprocessed)\n",
    "preprocessed_result"
   ]
  },
  {
   "cell_type": "code",
   "execution_count": 97,
   "metadata": {},
   "outputs": [],
   "source": [
    "preprocessor = tf.keras.Model(inputs, preprocessed_result)\n"
   ]
  },
  {
   "cell_type": "code",
   "execution_count": 98,
   "metadata": {},
   "outputs": [
    {
     "name": "stdout",
     "output_type": "stream",
     "text": [
      "You must install graphviz (see instructions at https://graphviz.gitlab.io/download/) for `plot_model` to work.\n"
     ]
    }
   ],
   "source": [
    "tf.keras.utils.plot_model(preprocessor, rankdir=\"LR\", show_shapes=True,  show_layer_names=True)"
   ]
  },
  {
   "cell_type": "markdown",
   "metadata": {},
   "source": [
    "## Calling preprocess layer for testing"
   ]
  },
  {
   "cell_type": "code",
   "execution_count": 99,
   "metadata": {},
   "outputs": [
    {
     "data": {
      "text/plain": [
       "<tf.Tensor: shape=(1, 33), dtype=float32, numpy=\n",
       "array([[  1.       ,   1.       ,   0.       ,   0.93384  ,  -1.8534899,\n",
       "        123.75735  ,   3.6224306,  -7.3077087,   0.       ,   0.       ,\n",
       "          1.       ,   0.       ,   0.       ,   0.       ,   0.       ,\n",
       "          0.       ,   0.       ,   1.       ,   0.       ,   0.       ,\n",
       "          0.       ,   1.       ,   0.       ,   0.       ,   0.       ,\n",
       "          1.       ,   0.       ,   0.       ,   0.       ,   1.       ,\n",
       "          0.       ,   0.       ,   0.       ]], dtype=float32)>"
      ]
     },
     "execution_count": 99,
     "metadata": {},
     "output_type": "execute_result"
    }
   ],
   "source": [
    "preprocessor(dict(df.iloc[:1]))"
   ]
  },
  {
   "cell_type": "markdown",
   "metadata": {},
   "source": [
    "## Create and train a model"
   ]
  },
  {
   "cell_type": "code",
   "execution_count": 100,
   "metadata": {},
   "outputs": [],
   "source": [
    "body = tf.keras.Sequential([\n",
    "  tf.keras.layers.Dense(10, activation='relu'),\n",
    "  tf.keras.layers.Dense(10, activation='relu'),\n",
    "  tf.keras.layers.Dense(1)\n",
    "])"
   ]
  },
  {
   "cell_type": "code",
   "execution_count": 101,
   "metadata": {},
   "outputs": [
    {
     "data": {
      "text/plain": [
       "{'age': <KerasTensor shape=(None, 1), dtype=float32, sparse=False, name=age>,\n",
       " 'sex': <KerasTensor shape=(None, 1), dtype=int64, sparse=False, name=sex>,\n",
       " 'cp': <KerasTensor shape=(None, 1), dtype=int64, sparse=False, name=cp>,\n",
       " 'trestbps': <KerasTensor shape=(None, 1), dtype=float32, sparse=False, name=trestbps>,\n",
       " 'chol': <KerasTensor shape=(None, 1), dtype=float32, sparse=False, name=chol>,\n",
       " 'fbs': <KerasTensor shape=(None, 1), dtype=int64, sparse=False, name=fbs>,\n",
       " 'restecg': <KerasTensor shape=(None, 1), dtype=int64, sparse=False, name=restecg>,\n",
       " 'thalach': <KerasTensor shape=(None, 1), dtype=float32, sparse=False, name=thalach>,\n",
       " 'exang': <KerasTensor shape=(None, 1), dtype=int64, sparse=False, name=exang>,\n",
       " 'oldpeak': <KerasTensor shape=(None, 1), dtype=float32, sparse=False, name=oldpeak>,\n",
       " 'slope': <KerasTensor shape=(None, 1), dtype=int64, sparse=False, name=slope>,\n",
       " 'ca': <KerasTensor shape=(None, 1), dtype=int64, sparse=False, name=ca>,\n",
       " 'thal': <KerasTensor shape=(None, 1), dtype=string, sparse=False, name=thal>}"
      ]
     },
     "execution_count": 101,
     "metadata": {},
     "output_type": "execute_result"
    }
   ],
   "source": [
    "inputs"
   ]
  },
  {
   "cell_type": "code",
   "execution_count": 102,
   "metadata": {},
   "outputs": [
    {
     "data": {
      "text/plain": [
       "<KerasTensor shape=(None, 33), dtype=float32, sparse=False, name=keras_tensor_22>"
      ]
     },
     "execution_count": 102,
     "metadata": {},
     "output_type": "execute_result"
    }
   ],
   "source": [
    "x = preprocessor(inputs)\n",
    "x"
   ]
  },
  {
   "cell_type": "code",
   "execution_count": 103,
   "metadata": {},
   "outputs": [
    {
     "data": {
      "text/plain": [
       "<KerasTensor shape=(None, 1), dtype=float32, sparse=False, name=keras_tensor_27>"
      ]
     },
     "execution_count": 103,
     "metadata": {},
     "output_type": "execute_result"
    }
   ],
   "source": [
    "result = body(x)\n",
    "result"
   ]
  },
  {
   "cell_type": "code",
   "execution_count": 104,
   "metadata": {},
   "outputs": [],
   "source": [
    "model = tf.keras.Model(inputs, result)\n",
    "\n",
    "model.compile(optimizer='adam',\n",
    "                loss=tf.keras.losses.BinaryCrossentropy(from_logits=True),\n",
    "                metrics=['accuracy'])"
   ]
  },
  {
   "cell_type": "code",
   "execution_count": 105,
   "metadata": {},
   "outputs": [
    {
     "name": "stdout",
     "output_type": "stream",
     "text": [
      "You must install graphviz (see instructions at https://graphviz.gitlab.io/download/) for `plot_model` to work.\n"
     ]
    }
   ],
   "source": [
    "tf.keras.utils.plot_model(model, show_shapes=True,  show_layer_names=True)\n"
   ]
  },
  {
   "cell_type": "code",
   "execution_count": 106,
   "metadata": {},
   "outputs": [],
   "source": [
    "SHUFFLE_BUFFER = 500\n",
    "BATCH_SIZE = 2"
   ]
  },
  {
   "cell_type": "code",
   "execution_count": 107,
   "metadata": {},
   "outputs": [
    {
     "ename": "ValueError",
     "evalue": "Invalid dtype: object",
     "output_type": "error",
     "traceback": [
      "\u001b[1;31m---------------------------------------------------------------------------\u001b[0m",
      "\u001b[1;31mValueError\u001b[0m                                Traceback (most recent call last)",
      "Cell \u001b[1;32mIn[107], line 1\u001b[0m\n\u001b[1;32m----> 1\u001b[0m history \u001b[38;5;241m=\u001b[39m \u001b[43mmodel\u001b[49m\u001b[38;5;241;43m.\u001b[39;49m\u001b[43mfit\u001b[49m\u001b[43m(\u001b[49m\u001b[38;5;28;43mdict\u001b[39;49m\u001b[43m(\u001b[49m\u001b[43mdf\u001b[49m\u001b[43m)\u001b[49m\u001b[43m,\u001b[49m\u001b[43m \u001b[49m\u001b[43mtarget\u001b[49m\u001b[43m,\u001b[49m\u001b[43m \u001b[49m\u001b[43mepochs\u001b[49m\u001b[38;5;241;43m=\u001b[39;49m\u001b[38;5;241;43m5\u001b[39;49m\u001b[43m,\u001b[49m\u001b[43m \u001b[49m\u001b[43mbatch_size\u001b[49m\u001b[38;5;241;43m=\u001b[39;49m\u001b[43mBATCH_SIZE\u001b[49m\u001b[43m)\u001b[49m\n",
      "File \u001b[1;32m~\\AppData\\Local\\Packages\\PythonSoftwareFoundation.Python.3.12_qbz5n2kfra8p0\\LocalCache\\local-packages\\Python312\\site-packages\\keras\\src\\utils\\traceback_utils.py:122\u001b[0m, in \u001b[0;36mfilter_traceback.<locals>.error_handler\u001b[1;34m(*args, **kwargs)\u001b[0m\n\u001b[0;32m    119\u001b[0m     filtered_tb \u001b[38;5;241m=\u001b[39m _process_traceback_frames(e\u001b[38;5;241m.\u001b[39m__traceback__)\n\u001b[0;32m    120\u001b[0m     \u001b[38;5;66;03m# To get the full stack trace, call:\u001b[39;00m\n\u001b[0;32m    121\u001b[0m     \u001b[38;5;66;03m# `keras.config.disable_traceback_filtering()`\u001b[39;00m\n\u001b[1;32m--> 122\u001b[0m     \u001b[38;5;28;01mraise\u001b[39;00m e\u001b[38;5;241m.\u001b[39mwith_traceback(filtered_tb) \u001b[38;5;28;01mfrom\u001b[39;00m \u001b[38;5;28;01mNone\u001b[39;00m\n\u001b[0;32m    123\u001b[0m \u001b[38;5;28;01mfinally\u001b[39;00m:\n\u001b[0;32m    124\u001b[0m     \u001b[38;5;28;01mdel\u001b[39;00m filtered_tb\n",
      "File \u001b[1;32m~\\AppData\\Local\\Packages\\PythonSoftwareFoundation.Python.3.12_qbz5n2kfra8p0\\LocalCache\\local-packages\\Python312\\site-packages\\optree\\ops.py:752\u001b[0m, in \u001b[0;36mtree_map\u001b[1;34m(func, tree, is_leaf, none_is_leaf, namespace, *rests)\u001b[0m\n\u001b[0;32m    750\u001b[0m leaves, treespec \u001b[38;5;241m=\u001b[39m _C\u001b[38;5;241m.\u001b[39mflatten(tree, is_leaf, none_is_leaf, namespace)\n\u001b[0;32m    751\u001b[0m flat_args \u001b[38;5;241m=\u001b[39m [leaves] \u001b[38;5;241m+\u001b[39m [treespec\u001b[38;5;241m.\u001b[39mflatten_up_to(r) \u001b[38;5;28;01mfor\u001b[39;00m r \u001b[38;5;129;01min\u001b[39;00m rests]\n\u001b[1;32m--> 752\u001b[0m \u001b[38;5;28;01mreturn\u001b[39;00m \u001b[43mtreespec\u001b[49m\u001b[38;5;241;43m.\u001b[39;49m\u001b[43munflatten\u001b[49m\u001b[43m(\u001b[49m\u001b[38;5;28;43mmap\u001b[39;49m\u001b[43m(\u001b[49m\u001b[43mfunc\u001b[49m\u001b[43m,\u001b[49m\u001b[43m \u001b[49m\u001b[38;5;241;43m*\u001b[39;49m\u001b[43mflat_args\u001b[49m\u001b[43m)\u001b[49m\u001b[43m)\u001b[49m\n",
      "\u001b[1;31mValueError\u001b[0m: Invalid dtype: object"
     ]
    }
   ],
   "source": [
    "history = model.fit(dict(df), target, epochs=5, batch_size=BATCH_SIZE)"
   ]
  },
  {
   "cell_type": "markdown",
   "metadata": {},
   "source": []
  }
 ],
 "metadata": {
  "kernelspec": {
   "display_name": "Python 3",
   "language": "python",
   "name": "python3"
  },
  "language_info": {
   "codemirror_mode": {
    "name": "ipython",
    "version": 3
   },
   "file_extension": ".py",
   "mimetype": "text/x-python",
   "name": "python",
   "nbconvert_exporter": "python",
   "pygments_lexer": "ipython3",
   "version": "3.12.8"
  }
 },
 "nbformat": 4,
 "nbformat_minor": 2
}
