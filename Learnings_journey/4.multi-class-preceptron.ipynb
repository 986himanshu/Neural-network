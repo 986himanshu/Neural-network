{
 "cells": [
  {
   "cell_type": "code",
   "execution_count": 1,
   "metadata": {},
   "outputs": [],
   "source": [
    "import numpy as np\n",
    "import pandas as pd"
   ]
  },
  {
   "cell_type": "code",
   "execution_count": 4,
   "metadata": {},
   "outputs": [],
   "source": [
    "class Perceptron():\n",
    "    \"\"\"\n",
    "    Perceptron that supports multiclass classification via one-vs-rest\n",
    "    and unseparable classes via the pocket algorithm\n",
    "    \"\"\"\n",
    "\n",
    "    def __init__(self, W = None, y_classes = None):\n",
    "        \"\"\"\n",
    "        Optionally initialize this perceptron with an array of weights and an array of target classes\n",
    "\n",
    "        :param W: 2-D array where column k is the weight vector associated with class k\n",
    "        :param y_classes: 1-D array of y classes\n",
    "        \"\"\"\n",
    "\n",
    "        self.W = W\n",
    "        self.y_classes = y_classes\n",
    "\n",
    "    def fit(self, X, y, MAXUPDATES=1000, seed=None, verbose=False):\n",
    "        \"\"\"\n",
    "        Fit perceptron on X, y using one-vs-rest and the pocket algorithm\n",
    "        y should have 2 or more distinct classes\n",
    "\n",
    "        :param X: 2-D array with >= 1 column of real-valued features\n",
    "        :param y: 1-D array of labels; should have two distinct classes\n",
    "        :param MAXUPDATES: how many weight updates to make before quitting, for each submodel\n",
    "        :param seed: optional random seed\n",
    "        :param verbose: print progress?\n",
    "        :return: None; set self.y_classes and self.W\n",
    "        \"\"\"\n",
    "\n",
    "        # Validate X dimensionality\n",
    "        if X.ndim != 2:\n",
    "            raise AssertionError(f\"X should have 2 dimensions but it has {X.ndim}\")\n",
    "\n",
    "        # Determine/validate y_classes\n",
    "        y_classes = np.unique(y)\n",
    "        if len(y_classes) < 2:\n",
    "            AssertionError(\"y should have at least 2 distinct classes\")\n",
    "\n",
    "        # Initialize generator, X1, W\n",
    "        gen = np.random.default_rng(seed)\n",
    "        X1 = np.insert(X, X.shape[1], 1, axis=1)\n",
    "        W = np.full(shape=(X1.shape[1], len(y_classes)), fill_value=np.nan)\n",
    "\n",
    "        # Build a binary model for each class in y_classes\n",
    "        for k in range(len(y_classes)):\n",
    "            if verbose:\n",
    "                print(f\"Training binary classifier {k + 1} of {len(y_classes)}: '{y_classes[k]} vs not {y_classes[k]}'\")\n",
    "\n",
    "            # Initialize parameters for this submodel\n",
    "            yk = (y == y_classes[k]).astype('int64')\n",
    "            w_current = np.repeat(0, X1.shape[1])\n",
    "            w_pocket = np.repeat(0, X1.shape[1])\n",
    "            accuracy_current = 0\n",
    "            accuracy_pocket = 0\n",
    "\n",
    "            # Iterate\n",
    "            for i in range(MAXUPDATES):\n",
    "                yhat = (np.sign(X1.dot(w_current)) + 1) / 2\n",
    "                accuracy_current = np.mean(yhat == yk)\n",
    "                if accuracy_current == 1:\n",
    "                    w_pocket = w_current\n",
    "                    accuracy_pocket = accuracy_current\n",
    "                    break\n",
    "                elif accuracy_current > accuracy_pocket:\n",
    "                    w_pocket = w_current\n",
    "                    accuracy_pocket = accuracy_current\n",
    "\n",
    "                # Identify a random misclassified training sample and use it to update w_current\n",
    "                missclassified_idxs = np.nonzero(yhat != yk)[0]\n",
    "                p = gen.choice(missclassified_idxs, size=1)[0]\n",
    "                w_current = w_current + (X1[p] if yk[p] == 1 else -X1[p])\n",
    "\n",
    "            # Output progress\n",
    "            if verbose:\n",
    "                print(f'Best hyperplane found for {y_classes[k]} after {i+1} iterations | acurracy: {accuracy_pocket}')\n",
    "\n",
    "            # Update column k of W matrix\n",
    "            W[:, k] = w_pocket\n",
    "\n",
    "        # Update self.w, self.y_classes\n",
    "        self.W = W\n",
    "        self.y_classes = y_classes\n",
    "\n",
    "    def predict(self, X):\n",
    "        \"\"\"\n",
    "        Predict on X using this object's W.\n",
    "        Use one-vs-rest method to resolve binary predictions (A vs not A, B vs not B, ...)\n",
    "        to a multiclass prediction.\n",
    "\n",
    "        :param X: 2-D array with >= 1 column of real-valued features\n",
    "        :return: 1-D array of predicted class labels\n",
    "        \"\"\"\n",
    "\n",
    "        if self.W is None:\n",
    "            raise AssertionError(f\"Need to fit() before predict()\")\n",
    "        if X.ndim != 2:\n",
    "            raise AssertionError(f\"X should have 2 dimensions but it has {X.ndim}\")\n",
    "        if X.shape[1] != len(self.W) - 1:\n",
    "            raise AssertionError(f\"Perceptron was fit on X with {len(self.W) - 1} columns but this X has {X.shape[1]} columns\")\n",
    "\n",
    "        X1 = np.insert(X, X.shape[1], 1, axis=1)\n",
    "        signed_dists = X1.dot(self.W) / np.sqrt(np.sum(self.W ** 2, axis=0))\n",
    "        yhat = np.argmax(signed_dists, axis=1)\n",
    "        preds = self.y_classes[yhat]\n",
    "\n",
    "        return preds\n"
   ]
  },
  {
   "cell_type": "code",
   "execution_count": 6,
   "metadata": {},
   "outputs": [
    {
     "name": "stderr",
     "output_type": "stream",
     "text": [
      "<>:4: SyntaxWarning: invalid escape sequence '\\d'\n",
      "<>:5: SyntaxWarning: invalid escape sequence '\\d'\n",
      "<>:4: SyntaxWarning: invalid escape sequence '\\d'\n",
      "<>:5: SyntaxWarning: invalid escape sequence '\\d'\n",
      "C:\\Users\\986hi\\AppData\\Local\\Temp\\ipykernel_3908\\1561833533.py:4: SyntaxWarning: invalid escape sequence '\\d'\n",
      "  mnist_train = pd.read_csv('..\\data\\mnist_train.csv')\n",
      "C:\\Users\\986hi\\AppData\\Local\\Temp\\ipykernel_3908\\1561833533.py:5: SyntaxWarning: invalid escape sequence '\\d'\n",
      "  mnist_test = pd.read_csv('..\\data\\mnist_test.csv')\n"
     ]
    }
   ],
   "source": [
    "# === Test ============================================================================================\n",
    "\n",
    "### MNIST\n",
    "mnist_train = pd.read_csv('..\\data\\mnist_train.csv')\n",
    "mnist_test = pd.read_csv('..\\data\\mnist_test.csv')\n"
   ]
  },
  {
   "cell_type": "code",
   "execution_count": 7,
   "metadata": {},
   "outputs": [],
   "source": [
    "p = Perceptron()\n"
   ]
  },
  {
   "cell_type": "code",
   "execution_count": null,
   "metadata": {},
   "outputs": [],
   "source": [
    "X1 = np.insert(X, X.shape[1], 1, axis=1)\n",
    "        W = np.full(shape=(X1.shape[1], len(y_classes)), fill_value=np.nan)"
   ]
  },
  {
   "cell_type": "code",
   "execution_count": null,
   "metadata": {},
   "outputs": [],
   "source": [
    "p.fit(\n",
    "    X = mnist_train.drop(columns='label').to_numpy(),\n",
    "    y = mnist_train.label.to_numpy(),\n",
    "    MAXUPDATES = 100,\n",
    "    seed = 2021,\n",
    "    verbose = True\n",
    ")\n",
    "\n",
    "# Predict and score on mnist_test\n",
    "test_preds = p.predict(X = mnist_test.drop(columns='label').to_numpy())\n",
    "np.mean(test_preds == mnist_test.label.to_numpy())"
   ]
  },
  {
   "cell_type": "code",
   "execution_count": 8,
   "metadata": {},
   "outputs": [],
   "source": [
    "X = mnist_train.drop(columns='label').to_numpy()"
   ]
  },
  {
   "cell_type": "code",
   "execution_count": 9,
   "metadata": {},
   "outputs": [
    {
     "data": {
      "text/plain": [
       "(50000, 784)"
      ]
     },
     "execution_count": 9,
     "metadata": {},
     "output_type": "execute_result"
    }
   ],
   "source": [
    "X.shape"
   ]
  },
  {
   "cell_type": "code",
   "execution_count": null,
   "metadata": {},
   "outputs": [],
   "source": []
  },
  {
   "cell_type": "code",
   "execution_count": 11,
   "metadata": {},
   "outputs": [
    {
     "data": {
      "text/plain": [
       "(50000, 785)"
      ]
     },
     "execution_count": 11,
     "metadata": {},
     "output_type": "execute_result"
    }
   ],
   "source": [
    "X1 = np.insert(X, X.shape[1], 1, axis=1)\n",
    "X1.shape"
   ]
  },
  {
   "cell_type": "code",
   "execution_count": 18,
   "metadata": {},
   "outputs": [
    {
     "name": "stdout",
     "output_type": "stream",
     "text": [
      "[[0 0 0 ... 0 0 0]\n",
      " [0 0 0 ... 0 0 0]\n",
      " [0 0 0 ... 0 0 0]\n",
      " ...\n",
      " [0 0 0 ... 0 0 0]\n",
      " [0 0 0 ... 0 0 0]\n",
      " [0 0 0 ... 0 0 0]]\n",
      "[[0 0 0 ... 0 0 1]\n",
      " [0 0 0 ... 0 0 1]\n",
      " [0 0 0 ... 0 0 1]\n",
      " ...\n",
      " [0 0 0 ... 0 0 1]\n",
      " [0 0 0 ... 0 0 1]\n",
      " [0 0 0 ... 0 0 1]]\n"
     ]
    }
   ],
   "source": [
    "\n",
    "print(X)\n",
    "print(X1)"
   ]
  },
  {
   "cell_type": "code",
   "execution_count": 14,
   "metadata": {},
   "outputs": [],
   "source": [
    " y = mnist_train.label.to_numpy()\n",
    "y_classes = np.unique(y)"
   ]
  },
  {
   "cell_type": "code",
   "execution_count": 20,
   "metadata": {},
   "outputs": [
    {
     "data": {
      "text/plain": [
       "(785, 10)"
      ]
     },
     "execution_count": 20,
     "metadata": {},
     "output_type": "execute_result"
    }
   ],
   "source": [
    "W = np.full(shape=(X1.shape[1], len(y_classes)), fill_value=np.nan)\n",
    "W.shape"
   ]
  },
  {
   "cell_type": "code",
   "execution_count": null,
   "metadata": {},
   "outputs": [],
   "source": []
  }
 ],
 "metadata": {
  "kernelspec": {
   "display_name": "Python 3",
   "language": "python",
   "name": "python3"
  },
  "language_info": {
   "codemirror_mode": {
    "name": "ipython",
    "version": 3
   },
   "file_extension": ".py",
   "mimetype": "text/x-python",
   "name": "python",
   "nbconvert_exporter": "python",
   "pygments_lexer": "ipython3",
   "version": "3.12.8"
  }
 },
 "nbformat": 4,
 "nbformat_minor": 2
}
